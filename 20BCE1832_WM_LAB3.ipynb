{
  "nbformat": 4,
  "nbformat_minor": 0,
  "metadata": {
    "colab": {
      "provenance": []
    },
    "kernelspec": {
      "name": "python3",
      "display_name": "Python 3"
    },
    "language_info": {
      "name": "python"
    }
  },
  "cells": [
    {
      "cell_type": "markdown",
      "source": [
        "**NAME: HARINI S\n",
        "REGISTER NUMBER: 20BCE1832\n",
        "COURSE: WEB MINING LAB\n",
        "FACULTY: Dr Bhuvaneshwari A**"
      ],
      "metadata": {
        "id": "-Oyobu2D3cTr"
      }
    },
    {
      "cell_type": "markdown",
      "source": [
        "-------------------------------------------------------------"
      ],
      "metadata": {
        "id": "oKjtvL2b3wLv"
      }
    },
    {
      "cell_type": "markdown",
      "source": [
        "**PART A**\n",
        "1.Build the inverted index for the following documents:\n",
        "ID1 : Selenium is a portable framework for testing web applications\n",
        "ID2 : Beautiful Soup is useful for web scraping\n",
        "ID3: It is a python package for parsing the pages\n",
        "ID4: Java programming can be used for web applications\n",
        "ID5: scraping web and crawling web is useful\n",
        "\n",
        "2. Search following words using the inverted index\n",
        "a. Selenium AND web\n",
        "b. Soup\n",
        "c. Python OR java\n",
        "d. Web AND crawl\n"
      ],
      "metadata": {
        "id": "GnDm_uGQ3jem"
      }
    },
    {
      "cell_type": "markdown",
      "source": [
        "**PART B**\n",
        "Perform the text pre-processing of the given documents.\n",
        "ii. Construct a Boolean Model for the vocabulary by considering documents 1, 2,\n",
        "3,4 and 5.\n",
        "a. Retrieve the documents for the Boolean query “Information Retrieval\n",
        "Synthesis” using simple match. (Rank the documents in the order of\n",
        "relevance)\n",
        "b. Retrieve the documents for the Boolean query “Database Retrieval\n",
        "Storage” using weighted match. (Rank the documents in the order of\n",
        "relevance)\n",
        "iii. Construct a vector space model to build the term weights. Compute the TF.IDF and identify the most important terms across the documents.\n",
        "a. Rank all the documents in the collection for the query “Speech\n",
        "Systems”? (Rank the documents in the order of relevance)\n",
        "iv. Compute the cosine similarities between docs 1 and docs 2\n",
        "v. Compute Dice Co-efficient between docs 3 and docs 4.\n",
        "vi. Compute the Jaccard co-efficient between docs 4 and docs 5."
      ],
      "metadata": {
        "id": "a1FH91-q3uR9"
      }
    },
    {
      "cell_type": "code",
      "execution_count": 1,
      "metadata": {
        "id": "BekdLlm5oZKv"
      },
      "outputs": [],
      "source": [
        "doc1=[\n",
        "    \"Information Retrieval Systems is used with database systems\",\n",
        "    \"Information is in storage\",\n",
        "    \"Digital Speech can be used in synthesis and systems\",\n",
        "    \"Speech Filtering, Speech Retrieval systems are applications of Information Retrieval\",\n",
        "    \"Database Management system is used for storage\"\n",
        "]"
      ]
    },
    {
      "cell_type": "code",
      "source": [
        "import nltk\n",
        "nltk.download('stopwords')"
      ],
      "metadata": {
        "colab": {
          "base_uri": "https://localhost:8080/"
        },
        "id": "tQis5ZQkqFlz",
        "outputId": "de3ec845-dc01-427c-a299-4f19120406e5"
      },
      "execution_count": 8,
      "outputs": [
        {
          "output_type": "stream",
          "name": "stderr",
          "text": [
            "[nltk_data] Downloading package stopwords to /root/nltk_data...\n",
            "[nltk_data]   Unzipping corpora/stopwords.zip.\n"
          ]
        },
        {
          "output_type": "execute_result",
          "data": {
            "text/plain": [
              "True"
            ]
          },
          "metadata": {},
          "execution_count": 8
        }
      ]
    },
    {
      "cell_type": "code",
      "source": [
        "import numpy as np\n",
        "import pandas as pd\n",
        "from nltk.corpus import stopwords\n",
        "from nltk import word_tokenize\n",
        "from string import punctuation\n",
        "\n",
        "stop_words = set(stopwords.words('english'))"
      ],
      "metadata": {
        "id": "sDXcBA5wpBlV"
      },
      "execution_count": 9,
      "outputs": []
    },
    {
      "cell_type": "code",
      "source": [
        "def preprocessing(word):\n",
        "    word=word.strip()\n",
        "    word=word.lower()\n",
        "    word=word_tokenize(word)\n",
        "    new_word=list()\n",
        "    for i in word:\n",
        "        if i not in stop_words and i not in punctuation:\n",
        "            new_word.append(i)\n",
        "    return new_word"
      ],
      "metadata": {
        "id": "2qy88PSDpEVV"
      },
      "execution_count": 10,
      "outputs": []
    },
    {
      "cell_type": "code",
      "source": [
        "import nltk\n",
        "nltk.download('punkt')"
      ],
      "metadata": {
        "colab": {
          "base_uri": "https://localhost:8080/"
        },
        "id": "eBpRRtTOqbxD",
        "outputId": "894ba9f0-fe82-4b11-d5a6-da89aea194b8"
      },
      "execution_count": 12,
      "outputs": [
        {
          "output_type": "stream",
          "name": "stderr",
          "text": [
            "[nltk_data] Downloading package punkt to /root/nltk_data...\n",
            "[nltk_data]   Unzipping tokenizers/punkt.zip.\n"
          ]
        },
        {
          "output_type": "execute_result",
          "data": {
            "text/plain": [
              "True"
            ]
          },
          "metadata": {},
          "execution_count": 12
        }
      ]
    },
    {
      "cell_type": "code",
      "source": [
        "key = set()\n",
        "for i in doc1:\n",
        "    vocab_each=set(preprocessing(i))\n",
        "    for j in vocab_each:\n",
        "        key.add(j)\n",
        "key=list(key)\n",
        "print(key)"
      ],
      "metadata": {
        "colab": {
          "base_uri": "https://localhost:8080/"
        },
        "id": "TzBXu2sOpIUd",
        "outputId": "e10f0411-1002-474b-8b69-ddbb67c6c3e4"
      },
      "execution_count": 16,
      "outputs": [
        {
          "output_type": "stream",
          "name": "stdout",
          "text": [
            "['information', 'applications', 'system', 'speech', 'systems', 'synthesis', 'database', 'digital', 'used', 'filtering', 'retrieval', 'storage', 'management']\n"
          ]
        }
      ]
    },
    {
      "cell_type": "code",
      "source": [
        "boolean_table={}\n",
        "istherel=list()\n",
        "for i in key:\n",
        "    isthere =[0]*len(doc1)\n",
        "    for j in range(len(doc1)):\n",
        "        if i in doc1[j]:\n",
        "            isthere[j]=1\n",
        "    istherel.append(isthere)\n",
        "\n",
        "\n",
        "for i in range(len(key)):\n",
        "    boolean_table[key[i]]=istherel[i]\n",
        "\n",
        "df=pd.DataFrame(boolean_table)\n",
        "df"
      ],
      "metadata": {
        "colab": {
          "base_uri": "https://localhost:8080/",
          "height": 206
        },
        "id": "IAkTJbq_pLhj",
        "outputId": "fa8ec7a6-4e47-4d68-ec25-0c89009411ca"
      },
      "execution_count": 17,
      "outputs": [
        {
          "output_type": "execute_result",
          "data": {
            "text/plain": [
              "   information  applications  system  speech  systems  synthesis  database  \\\n",
              "0            0             0       1       0        1          0         1   \n",
              "1            0             0       0       0        0          0         0   \n",
              "2            0             0       1       0        1          1         0   \n",
              "3            0             1       1       0        1          0         0   \n",
              "4            0             0       1       0        0          0         0   \n",
              "\n",
              "   digital  used  filtering  retrieval  storage  management  \n",
              "0        0     1          0          0        0           0  \n",
              "1        0     0          0          0        1           0  \n",
              "2        0     1          0          0        0           0  \n",
              "3        0     0          0          0        0           0  \n",
              "4        0     1          0          0        1           0  "
            ],
            "text/html": [
              "\n",
              "  <div id=\"df-d7d2f70c-0e36-4aa6-b0b2-f091259db854\" class=\"colab-df-container\">\n",
              "    <div>\n",
              "<style scoped>\n",
              "    .dataframe tbody tr th:only-of-type {\n",
              "        vertical-align: middle;\n",
              "    }\n",
              "\n",
              "    .dataframe tbody tr th {\n",
              "        vertical-align: top;\n",
              "    }\n",
              "\n",
              "    .dataframe thead th {\n",
              "        text-align: right;\n",
              "    }\n",
              "</style>\n",
              "<table border=\"1\" class=\"dataframe\">\n",
              "  <thead>\n",
              "    <tr style=\"text-align: right;\">\n",
              "      <th></th>\n",
              "      <th>information</th>\n",
              "      <th>applications</th>\n",
              "      <th>system</th>\n",
              "      <th>speech</th>\n",
              "      <th>systems</th>\n",
              "      <th>synthesis</th>\n",
              "      <th>database</th>\n",
              "      <th>digital</th>\n",
              "      <th>used</th>\n",
              "      <th>filtering</th>\n",
              "      <th>retrieval</th>\n",
              "      <th>storage</th>\n",
              "      <th>management</th>\n",
              "    </tr>\n",
              "  </thead>\n",
              "  <tbody>\n",
              "    <tr>\n",
              "      <th>0</th>\n",
              "      <td>0</td>\n",
              "      <td>0</td>\n",
              "      <td>1</td>\n",
              "      <td>0</td>\n",
              "      <td>1</td>\n",
              "      <td>0</td>\n",
              "      <td>1</td>\n",
              "      <td>0</td>\n",
              "      <td>1</td>\n",
              "      <td>0</td>\n",
              "      <td>0</td>\n",
              "      <td>0</td>\n",
              "      <td>0</td>\n",
              "    </tr>\n",
              "    <tr>\n",
              "      <th>1</th>\n",
              "      <td>0</td>\n",
              "      <td>0</td>\n",
              "      <td>0</td>\n",
              "      <td>0</td>\n",
              "      <td>0</td>\n",
              "      <td>0</td>\n",
              "      <td>0</td>\n",
              "      <td>0</td>\n",
              "      <td>0</td>\n",
              "      <td>0</td>\n",
              "      <td>0</td>\n",
              "      <td>1</td>\n",
              "      <td>0</td>\n",
              "    </tr>\n",
              "    <tr>\n",
              "      <th>2</th>\n",
              "      <td>0</td>\n",
              "      <td>0</td>\n",
              "      <td>1</td>\n",
              "      <td>0</td>\n",
              "      <td>1</td>\n",
              "      <td>1</td>\n",
              "      <td>0</td>\n",
              "      <td>0</td>\n",
              "      <td>1</td>\n",
              "      <td>0</td>\n",
              "      <td>0</td>\n",
              "      <td>0</td>\n",
              "      <td>0</td>\n",
              "    </tr>\n",
              "    <tr>\n",
              "      <th>3</th>\n",
              "      <td>0</td>\n",
              "      <td>1</td>\n",
              "      <td>1</td>\n",
              "      <td>0</td>\n",
              "      <td>1</td>\n",
              "      <td>0</td>\n",
              "      <td>0</td>\n",
              "      <td>0</td>\n",
              "      <td>0</td>\n",
              "      <td>0</td>\n",
              "      <td>0</td>\n",
              "      <td>0</td>\n",
              "      <td>0</td>\n",
              "    </tr>\n",
              "    <tr>\n",
              "      <th>4</th>\n",
              "      <td>0</td>\n",
              "      <td>0</td>\n",
              "      <td>1</td>\n",
              "      <td>0</td>\n",
              "      <td>0</td>\n",
              "      <td>0</td>\n",
              "      <td>0</td>\n",
              "      <td>0</td>\n",
              "      <td>1</td>\n",
              "      <td>0</td>\n",
              "      <td>0</td>\n",
              "      <td>1</td>\n",
              "      <td>0</td>\n",
              "    </tr>\n",
              "  </tbody>\n",
              "</table>\n",
              "</div>\n",
              "    <div class=\"colab-df-buttons\">\n",
              "\n",
              "  <div class=\"colab-df-container\">\n",
              "    <button class=\"colab-df-convert\" onclick=\"convertToInteractive('df-d7d2f70c-0e36-4aa6-b0b2-f091259db854')\"\n",
              "            title=\"Convert this dataframe to an interactive table.\"\n",
              "            style=\"display:none;\">\n",
              "\n",
              "  <svg xmlns=\"http://www.w3.org/2000/svg\" height=\"24px\" viewBox=\"0 -960 960 960\">\n",
              "    <path d=\"M120-120v-720h720v720H120Zm60-500h600v-160H180v160Zm220 220h160v-160H400v160Zm0 220h160v-160H400v160ZM180-400h160v-160H180v160Zm440 0h160v-160H620v160ZM180-180h160v-160H180v160Zm440 0h160v-160H620v160Z\"/>\n",
              "  </svg>\n",
              "    </button>\n",
              "\n",
              "  <style>\n",
              "    .colab-df-container {\n",
              "      display:flex;\n",
              "      gap: 12px;\n",
              "    }\n",
              "\n",
              "    .colab-df-convert {\n",
              "      background-color: #E8F0FE;\n",
              "      border: none;\n",
              "      border-radius: 50%;\n",
              "      cursor: pointer;\n",
              "      display: none;\n",
              "      fill: #1967D2;\n",
              "      height: 32px;\n",
              "      padding: 0 0 0 0;\n",
              "      width: 32px;\n",
              "    }\n",
              "\n",
              "    .colab-df-convert:hover {\n",
              "      background-color: #E2EBFA;\n",
              "      box-shadow: 0px 1px 2px rgba(60, 64, 67, 0.3), 0px 1px 3px 1px rgba(60, 64, 67, 0.15);\n",
              "      fill: #174EA6;\n",
              "    }\n",
              "\n",
              "    .colab-df-buttons div {\n",
              "      margin-bottom: 4px;\n",
              "    }\n",
              "\n",
              "    [theme=dark] .colab-df-convert {\n",
              "      background-color: #3B4455;\n",
              "      fill: #D2E3FC;\n",
              "    }\n",
              "\n",
              "    [theme=dark] .colab-df-convert:hover {\n",
              "      background-color: #434B5C;\n",
              "      box-shadow: 0px 1px 3px 1px rgba(0, 0, 0, 0.15);\n",
              "      filter: drop-shadow(0px 1px 2px rgba(0, 0, 0, 0.3));\n",
              "      fill: #FFFFFF;\n",
              "    }\n",
              "  </style>\n",
              "\n",
              "    <script>\n",
              "      const buttonEl =\n",
              "        document.querySelector('#df-d7d2f70c-0e36-4aa6-b0b2-f091259db854 button.colab-df-convert');\n",
              "      buttonEl.style.display =\n",
              "        google.colab.kernel.accessAllowed ? 'block' : 'none';\n",
              "\n",
              "      async function convertToInteractive(key) {\n",
              "        const element = document.querySelector('#df-d7d2f70c-0e36-4aa6-b0b2-f091259db854');\n",
              "        const dataTable =\n",
              "          await google.colab.kernel.invokeFunction('convertToInteractive',\n",
              "                                                    [key], {});\n",
              "        if (!dataTable) return;\n",
              "\n",
              "        const docLinkHtml = 'Like what you see? Visit the ' +\n",
              "          '<a target=\"_blank\" href=https://colab.research.google.com/notebooks/data_table.ipynb>data table notebook</a>'\n",
              "          + ' to learn more about interactive tables.';\n",
              "        element.innerHTML = '';\n",
              "        dataTable['output_type'] = 'display_data';\n",
              "        await google.colab.output.renderOutput(dataTable, element);\n",
              "        const docLink = document.createElement('div');\n",
              "        docLink.innerHTML = docLinkHtml;\n",
              "        element.appendChild(docLink);\n",
              "      }\n",
              "    </script>\n",
              "  </div>\n",
              "\n",
              "\n",
              "<div id=\"df-957a9719-0516-4cd8-af38-021bd1e5323b\">\n",
              "  <button class=\"colab-df-quickchart\" onclick=\"quickchart('df-957a9719-0516-4cd8-af38-021bd1e5323b')\"\n",
              "            title=\"Suggest charts.\"\n",
              "            style=\"display:none;\">\n",
              "\n",
              "<svg xmlns=\"http://www.w3.org/2000/svg\" height=\"24px\"viewBox=\"0 0 24 24\"\n",
              "     width=\"24px\">\n",
              "    <g>\n",
              "        <path d=\"M19 3H5c-1.1 0-2 .9-2 2v14c0 1.1.9 2 2 2h14c1.1 0 2-.9 2-2V5c0-1.1-.9-2-2-2zM9 17H7v-7h2v7zm4 0h-2V7h2v10zm4 0h-2v-4h2v4z\"/>\n",
              "    </g>\n",
              "</svg>\n",
              "  </button>\n",
              "\n",
              "<style>\n",
              "  .colab-df-quickchart {\n",
              "    background-color: #E8F0FE;\n",
              "    border: none;\n",
              "    border-radius: 50%;\n",
              "    cursor: pointer;\n",
              "    display: none;\n",
              "    fill: #1967D2;\n",
              "    height: 32px;\n",
              "    padding: 0 0 0 0;\n",
              "    width: 32px;\n",
              "  }\n",
              "\n",
              "  .colab-df-quickchart:hover {\n",
              "    background-color: #E2EBFA;\n",
              "    box-shadow: 0px 1px 2px rgba(60, 64, 67, 0.3), 0px 1px 3px 1px rgba(60, 64, 67, 0.15);\n",
              "    fill: #174EA6;\n",
              "  }\n",
              "\n",
              "  [theme=dark] .colab-df-quickchart {\n",
              "    background-color: #3B4455;\n",
              "    fill: #D2E3FC;\n",
              "  }\n",
              "\n",
              "  [theme=dark] .colab-df-quickchart:hover {\n",
              "    background-color: #434B5C;\n",
              "    box-shadow: 0px 1px 3px 1px rgba(0, 0, 0, 0.15);\n",
              "    filter: drop-shadow(0px 1px 2px rgba(0, 0, 0, 0.3));\n",
              "    fill: #FFFFFF;\n",
              "  }\n",
              "</style>\n",
              "\n",
              "  <script>\n",
              "    async function quickchart(key) {\n",
              "      const charts = await google.colab.kernel.invokeFunction(\n",
              "          'suggestCharts', [key], {});\n",
              "    }\n",
              "    (() => {\n",
              "      let quickchartButtonEl =\n",
              "        document.querySelector('#df-957a9719-0516-4cd8-af38-021bd1e5323b button');\n",
              "      quickchartButtonEl.style.display =\n",
              "        google.colab.kernel.accessAllowed ? 'block' : 'none';\n",
              "    })();\n",
              "  </script>\n",
              "</div>\n",
              "    </div>\n",
              "  </div>\n"
            ]
          },
          "metadata": {},
          "execution_count": 17
        }
      ]
    },
    {
      "cell_type": "code",
      "source": [
        "query=\"Information Retrieval Synthesis\".lower().split()\n",
        "\n",
        "res=df[(df[query[0]]==1)&(df[query[1]]&(df[query[2]]))]\n",
        "\n",
        "if(len(res)==0):\n",
        "    print(\"No match\")\n",
        "else:\n",
        "    for i in list(res.index):\n",
        "        print(\"Match found at Doc: {i}\")\n",
        ""
      ],
      "metadata": {
        "colab": {
          "base_uri": "https://localhost:8080/"
        },
        "id": "y1Dw_CG4pPXE",
        "outputId": "e3837c96-d185-4133-f637-5d4e0489b407"
      },
      "execution_count": 18,
      "outputs": [
        {
          "output_type": "stream",
          "name": "stdout",
          "text": [
            "No match\n"
          ]
        }
      ]
    },
    {
      "cell_type": "code",
      "source": [
        "istherel=list()\n",
        "query=\"Database Retrieval Storage\"\n",
        "query=preprocessing(query)\n",
        "\n",
        "doc1=[\n",
        "    \"Information Retrieval Systems is used with database systems\",\n",
        "    \"Information is in storage\",\n",
        "    \"Digital Speech can be used in synthesis and systems\",\n",
        "    \"Speech Filtering, Speech Retrieval systems are applications of Information Retrieval\",\n",
        "    \"Database Management system is used for storage\"\n",
        "]\n",
        "\n",
        "s=set(' '.join(doc1).split(\" \"))\n",
        "p=set(stopwords.words(\"english\"))\n",
        "l=[]\n",
        "for i in s:\n",
        "  if i not in p:\n",
        "    l.append(i)\n",
        "\n",
        "d={}\n",
        "for i in range(len(doc1)):\n",
        "  for j in range(len(l)):\n",
        "    if i not in d.keys():\n",
        "      d[i]=[0]*len(l)\n",
        "    if l[j] in doc1[i]:\n",
        "      d[i][j]= l\n",
        "\n",
        "query=\"Database Retrieval Storage\"\n",
        "p=[0] * len(l)\n",
        "q=query.split(\" \")\n",
        "for i in range(len(l)):\n",
        "  if l[i] in q:\n",
        "    p[i]=1\n",
        "\n",
        "ans=[]\n",
        "for i in d.keys():\n",
        "  m=[]\n",
        "  for j in range(len(p)):\n",
        "    m.append(d[i][j] and p[j])\n",
        "  ans.append(m.count(l))\n",
        "\n",
        "import numpy as np\n",
        "t=np.array(ans)\n",
        "ans=list(t.argsort()[::-1])\n",
        "ans"
      ],
      "metadata": {
        "colab": {
          "base_uri": "https://localhost:8080/"
        },
        "id": "6Yy0-dHkq2Uf",
        "outputId": "8e21af58-6565-4089-fa10-afe64e58900e"
      },
      "execution_count": 22,
      "outputs": [
        {
          "output_type": "execute_result",
          "data": {
            "text/plain": [
              "[4, 3, 2, 1, 0]"
            ]
          },
          "metadata": {},
          "execution_count": 22
        }
      ]
    },
    {
      "cell_type": "markdown",
      "source": [
        "VECTOR MODEL"
      ],
      "metadata": {
        "id": "7Eqyibt2s_H2"
      }
    },
    {
      "cell_type": "code",
      "source": [
        "import math\n",
        "import copy\n",
        "import numpy as np\n",
        "import nltk\n",
        "from nltk.corpus import stopwords\n",
        "from nltk.tokenize import word_tokenize\n",
        "nltk.download(\"punkt\")\n",
        "nltk.download('stopwords')\n",
        "docs=[\"Information Retrieval Systems is used with database systems\",\n",
        "    \"Information is in storage\",\n",
        "    \"Digital Speech can be used in synthesis and systems\",\n",
        "    \"Speech Filtering, Speech Retrieval systems are applications of Information Retrieval\",\n",
        "    \"Database Management system is used for storage\"]"
      ],
      "metadata": {
        "colab": {
          "base_uri": "https://localhost:8080/"
        },
        "id": "pzsRt2RnroMj",
        "outputId": "8d93b5d5-8d13-4988-a888-540b5b39d0b6"
      },
      "execution_count": 23,
      "outputs": [
        {
          "output_type": "stream",
          "name": "stderr",
          "text": [
            "[nltk_data] Downloading package punkt to /root/nltk_data...\n",
            "[nltk_data]   Package punkt is already up-to-date!\n",
            "[nltk_data] Downloading package stopwords to /root/nltk_data...\n",
            "[nltk_data]   Package stopwords is already up-to-date!\n"
          ]
        }
      ]
    },
    {
      "cell_type": "code",
      "source": [
        "def preprocess(doc,indx):\n",
        "  doc=doc.lower()\n",
        "  word_tokens=word_tokenize(doc)\n",
        "  stop_words=set(stopwords.words('english'))\n",
        "  l=list()\n",
        "  for i in range(0,len(word_tokens)):\n",
        "    if(word_tokens[i]==',' or word_tokens[i].lower() in stop_words or word_tokens[i].isnumeric()):\n",
        "      continue\n",
        "    else:\n",
        "      l.append(word_tokens[i].lower())\n",
        "  return(\" \").join(l)"
      ],
      "metadata": {
        "id": "TDWqlZT5tZHB"
      },
      "execution_count": 24,
      "outputs": []
    },
    {
      "cell_type": "code",
      "source": [
        "for i in range(0,len(doc1)):\n",
        "  doc1[i]=preprocess(doc1[i],i)"
      ],
      "metadata": {
        "id": "u2di2uFWuIL3"
      },
      "execution_count": 25,
      "outputs": []
    },
    {
      "cell_type": "code",
      "source": [
        "from sklearn.feature_extraction.text import TfidfVectorizer\n",
        "\n",
        "tfidf=TfidfVectorizer()\n",
        "response=tfidf.fit_transform(doc1)\n",
        "tdidfTable=pd.DataFrame(response.toarray())\n",
        "tdidfTable.columns=[keys for keys in tfidf.vocabulary_.keys()]\n",
        "tdidfTable"
      ],
      "metadata": {
        "colab": {
          "base_uri": "https://localhost:8080/",
          "height": 226
        },
        "id": "8Hk8bOz8uTP8",
        "outputId": "0290fec9-c9a5-48f4-b8ff-aab90218f0fa"
      },
      "execution_count": 26,
      "outputs": [
        {
          "output_type": "execute_result",
          "data": {
            "text/plain": [
              "   information  retrieval   systems     used  database   storage   digital  \\\n",
              "0      0.00000   0.403755  0.000000  0.00000  0.335153  0.000000  0.403755   \n",
              "1      0.00000   0.000000  0.000000  0.00000  0.638711  0.000000  0.000000   \n",
              "2      0.00000   0.000000  0.530899  0.00000  0.000000  0.000000  0.000000   \n",
              "3      0.35127   0.000000  0.000000  0.35127  0.235249  0.000000  0.566804   \n",
              "4      0.00000   0.416607  0.000000  0.00000  0.000000  0.516374  0.000000   \n",
              "\n",
              "     speech  synthesis  filtering  applications  management    system  \n",
              "0  0.000000   0.000000   0.000000      0.000000    0.670306  0.335153  \n",
              "1  0.000000   0.769447   0.000000      0.000000    0.000000  0.000000  \n",
              "2  0.428326   0.000000   0.530899      0.000000    0.355549  0.355549  \n",
              "3  0.566804   0.000000   0.000000      0.000000    0.235249  0.000000  \n",
              "4  0.000000   0.416607   0.000000      0.516374    0.000000  0.345822  "
            ],
            "text/html": [
              "\n",
              "  <div id=\"df-709734ee-bfcd-45fd-9bcc-0e20fd2a551f\" class=\"colab-df-container\">\n",
              "    <div>\n",
              "<style scoped>\n",
              "    .dataframe tbody tr th:only-of-type {\n",
              "        vertical-align: middle;\n",
              "    }\n",
              "\n",
              "    .dataframe tbody tr th {\n",
              "        vertical-align: top;\n",
              "    }\n",
              "\n",
              "    .dataframe thead th {\n",
              "        text-align: right;\n",
              "    }\n",
              "</style>\n",
              "<table border=\"1\" class=\"dataframe\">\n",
              "  <thead>\n",
              "    <tr style=\"text-align: right;\">\n",
              "      <th></th>\n",
              "      <th>information</th>\n",
              "      <th>retrieval</th>\n",
              "      <th>systems</th>\n",
              "      <th>used</th>\n",
              "      <th>database</th>\n",
              "      <th>storage</th>\n",
              "      <th>digital</th>\n",
              "      <th>speech</th>\n",
              "      <th>synthesis</th>\n",
              "      <th>filtering</th>\n",
              "      <th>applications</th>\n",
              "      <th>management</th>\n",
              "      <th>system</th>\n",
              "    </tr>\n",
              "  </thead>\n",
              "  <tbody>\n",
              "    <tr>\n",
              "      <th>0</th>\n",
              "      <td>0.00000</td>\n",
              "      <td>0.403755</td>\n",
              "      <td>0.000000</td>\n",
              "      <td>0.00000</td>\n",
              "      <td>0.335153</td>\n",
              "      <td>0.000000</td>\n",
              "      <td>0.403755</td>\n",
              "      <td>0.000000</td>\n",
              "      <td>0.000000</td>\n",
              "      <td>0.000000</td>\n",
              "      <td>0.000000</td>\n",
              "      <td>0.670306</td>\n",
              "      <td>0.335153</td>\n",
              "    </tr>\n",
              "    <tr>\n",
              "      <th>1</th>\n",
              "      <td>0.00000</td>\n",
              "      <td>0.000000</td>\n",
              "      <td>0.000000</td>\n",
              "      <td>0.00000</td>\n",
              "      <td>0.638711</td>\n",
              "      <td>0.000000</td>\n",
              "      <td>0.000000</td>\n",
              "      <td>0.000000</td>\n",
              "      <td>0.769447</td>\n",
              "      <td>0.000000</td>\n",
              "      <td>0.000000</td>\n",
              "      <td>0.000000</td>\n",
              "      <td>0.000000</td>\n",
              "    </tr>\n",
              "    <tr>\n",
              "      <th>2</th>\n",
              "      <td>0.00000</td>\n",
              "      <td>0.000000</td>\n",
              "      <td>0.530899</td>\n",
              "      <td>0.00000</td>\n",
              "      <td>0.000000</td>\n",
              "      <td>0.000000</td>\n",
              "      <td>0.000000</td>\n",
              "      <td>0.428326</td>\n",
              "      <td>0.000000</td>\n",
              "      <td>0.530899</td>\n",
              "      <td>0.000000</td>\n",
              "      <td>0.355549</td>\n",
              "      <td>0.355549</td>\n",
              "    </tr>\n",
              "    <tr>\n",
              "      <th>3</th>\n",
              "      <td>0.35127</td>\n",
              "      <td>0.000000</td>\n",
              "      <td>0.000000</td>\n",
              "      <td>0.35127</td>\n",
              "      <td>0.235249</td>\n",
              "      <td>0.000000</td>\n",
              "      <td>0.566804</td>\n",
              "      <td>0.566804</td>\n",
              "      <td>0.000000</td>\n",
              "      <td>0.000000</td>\n",
              "      <td>0.000000</td>\n",
              "      <td>0.235249</td>\n",
              "      <td>0.000000</td>\n",
              "    </tr>\n",
              "    <tr>\n",
              "      <th>4</th>\n",
              "      <td>0.00000</td>\n",
              "      <td>0.416607</td>\n",
              "      <td>0.000000</td>\n",
              "      <td>0.00000</td>\n",
              "      <td>0.000000</td>\n",
              "      <td>0.516374</td>\n",
              "      <td>0.000000</td>\n",
              "      <td>0.000000</td>\n",
              "      <td>0.416607</td>\n",
              "      <td>0.000000</td>\n",
              "      <td>0.516374</td>\n",
              "      <td>0.000000</td>\n",
              "      <td>0.345822</td>\n",
              "    </tr>\n",
              "  </tbody>\n",
              "</table>\n",
              "</div>\n",
              "    <div class=\"colab-df-buttons\">\n",
              "\n",
              "  <div class=\"colab-df-container\">\n",
              "    <button class=\"colab-df-convert\" onclick=\"convertToInteractive('df-709734ee-bfcd-45fd-9bcc-0e20fd2a551f')\"\n",
              "            title=\"Convert this dataframe to an interactive table.\"\n",
              "            style=\"display:none;\">\n",
              "\n",
              "  <svg xmlns=\"http://www.w3.org/2000/svg\" height=\"24px\" viewBox=\"0 -960 960 960\">\n",
              "    <path d=\"M120-120v-720h720v720H120Zm60-500h600v-160H180v160Zm220 220h160v-160H400v160Zm0 220h160v-160H400v160ZM180-400h160v-160H180v160Zm440 0h160v-160H620v160ZM180-180h160v-160H180v160Zm440 0h160v-160H620v160Z\"/>\n",
              "  </svg>\n",
              "    </button>\n",
              "\n",
              "  <style>\n",
              "    .colab-df-container {\n",
              "      display:flex;\n",
              "      gap: 12px;\n",
              "    }\n",
              "\n",
              "    .colab-df-convert {\n",
              "      background-color: #E8F0FE;\n",
              "      border: none;\n",
              "      border-radius: 50%;\n",
              "      cursor: pointer;\n",
              "      display: none;\n",
              "      fill: #1967D2;\n",
              "      height: 32px;\n",
              "      padding: 0 0 0 0;\n",
              "      width: 32px;\n",
              "    }\n",
              "\n",
              "    .colab-df-convert:hover {\n",
              "      background-color: #E2EBFA;\n",
              "      box-shadow: 0px 1px 2px rgba(60, 64, 67, 0.3), 0px 1px 3px 1px rgba(60, 64, 67, 0.15);\n",
              "      fill: #174EA6;\n",
              "    }\n",
              "\n",
              "    .colab-df-buttons div {\n",
              "      margin-bottom: 4px;\n",
              "    }\n",
              "\n",
              "    [theme=dark] .colab-df-convert {\n",
              "      background-color: #3B4455;\n",
              "      fill: #D2E3FC;\n",
              "    }\n",
              "\n",
              "    [theme=dark] .colab-df-convert:hover {\n",
              "      background-color: #434B5C;\n",
              "      box-shadow: 0px 1px 3px 1px rgba(0, 0, 0, 0.15);\n",
              "      filter: drop-shadow(0px 1px 2px rgba(0, 0, 0, 0.3));\n",
              "      fill: #FFFFFF;\n",
              "    }\n",
              "  </style>\n",
              "\n",
              "    <script>\n",
              "      const buttonEl =\n",
              "        document.querySelector('#df-709734ee-bfcd-45fd-9bcc-0e20fd2a551f button.colab-df-convert');\n",
              "      buttonEl.style.display =\n",
              "        google.colab.kernel.accessAllowed ? 'block' : 'none';\n",
              "\n",
              "      async function convertToInteractive(key) {\n",
              "        const element = document.querySelector('#df-709734ee-bfcd-45fd-9bcc-0e20fd2a551f');\n",
              "        const dataTable =\n",
              "          await google.colab.kernel.invokeFunction('convertToInteractive',\n",
              "                                                    [key], {});\n",
              "        if (!dataTable) return;\n",
              "\n",
              "        const docLinkHtml = 'Like what you see? Visit the ' +\n",
              "          '<a target=\"_blank\" href=https://colab.research.google.com/notebooks/data_table.ipynb>data table notebook</a>'\n",
              "          + ' to learn more about interactive tables.';\n",
              "        element.innerHTML = '';\n",
              "        dataTable['output_type'] = 'display_data';\n",
              "        await google.colab.output.renderOutput(dataTable, element);\n",
              "        const docLink = document.createElement('div');\n",
              "        docLink.innerHTML = docLinkHtml;\n",
              "        element.appendChild(docLink);\n",
              "      }\n",
              "    </script>\n",
              "  </div>\n",
              "\n",
              "\n",
              "<div id=\"df-13bfcfdc-5558-48aa-a3e0-91aa2ceb70b2\">\n",
              "  <button class=\"colab-df-quickchart\" onclick=\"quickchart('df-13bfcfdc-5558-48aa-a3e0-91aa2ceb70b2')\"\n",
              "            title=\"Suggest charts.\"\n",
              "            style=\"display:none;\">\n",
              "\n",
              "<svg xmlns=\"http://www.w3.org/2000/svg\" height=\"24px\"viewBox=\"0 0 24 24\"\n",
              "     width=\"24px\">\n",
              "    <g>\n",
              "        <path d=\"M19 3H5c-1.1 0-2 .9-2 2v14c0 1.1.9 2 2 2h14c1.1 0 2-.9 2-2V5c0-1.1-.9-2-2-2zM9 17H7v-7h2v7zm4 0h-2V7h2v10zm4 0h-2v-4h2v4z\"/>\n",
              "    </g>\n",
              "</svg>\n",
              "  </button>\n",
              "\n",
              "<style>\n",
              "  .colab-df-quickchart {\n",
              "    background-color: #E8F0FE;\n",
              "    border: none;\n",
              "    border-radius: 50%;\n",
              "    cursor: pointer;\n",
              "    display: none;\n",
              "    fill: #1967D2;\n",
              "    height: 32px;\n",
              "    padding: 0 0 0 0;\n",
              "    width: 32px;\n",
              "  }\n",
              "\n",
              "  .colab-df-quickchart:hover {\n",
              "    background-color: #E2EBFA;\n",
              "    box-shadow: 0px 1px 2px rgba(60, 64, 67, 0.3), 0px 1px 3px 1px rgba(60, 64, 67, 0.15);\n",
              "    fill: #174EA6;\n",
              "  }\n",
              "\n",
              "  [theme=dark] .colab-df-quickchart {\n",
              "    background-color: #3B4455;\n",
              "    fill: #D2E3FC;\n",
              "  }\n",
              "\n",
              "  [theme=dark] .colab-df-quickchart:hover {\n",
              "    background-color: #434B5C;\n",
              "    box-shadow: 0px 1px 3px 1px rgba(0, 0, 0, 0.15);\n",
              "    filter: drop-shadow(0px 1px 2px rgba(0, 0, 0, 0.3));\n",
              "    fill: #FFFFFF;\n",
              "  }\n",
              "</style>\n",
              "\n",
              "  <script>\n",
              "    async function quickchart(key) {\n",
              "      const charts = await google.colab.kernel.invokeFunction(\n",
              "          'suggestCharts', [key], {});\n",
              "    }\n",
              "    (() => {\n",
              "      let quickchartButtonEl =\n",
              "        document.querySelector('#df-13bfcfdc-5558-48aa-a3e0-91aa2ceb70b2 button');\n",
              "      quickchartButtonEl.style.display =\n",
              "        google.colab.kernel.accessAllowed ? 'block' : 'none';\n",
              "    })();\n",
              "  </script>\n",
              "</div>\n",
              "    </div>\n",
              "  </div>\n"
            ]
          },
          "metadata": {},
          "execution_count": 26
        }
      ]
    },
    {
      "cell_type": "code",
      "source": [
        "#identify the most important terms across the documents\n",
        "feature_names=tfidf.get_feature_names_out()\n",
        "feature_names.tolist()"
      ],
      "metadata": {
        "colab": {
          "base_uri": "https://localhost:8080/"
        },
        "id": "D4qPMUlEzE9u",
        "outputId": "7ced432a-e327-4af3-92e2-4b58b343c9e3"
      },
      "execution_count": 27,
      "outputs": [
        {
          "output_type": "execute_result",
          "data": {
            "text/plain": [
              "['applications',\n",
              " 'database',\n",
              " 'digital',\n",
              " 'filtering',\n",
              " 'information',\n",
              " 'management',\n",
              " 'retrieval',\n",
              " 'speech',\n",
              " 'storage',\n",
              " 'synthesis',\n",
              " 'system',\n",
              " 'systems',\n",
              " 'used']"
            ]
          },
          "metadata": {},
          "execution_count": 27
        }
      ]
    },
    {
      "cell_type": "code",
      "source": [
        "#rank all the documents in the collection for the query \"Speech Systems\"\n",
        "query=preprocessing(\"Speech Systems\")\n",
        "query=\" \".join(query)\n",
        "query_vector=tfidf.transform([query]).toarray()"
      ],
      "metadata": {
        "id": "PVNbnXBczVkx"
      },
      "execution_count": 28,
      "outputs": []
    },
    {
      "cell_type": "code",
      "source": [
        "from sklearn.metrics.pairwise import cosine_similarity\n",
        "doc1_vector=tfidf.transform(doc1)\n",
        "cosineSimilarity=cosine_similarity(doc1_vector,query_vector).flatten()\n",
        "print(cosineSimilarity.argsort()[:-10:-1])\n",
        "for i in cosineSimilarity.argsort()[:-10:-1]:\n",
        "  print(doc1[i])"
      ],
      "metadata": {
        "colab": {
          "base_uri": "https://localhost:8080/"
        },
        "id": "wpfABUaPzpMI",
        "outputId": "a9136532-26a7-49b8-ce98-cc134df750b3"
      },
      "execution_count": 29,
      "outputs": [
        {
          "output_type": "stream",
          "name": "stdout",
          "text": [
            "[3 2 0 4 1]\n",
            "speech filtering speech retrieval systems applications information retrieval\n",
            "digital speech used synthesis systems\n",
            "information retrieval systems used database systems\n",
            "database management system used storage\n",
            "information storage\n"
          ]
        }
      ]
    },
    {
      "cell_type": "code",
      "source": [
        "import numpy as np\n",
        "def cosine_similarity(x,y):\n",
        "  if len(x)!=len(y):\n",
        "    return None\n",
        "  dot_product=np.dot(x,y)\n",
        "  mag_x=np.sqrt(np.sum(x**2))\n",
        "  mag_y=np.sqrt(np.sum(y**2))\n",
        "  np.sqrt(np.sum(x**2))\n",
        "  np.sqrt(np.sum(y**2))\n",
        "  cosine_similarity=dot_product/(mag_x*mag_y)\n",
        "  return cosine_similarity"
      ],
      "metadata": {
        "id": "PnJG6EtY0Kbv"
      },
      "execution_count": 30,
      "outputs": []
    },
    {
      "cell_type": "code",
      "source": [
        "from sklearn.feature_extraction.text import CountVectorizer\n",
        "x=CountVectorizer().fit_transform(docs).toarray()\n",
        "cos_sim=cosine_similarity(x[0,: ],x[1: ])\n",
        "print(cos_sim)"
      ],
      "metadata": {
        "colab": {
          "base_uri": "https://localhost:8080/"
        },
        "id": "0bEIGwj62H8P",
        "outputId": "474b51f1-f7c1-44a0-c15f-8b998541cc81"
      },
      "execution_count": 31,
      "outputs": [
        {
          "output_type": "stream",
          "name": "stdout",
          "text": [
            "None\n"
          ]
        }
      ]
    },
    {
      "cell_type": "code",
      "source": [
        "def dice(x,y):\n",
        "  x=x.astype(bool)\n",
        "  y=y.astype(bool)\n",
        "  sum_=x.sum()+y.sum()\n",
        "  if sum_==0:\n",
        "    return 1\n",
        "  intersection=np.logical_and(x,y)\n",
        "  return 2. *intersection.sum()/ sum_\n"
      ],
      "metadata": {
        "id": "Jb8qBwgI2mlr"
      },
      "execution_count": 32,
      "outputs": []
    },
    {
      "cell_type": "code",
      "source": [
        "d=dice(x[2,: ], x[3,: ])\n",
        "d"
      ],
      "metadata": {
        "colab": {
          "base_uri": "https://localhost:8080/"
        },
        "id": "7J1cnP2R28C8",
        "outputId": "d6938cd4-5b81-4d54-f990-d8544fb71098"
      },
      "execution_count": 33,
      "outputs": [
        {
          "output_type": "execute_result",
          "data": {
            "text/plain": [
              "0.23529411764705882"
            ]
          },
          "metadata": {},
          "execution_count": 33
        }
      ]
    },
    {
      "cell_type": "code",
      "source": [
        "def jaccard(x,y):\n",
        "  intersection=np.logical_and(x,y)\n",
        "  union=np.logical_or(x,y)\n",
        "  similarity=intersection.sum()/ float(union.sum())\n",
        "  return similarity"
      ],
      "metadata": {
        "id": "LYqWKu6e3EhB"
      },
      "execution_count": 34,
      "outputs": []
    },
    {
      "cell_type": "code",
      "source": [
        "j=jaccard(x[3,: ], x[4,: ])\n",
        "j"
      ],
      "metadata": {
        "colab": {
          "base_uri": "https://localhost:8080/"
        },
        "id": "Vi0HJywa3Uuq",
        "outputId": "75052381-57bd-4c2d-e28f-e8c8880783e1"
      },
      "execution_count": 35,
      "outputs": [
        {
          "output_type": "execute_result",
          "data": {
            "text/plain": [
              "0.0"
            ]
          },
          "metadata": {},
          "execution_count": 35
        }
      ]
    }
  ]
}