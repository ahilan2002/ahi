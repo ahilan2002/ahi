{
 "cells": [
  {
   "cell_type": "markdown",
   "id": "fbd35206-fc71-4de7-b2ec-69752ee8b0a5",
   "metadata": {},
   "source": [
    "NAME: HARINI S\n",
    "REGISTER NUMBER: 20BCE1832\n",
    "WEB MINING: LAB6 ASSIGNMENT"
   ]
  },
  {
   "cell_type": "markdown",
   "id": "b8decf04-a568-41f9-9eed-5f0bb9da258d",
   "metadata": {},
   "source": [
    "**Problem - 2:\n",
    "Take any text corpora, apply necessary preprocessing and perform the k-means clustering on the corpora.**"
   ]
  },
  {
   "cell_type": "code",
   "execution_count": 1,
   "id": "00d92f2a-35b4-412d-b2c4-5065639ed88c",
   "metadata": {
    "scrolled": true
   },
   "outputs": [
    {
     "name": "stdout",
     "output_type": "stream",
     "text": [
      "Defaulting to user installation because normal site-packages is not writeable\n",
      "Collecting nltk\n",
      "  Downloading nltk-3.8.1-py3-none-any.whl (1.5 MB)\n",
      "\u001b[2K     \u001b[38;2;114;156;31m━━━━━━━━━━━━━━━━━━━━━━━━━━━━━━━━━━━━━━━━\u001b[0m \u001b[32m1.5/1.5 MB\u001b[0m \u001b[31m3.0 MB/s\u001b[0m eta \u001b[36m0:00:00\u001b[0mm eta \u001b[36m0:00:01\u001b[0m0:01\u001b[0m:01\u001b[0m0m\n",
      "\u001b[?25hCollecting scikit-learn\n",
      "  Downloading scikit_learn-1.3.0-cp310-cp310-manylinux_2_17_x86_64.manylinux2014_x86_64.whl (10.8 MB)\n",
      "\u001b[2K     \u001b[38;2;114;156;31m━━━━━━━━━━━━━━━━━━━━━━━━━━━━━━━━━━━━━━━━\u001b[0m \u001b[32m10.8/10.8 MB\u001b[0m \u001b[31m3.3 MB/s\u001b[0m eta \u001b[36m0:00:00\u001b[0mm eta \u001b[36m0:00:01\u001b[0m[36m0:00:01\u001b[0m\n",
      "\u001b[?25hRequirement already satisfied: click in /usr/lib/python3/dist-packages (from nltk) (8.0.3)\n",
      "Collecting tqdm\n",
      "  Downloading tqdm-4.66.1-py3-none-any.whl (78 kB)\n",
      "\u001b[2K     \u001b[38;2;114;156;31m━━━━━━━━━━━━━━━━━━━━━━━━━━━━━━━━━━━━━━━━\u001b[0m \u001b[32m78.3/78.3 KB\u001b[0m \u001b[31m2.2 MB/s\u001b[0m eta \u001b[36m0:00:00\u001b[0m\n",
      "\u001b[?25hCollecting regex>=2021.8.3\n",
      "  Downloading regex-2023.8.8-cp310-cp310-manylinux_2_17_x86_64.manylinux2014_x86_64.whl (771 kB)\n",
      "\u001b[2K     \u001b[38;2;114;156;31m━━━━━━━━━━━━━━━━━━━━━━━━━━━━━━━━━━━━━━━\u001b[0m \u001b[32m771.9/771.9 KB\u001b[0m \u001b[31m3.6 MB/s\u001b[0m eta \u001b[36m0:00:00\u001b[0mm eta \u001b[36m0:00:01\u001b[0m0:01\u001b[0m:01\u001b[0m\n",
      "\u001b[?25hCollecting joblib\n",
      "  Downloading joblib-1.3.2-py3-none-any.whl (302 kB)\n",
      "\u001b[2K     \u001b[38;2;114;156;31m━━━━━━━━━━━━━━━━━━━━━━━━━━━━━━━━━━━━━━━\u001b[0m \u001b[32m302.2/302.2 KB\u001b[0m \u001b[31m3.7 MB/s\u001b[0m eta \u001b[36m0:00:00\u001b[0m[36m0:00:01\u001b[0m[36m0:00:01\u001b[0m\n",
      "\u001b[?25hRequirement already satisfied: numpy>=1.17.3 in /usr/lib/python3/dist-packages (from scikit-learn) (1.21.5)\n",
      "Collecting threadpoolctl>=2.0.0\n",
      "  Downloading threadpoolctl-3.2.0-py3-none-any.whl (15 kB)\n",
      "Requirement already satisfied: scipy>=1.5.0 in /usr/lib/python3/dist-packages (from scikit-learn) (1.8.0)\n",
      "Installing collected packages: tqdm, threadpoolctl, regex, joblib, scikit-learn, nltk\n",
      "Successfully installed joblib-1.3.2 nltk-3.8.1 regex-2023.8.8 scikit-learn-1.3.0 threadpoolctl-3.2.0 tqdm-4.66.1\n",
      "Note: you may need to restart the kernel to use updated packages.\n"
     ]
    }
   ],
   "source": [
    "pip install nltk scikit-learn"
   ]
  },
  {
   "cell_type": "markdown",
   "id": "391acd7e-bdbb-4412-80a4-cbc1a16490d5",
   "metadata": {},
   "source": [
    "*THIS IS FOR DATA CORPORA*"
   ]
  },
  {
   "cell_type": "code",
   "execution_count": 2,
   "id": "c42449cf-809d-4139-8127-07373e63ba61",
   "metadata": {},
   "outputs": [],
   "source": [
    "import numpy as np\n",
    "from sklearn.feature_extraction.text import TfidfVectorizer\n",
    "from sklearn.cluster import KMeans\n",
    "from nltk.corpus import stopwords\n",
    "from nltk.tokenize import word_tokenize\n",
    "import nltk\n",
    "import random\n",
    "\n",
    "# Sample text data\n",
    "random.seed(42)\n",
    "documents = [\n",
    "    \"Machine learning is an exciting field in artificial intelligence.\",\n",
    "    \"Natural language processing is used to understand human language.\",\n",
    "    \"Clustering is a form of unsupervised learning.\",\n",
    "    \"Data preprocessing is essential in any data analysis.\",\n",
    "    \"Neural networks are inspired by the human brain.\",\n",
    "    \"Text mining involves extracting useful information from text data.\",\n",
    "    \"Classification is a type of supervised learning.\",\n",
    "    \"Dimensionality reduction techniques help in feature selection.\",\n",
    "    \"Statistics is a fundamental concept in data science.\",\n",
    "    \"Anomaly detection is used to find unusual patterns in data.\"\n",
    "]"
   ]
  },
  {
   "cell_type": "code",
   "execution_count": 3,
   "id": "8e0b193c-57af-4978-9c1d-e6183fe7ec24",
   "metadata": {},
   "outputs": [
    {
     "name": "stderr",
     "output_type": "stream",
     "text": [
      "[nltk_data] Downloading package punkt to /home/network1/nltk_data...\n",
      "[nltk_data]   Unzipping tokenizers/punkt.zip.\n",
      "[nltk_data] Downloading package stopwords to\n",
      "[nltk_data]     /home/network1/nltk_data...\n",
      "[nltk_data]   Unzipping corpora/stopwords.zip.\n"
     ]
    }
   ],
   "source": [
    "# Preprocessing and tokenization\n",
    "nltk.download('punkt')\n",
    "nltk.download('stopwords')\n",
    "stop_words = set(stopwords.words('english'))\n",
    "\n",
    "def preprocess_text(text):\n",
    "    words = word_tokenize(text.lower())\n",
    "    words = [word for word in words if word.isalnum() and word not in stop_words]\n",
    "    return ' '.join(words)\n",
    "\n",
    "preprocessed_documents = [preprocess_text(doc) for doc in documents]"
   ]
  },
  {
   "cell_type": "code",
   "execution_count": 4,
   "id": "4f2e523f-f261-46db-ad6d-5f63e8e74e38",
   "metadata": {},
   "outputs": [],
   "source": [
    "# TF-IDF vectorization\n",
    "vectorizer = TfidfVectorizer()\n",
    "X = vectorizer.fit_transform(preprocessed_documents)\n",
    "\n",
    "# Number of clusters\n",
    "k = 3"
   ]
  },
  {
   "cell_type": "code",
   "execution_count": 5,
   "id": "f46cbdc3-b0a4-41d9-9b0e-155284db9956",
   "metadata": {},
   "outputs": [
    {
     "name": "stderr",
     "output_type": "stream",
     "text": [
      "/home/network1/.local/lib/python3.10/site-packages/sklearn/cluster/_kmeans.py:1412: FutureWarning: The default value of `n_init` will change from 10 to 'auto' in 1.4. Set the value of `n_init` explicitly to suppress the warning\n",
      "  super()._check_params_vs_input(X, default_n_init=10)\n"
     ]
    },
    {
     "name": "stdout",
     "output_type": "stream",
     "text": [
      "Cluster Assignments:\n",
      "Cluster 1: ['Data preprocessing is essential in any data analysis.', 'Text mining involves extracting useful information from text data.', 'Statistics is a fundamental concept in data science.', 'Anomaly detection is used to find unusual patterns in data.']\n",
      "Cluster 2: ['Machine learning is an exciting field in artificial intelligence.', 'Clustering is a form of unsupervised learning.', 'Classification is a type of supervised learning.']\n",
      "Cluster 3: ['Natural language processing is used to understand human language.', 'Neural networks are inspired by the human brain.', 'Dimensionality reduction techniques help in feature selection.']\n"
     ]
    }
   ],
   "source": [
    "# K-means clustering\n",
    "kmeans = KMeans(n_clusters=k, random_state=42)\n",
    "kmeans.fit(X)\n",
    "\n",
    "# Print cluster assignments\n",
    "print(\"Cluster Assignments:\")\n",
    "for i in range(k):\n",
    "    cluster_indices = np.where(kmeans.labels_ == i)[0]\n",
    "    cluster_documents = [documents[idx] for idx in cluster_indices]\n",
    "    print(f\"Cluster {i+1}: {cluster_documents}\")"
   ]
  },
  {
   "cell_type": "markdown",
   "id": "b8daefb9-4c90-4f8c-b711-e1e17b2f9152",
   "metadata": {},
   "source": [
    "**Problem – 1:\n",
    "Implement k-means clustering for documents using reallocation method and show the output for given example (ppt).**"
   ]
  },
  {
   "cell_type": "code",
   "execution_count": 9,
   "id": "df72399c-7426-4f46-a266-39cf6ed869de",
   "metadata": {},
   "outputs": [],
   "source": [
    "import numpy as np\n",
    "from sklearn.feature_extraction.text import TfidfVectorizer\n",
    "from sklearn.cluster import KMeans\n",
    "from sklearn.datasets import fetch_20newsgroups\n",
    "\n",
    "# Load example text data (20 Newsgroups dataset)\n",
    "newsgroups = fetch_20newsgroups(subset='all', remove=('headers', 'footers', 'quotes'))\n",
    "documents = newsgroups.data"
   ]
  },
  {
   "cell_type": "code",
   "execution_count": 10,
   "id": "4e9f4051-f1fa-4bbd-8c38-9e3506be52b2",
   "metadata": {},
   "outputs": [],
   "source": [
    "# TF-IDF vectorization\n",
    "vectorizer = TfidfVectorizer(max_df=0.5, min_df=2, stop_words='english')\n",
    "X = vectorizer.fit_transform(documents)\n",
    "\n",
    "# Number of clusters\n",
    "k = 20"
   ]
  },
  {
   "cell_type": "code",
   "execution_count": 11,
   "id": "6dcd5aed-b985-4600-bc94-d22f8674a409",
   "metadata": {},
   "outputs": [
    {
     "name": "stderr",
     "output_type": "stream",
     "text": [
      "/home/network1/.local/lib/python3.10/site-packages/sklearn/cluster/_kmeans.py:1412: FutureWarning: The default value of `n_init` will change from 10 to 'auto' in 1.4. Set the value of `n_init` explicitly to suppress the warning\n",
      "  super()._check_params_vs_input(X, default_n_init=10)\n"
     ]
    },
    {
     "name": "stdout",
     "output_type": "stream",
     "text": [
      "Cluster Assignments:\n",
      "Cluster 1: 5345 documents\n",
      "Cluster 2: 456 documents\n",
      "Cluster 3: 632 documents\n",
      "Cluster 4: 976 documents\n",
      "Cluster 5: 333 documents\n",
      "Cluster 6: 1918 documents\n",
      "Cluster 7: 280 documents\n",
      "Cluster 8: 1064 documents\n",
      "Cluster 9: 264 documents\n",
      "Cluster 10: 2837 documents\n",
      "Cluster 11: 616 documents\n",
      "Cluster 12: 72 documents\n",
      "Cluster 13: 406 documents\n",
      "Cluster 14: 388 documents\n",
      "Cluster 15: 258 documents\n",
      "Cluster 16: 190 documents\n",
      "Cluster 17: 973 documents\n",
      "Cluster 18: 320 documents\n",
      "Cluster 19: 559 documents\n",
      "Cluster 20: 959 documents\n"
     ]
    }
   ],
   "source": [
    "# K-means clustering\n",
    "kmeans = KMeans(n_clusters=k, random_state=42)\n",
    "kmeans.fit(X)\n",
    "\n",
    "# Print cluster assignments\n",
    "print(\"Cluster Assignments:\")\n",
    "for i in range(k):\n",
    "    cluster_indices = np.where(kmeans.labels_ == i)[0]\n",
    "    print(f\"Cluster {i+1}: {len(cluster_indices)} documents\")"
   ]
  },
  {
   "cell_type": "code",
   "execution_count": 12,
   "id": "519f7c92-9dc2-4ad0-872f-c9065f0e4bcf",
   "metadata": {},
   "outputs": [
    {
     "name": "stdout",
     "output_type": "stream",
     "text": [
      "\n",
      "Top terms per cluster:\n",
      "Cluster 1: edu, com, does, know, deleted, new, did, article, sure, just, \n",
      "Cluster 2: israel, jews, armenian, israeli, armenians, arab, turkish, jewish, arabs, people, \n",
      "Cluster 3: church, christian, religion, bible, christians, christianity, god, faith, people, believe, \n",
      "Cluster 4: thanks, advance, mail, know, does, hi, looking, info, help, information, \n",
      "Cluster 5: drive, hard, disk, drives, floppy, ide, controller, meg, hd, thanks, \n",
      "Cluster 6: card, use, file, window, program, pc, monitor, software, graphics, using, \n",
      "Cluster 7: god, believe, existence, bible, people, faith, does, belief, christians, know, \n",
      "Cluster 8: don, think, know, just, like, say, want, really, right, did, \n",
      "Cluster 9: jesus, god, christ, sin, bible, christian, people, mary, christians, life, \n",
      "Cluster 10: just, like, space, time, good, ve, use, know, years, new, \n",
      "Cluster 11: 00, sale, shipping, offer, condition, price, asking, new, 10, sell, \n",
      "Cluster 12: dsl, n3jxp, cadre, chastity, geb, intellect, skepticism, shameful, pitt, surrender, \n",
      "Cluster 13: car, cars, engine, miles, dealer, new, oil, ford, like, good, \n",
      "Cluster 14: key, chip, encryption, clipper, keys, escrow, government, algorithm, nsa, des, \n",
      "Cluster 15: bike, ride, bikes, riding, dod, just, like, motorcycle, road, don, \n",
      "Cluster 16: scsi, bus, ide, controller, drive, isa, drives, card, disk, dma, \n",
      "Cluster 17: game, team, games, year, hockey, players, season, baseball, play, espn, \n",
      "Cluster 18: fbi, koresh, batf, compound, did, children, gas, atf, warrant, government, \n",
      "Cluster 19: windows, dos, file, ms, os, files, run, use, running, thanks, \n",
      "Cluster 20: people, gun, government, don, right, just, think, like, guns, know, \n"
     ]
    }
   ],
   "source": [
    "# Top terms in each cluster\n",
    "print(\"\\nTop terms per cluster:\")\n",
    "order_centroids = kmeans.cluster_centers_.argsort()[:, ::-1]\n",
    "terms = vectorizer.get_feature_names_out()\n",
    "for i in range(k):\n",
    "    print(f\"Cluster {i+1}: \", end=\"\")\n",
    "    for ind in order_centroids[i, :10]:\n",
    "        print(terms[ind], end=\", \")\n",
    "    print()"
   ]
  },
  {
   "cell_type": "markdown",
   "id": "c94fe8f4-1376-4858-9345-d9a4b4eab4c0",
   "metadata": {},
   "source": [
    "In this example, I'm using the **20 Newsgroups dataset** as an example text dataset."
   ]
  },
  {
   "cell_type": "markdown",
   "id": "adc5cb20-42f1-4368-9f64-85da39b81be2",
   "metadata": {},
   "source": [
    "**ELBOW METHOD AND SILHOUTTE METHOD**"
   ]
  },
  {
   "cell_type": "code",
   "execution_count": 13,
   "id": "52d07c12-f721-4a20-98ac-0805ddf39ddd",
   "metadata": {},
   "outputs": [],
   "source": [
    "import numpy as np\n",
    "from sklearn.feature_extraction.text import TfidfVectorizer\n",
    "from sklearn.cluster import KMeans\n",
    "from sklearn.metrics import silhouette_score\n",
    "import matplotlib.pyplot as plt\n",
    "\n",
    "# Sample text corpus\n",
    "corpus = [\n",
    "    \"Machine learning is an exciting field in artificial intelligence.\",\n",
    "    \"Natural language processing is used to understand human language.\",\n",
    "    \"Clustering is a form of unsupervised learning.\",\n",
    "    \"Data preprocessing is essential in any data analysis.\",\n",
    "    \"Neural networks are inspired by the human brain.\",\n",
    "    \"Text mining involves extracting useful information from text data.\",\n",
    "    \"Classification is a type of supervised learning.\",\n",
    "    \"Dimensionality reduction techniques help in feature selection.\",\n",
    "    \"Statistics is a fundamental concept in data science.\",\n",
    "    \"Anomaly detection is used to find unusual patterns in data.\"\n",
    "]\n",
    "\n",
    "# Preprocessing and TF-IDF Vectorization\n",
    "vectorizer = TfidfVectorizer(stop_words='english')\n",
    "X = vectorizer.fit_transform(corpus)"
   ]
  },
  {
   "cell_type": "code",
   "execution_count": 14,
   "id": "785443a5-0133-46cd-be46-25e42ff63d85",
   "metadata": {},
   "outputs": [
    {
     "name": "stderr",
     "output_type": "stream",
     "text": [
      "/home/network1/.local/lib/python3.10/site-packages/sklearn/cluster/_kmeans.py:1412: FutureWarning: The default value of `n_init` will change from 10 to 'auto' in 1.4. Set the value of `n_init` explicitly to suppress the warning\n",
      "  super()._check_params_vs_input(X, default_n_init=10)\n",
      "/home/network1/.local/lib/python3.10/site-packages/sklearn/cluster/_kmeans.py:1412: FutureWarning: The default value of `n_init` will change from 10 to 'auto' in 1.4. Set the value of `n_init` explicitly to suppress the warning\n",
      "  super()._check_params_vs_input(X, default_n_init=10)\n",
      "/home/network1/.local/lib/python3.10/site-packages/sklearn/cluster/_kmeans.py:1412: FutureWarning: The default value of `n_init` will change from 10 to 'auto' in 1.4. Set the value of `n_init` explicitly to suppress the warning\n",
      "  super()._check_params_vs_input(X, default_n_init=10)\n",
      "/home/network1/.local/lib/python3.10/site-packages/sklearn/cluster/_kmeans.py:1412: FutureWarning: The default value of `n_init` will change from 10 to 'auto' in 1.4. Set the value of `n_init` explicitly to suppress the warning\n",
      "  super()._check_params_vs_input(X, default_n_init=10)\n"
     ]
    }
   ],
   "source": [
    "# Determine optimal number of clusters using the elbow method\n",
    "inertia_values = []\n",
    "silhouette_scores = []\n",
    "num_clusters_range = range(2, 6)  # You can adjust this range\n",
    "\n",
    "for num_clusters in num_clusters_range:\n",
    "    kmeans = KMeans(n_clusters=num_clusters, random_state=42)\n",
    "    kmeans.fit(X)\n",
    "    inertia_values.append(kmeans.inertia_)\n",
    "    silhouette_scores.append(silhouette_score(X, kmeans.labels_))"
   ]
  },
  {
   "cell_type": "code",
   "execution_count": 15,
   "id": "8e7057f3-0eeb-40b1-8272-37cabda7df59",
   "metadata": {},
   "outputs": [
    {
     "data": {
      "text/plain": [
       "Text(0, 0.5, 'Inertia')"
      ]
     },
     "execution_count": 15,
     "metadata": {},
     "output_type": "execute_result"
    },
    {
     "data": {
      "image/png": "[encoded data removed]",
      "text/plain": [
       "<Figure size 720x360 with 1 Axes>"
      ]
     },
     "metadata": {
      "needs_background": "light"
     },
     "output_type": "display_data"
    }
   ],
   "source": [
    "# Plotting Elbow Method\n",
    "plt.figure(figsize=(10, 5))\n",
    "plt.subplot(1, 2, 1)\n",
    "plt.plot(num_clusters_range, inertia_values, marker='o')\n",
    "plt.title('Elbow Method')\n",
    "plt.xlabel('Number of Clusters')\n",
    "plt.ylabel('Inertia')"
   ]
  },
  {
   "cell_type": "code",
   "execution_count": 19,
   "id": "4aef8e02-ab55-4010-b04f-a24cd6811040",
   "metadata": {},
   "outputs": [
    {
     "data": {
      "text/plain": [
       "Text(0, 0.5, 'Inertia')"
      ]
     },
     "execution_count": 19,
     "metadata": {},
     "output_type": "execute_result"
    },
    {
     "data": {
      "image/png": "[encoded data removed]",
      "text/plain": [
       "<Figure size 720x360 with 1 Axes>"
      ]
     },
     "metadata": {
      "needs_background": "light"
     },
     "output_type": "display_data"
    }
   ],
   "source": [
    "# Plotting Elbow Method (DIFFERENT PLOT)\n",
    "plt.figure(figsize=(10, 5))\n",
    "plt.subplot(7, 1, 2)\n",
    "plt.plot(num_clusters_range, inertia_values, marker='o')\n",
    "plt.title('Elbow Method')\n",
    "plt.xlabel('Number of Clusters')\n",
    "plt.ylabel('Inertia')"
   ]
  },
  {
   "cell_type": "code",
   "execution_count": 16,
   "id": "a2d76843-9447-470d-abc7-9e5600f6e42f",
   "metadata": {},
   "outputs": [
    {
     "data": {
      "image/png": "[encoded data removed]",
      "text/plain": [
       "<Figure size 432x288 with 1 Axes>"
      ]
     },
     "metadata": {
      "needs_background": "light"
     },
     "output_type": "display_data"
    }
   ],
   "source": [
    "# Plotting Silhouette Method\n",
    "plt.subplot(1, 2, 2)\n",
    "plt.plot(num_clusters_range, silhouette_scores, marker='o')\n",
    "plt.title('Silhouette Method')\n",
    "plt.xlabel('Number of Clusters')\n",
    "plt.ylabel('Silhouette Score')\n",
    "\n",
    "plt.tight_layout()\n",
    "plt.show()"
   ]
  },
  {
   "cell_type": "code",
   "execution_count": 22,
   "id": "190aea0b-d7fd-4182-aed9-6872e7d797b0",
   "metadata": {},
   "outputs": [
    {
     "data": {
      "image/png": "[encoded data removed]",
      "text/plain": [
       "<Figure size 432x288 with 1 Axes>"
      ]
     },
     "metadata": {
      "needs_background": "light"
     },
     "output_type": "display_data"
    }
   ],
   "source": [
    "# Plotting Silhouette Method (DIFFERENT PLOT)\n",
    "plt.subplot(3, 3, 2)\n",
    "plt.plot(num_clusters_range, silhouette_scores, marker='o')\n",
    "plt.title('Silhouette Method')\n",
    "plt.xlabel('Number of Clusters')\n",
    "plt.ylabel('Silhouette Score')\n",
    "\n",
    "plt.tight_layout()\n",
    "plt.show()"
   ]
  }
 ],
 "metadata": {
  "kernelspec": {
   "display_name": "Python 3 (ipykernel)",
   "language": "python",
   "name": "python3"
  },
  "language_info": {
   "codemirror_mode": {
    "name": "ipython",
    "version": 3
   },
   "file_extension": ".py",
   "mimetype": "text/x-python",
   "name": "python",
   "nbconvert_exporter": "python",
   "pygments_lexer": "ipython3",
   "version": "3.10.12"
  }
 },
 "nbformat": 4,
 "nbformat_minor": 5
}
