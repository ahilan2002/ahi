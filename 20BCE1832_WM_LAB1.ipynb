{
  "nbformat": 4,
  "nbformat_minor": 0,
  "metadata": {
    "colab": {
      "provenance": []
    },
    "kernelspec": {
      "name": "python3",
      "display_name": "Python 3"
    },
    "language_info": {
      "name": "python"
    }
  },
  "cells": [
    {
      "cell_type": "markdown",
      "source": [
        "NAME: HARINI S\n",
        "REGISTER NUMBER: 20BCE1832\n",
        "COURSE: WEB MINING LAB\n",
        "FACULTY: Dr Bhuvaneshwari A"
      ],
      "metadata": {
        "id": "tK6i6P5Wl8HI"
      }
    },
    {
      "cell_type": "markdown",
      "source": [
        "1. Given a seed/root URL, e.g., \"Vit.ac.in\", Design a simple crawler to return all pages/(URLs) that contains a keyword \"research\" from this site. (25 pages)"
      ],
      "metadata": {
        "id": "VZWF3XJ9mH5V"
      }
    },
    {
      "cell_type": "code",
      "execution_count": 1,
      "metadata": {
        "colab": {
          "base_uri": "https://localhost:8080/"
        },
        "id": "Okylu1lkl2Hd",
        "outputId": "099a7ffd-71c3-47f4-84bd-d92a1d6de78d"
      },
      "outputs": [
        {
          "output_type": "stream",
          "name": "stdout",
          "text": [
            "root page retrieved\n",
            "content parsed\n",
            "links in url https://www.vit.ac.in containing the string 'research'\n",
            "\t1: https://vit.ac.in/research/academic\n",
            "\t2: https://vit.ac.in/research\n",
            "\t3: https://vit.ac.in/research/centers-list\n",
            "\t4: https://vit.ac.in/schools-centres-list-research-guides-2023/\n",
            "\t5: https://vit.ac.in/research/sponsored-research\n",
            "\t6: https://vit.ac.in/admissions/research\n"
          ]
        }
      ],
      "source": [
        "from requests import get, ConnectionError\n",
        "from bs4 import BeautifulSoup\n",
        "import re\n",
        "from pprint import pprint\n",
        "\n",
        "q1_root_url = \"https://www.vit.ac.in\"\n",
        "q1_search_string = \"research\"\n",
        "\n",
        "q1_resp = get(q1_root_url)\n",
        "if q1_resp.status_code == 200:\n",
        "    print('root page retrieved')\n",
        "\n",
        "root_page = BeautifulSoup(q1_resp.content, 'html.parser')\n",
        "if root_page is not None:\n",
        "    print('content parsed')\n",
        "\n",
        "a_tags = root_page.find_all('a')\n",
        "matched_a_tags ={\n",
        "    a['href']\n",
        "    for a in a_tags\n",
        "    if q1_search_string in a['href']\n",
        "          }\n",
        "print(f'links in url {q1_root_url} containing the string \\'{q1_search_string}\\'')\n",
        "for i, a in enumerate(matched_a_tags, start=1):\n",
        "  print(f'\\t{i}: {a}')"
      ]
    },
    {
      "cell_type": "markdown",
      "source": [
        "2. Find documents that contain the word “admissions” and the word “international” within the URL “Vit.ac.in” using Python. (25 pages)"
      ],
      "metadata": {
        "id": "Bh77SapymMKJ"
      }
    },
    {
      "cell_type": "code",
      "source": [
        "import requests\n",
        "from bs4 import BeautifulSoup\n",
        "import re\n",
        "root_URL= \"https://www.vit.ac.in\"\n",
        "search_words = ['admissions', 'international']\n",
        "#Use the requests library to retrieve the web page of the root URL\n",
        "response=requests.get(root_URL)\n",
        "print(\"Status of the response: \",response.status_code)"
      ],
      "metadata": {
        "colab": {
          "base_uri": "https://localhost:8080/"
        },
        "id": "Yv0LDjifmRPL",
        "outputId": "af2f4c50-3485-460c-c631-69abd93acb12"
      },
      "execution_count": 2,
      "outputs": [
        {
          "output_type": "stream",
          "name": "stdout",
          "text": [
            "Status of the response:  200\n"
          ]
        }
      ]
    },
    {
      "cell_type": "code",
      "source": [
        "#use the beautiful soup library to parse the retrieved web page\n",
        "root_page=BeautifulSoup(response.content, 'html.parser')"
      ],
      "metadata": {
        "id": "MUZGhDEzmbEB"
      },
      "execution_count": 3,
      "outputs": []
    },
    {
      "cell_type": "code",
      "source": [
        "#retrieve all the anchor tags to the sub-pages by retrieving all the '<a>' tags\n",
        "anchor_tags=root_page.find_all('a')"
      ],
      "metadata": {
        "id": "33DqkysImgk5"
      },
      "execution_count": 4,
      "outputs": []
    },
    {
      "cell_type": "code",
      "source": [
        "#accumulate all the unique links from the anchor tags with valid syntax(starts\n",
        "#with http and not just inter page reference)\n",
        "valid_links=[]\n",
        "for anchor_tag in anchor_tags:\n",
        "    link=anchor_tag['href']\n",
        "    if link.startswith(\"http\"):\n",
        "        if link not in valid_links:\n",
        "            valid_links.append(link)"
      ],
      "metadata": {
        "id": "c6u7eHlLmhyZ"
      },
      "execution_count": 5,
      "outputs": []
    },
    {
      "cell_type": "code",
      "source": [
        "print(\"The number of documents/pages linked to the current root page is: \",len(valid_links))"
      ],
      "metadata": {
        "id": "K2cFQM_UmkxU"
      },
      "execution_count": null,
      "outputs": []
    },
    {
      "cell_type": "code",
      "source": [
        "#arrays to store the links\n",
        "result=[]\n",
        "failed=[]"
      ],
      "metadata": {
        "id": "BDmp8ijkmnym"
      },
      "execution_count": 6,
      "outputs": []
    },
    {
      "cell_type": "code",
      "source": [
        "#check if the word 'admission' is present in each page, and if so then save its url\n",
        "for link in valid_links:\n",
        "    try:\n",
        "        page=requests.get(link).text\n",
        "    except requests.ConnectionError:\n",
        "        try:\n",
        "            page=requests.get(link,verify=False).text\n",
        "        except:\n",
        "            failed.append(link)\n",
        "            continue\n",
        "    if(re.search(search_words[0],page,re.IGNORECASE)) and (re.search(search_words[1],page,re.IGNORECASE)):\n",
        "        result.append(link)"
      ],
      "metadata": {
        "colab": {
          "base_uri": "https://localhost:8080/"
        },
        "id": "e3-C3HKVmp1_",
        "outputId": "f55af30c-93a8-48f4-af98-3e27a73f0f89"
      },
      "execution_count": 7,
      "outputs": [
        {
          "output_type": "stream",
          "name": "stderr",
          "text": [
            "/usr/local/lib/python3.10/dist-packages/urllib3/connectionpool.py:1095: InsecureRequestWarning: Unverified HTTPS request is being made to host 'chennai.vit.ac.in'. Adding certificate verification is strongly advised. See: https://urllib3.readthedocs.io/en/latest/advanced-usage.html#tls-warnings\n",
            "  warnings.warn(\n"
          ]
        }
      ]
    },
    {
      "cell_type": "code",
      "source": [
        "print(\"The links in the root URL page which contains the word 'admissions' and 'international' are: \")\n",
        "for url in result:\n",
        "    print(\"\\t\",url)"
      ],
      "metadata": {
        "colab": {
          "base_uri": "https://localhost:8080/"
        },
        "id": "tRnnUzMjmsKd",
        "outputId": "7c3b23d4-231f-4954-dd59-d5ada62b7738"
      },
      "execution_count": 8,
      "outputs": [
        {
          "output_type": "stream",
          "name": "stdout",
          "text": [
            "The links in the root URL page which contains the word 'admissions' and 'international' are: \n",
            "\t https://vit.ac.in/btech-induction-schedule-2023\n",
            "\t https://vit.ac.in/pg-induction-programme-schedule-2023\n",
            "\t https://vit.ac.in/applications-open-2023-24\n",
            "\t http://chennai.vit.ac.in/\n",
            "\t https://vitap.ac.in/\n",
            "\t https://vitbhopal.ac.in/\n",
            "\t https://vit.ac.in\n",
            "\t https://vit.ac.in/about-vit\n",
            "\t https://vit.ac.in/about/vision-mission\n",
            "\t https://vit.ac.in/vit-milestones\n",
            "\t https://vit.ac.in/about/leadership\n",
            "\t https://vit.ac.in/governance\n",
            "\t https://vit.ac.in/about/administrative-offices\n",
            "\t https://vit.ac.in/about/infrastructure\n",
            "\t https://vit.ac.in/about/sustainability\n",
            "\t https://vit.ac.in/true-green\n",
            "\t https://vit.ac.in/about/community-outreach\n",
            "\t https://vit.ac.in/about/communityradio\n",
            "\t https://vit.ac.in/all-news-archieved\n",
            "\t https://vit.ac.in/all-events\n",
            "\t https://vit.ac.in/national-institutional-ranking-framework-nirf\n",
            "\t https://vit.ac.in/mhrdugcaicte\n",
            "\t https://vit.ac.in/about/news-letter\n",
            "\t https://vit.ac.in/academics/home\n",
            "\t https://vit.ac.in/academic-council-minutes\n",
            "\t https://vit.ac.in/programmes-offered-1\n",
            "\t https://vit.ac.in/programmes-offered-2021-22\n",
            "\t https://vit.ac.in/programmes-offered-2020-21\n",
            "\t https://vit.ac.in/schools\n",
            "\t https://vit.ac.in/academics/ffcs\n",
            "\t https://vit.ac.in/academics/library\n",
            "\t https://vit.ac.in/academics-feedback\n",
            "\t https://vit.ac.in/admissions/overview\n",
            "\t https://vit.ac.in/admissions/programmes-offered\n",
            "\t https://vit.ac.in/all-courses/ug\n",
            "\t https://vit.ac.in/all-courses/pg\n",
            "\t https://vit.ac.in/admissions/research\n",
            "\t https://vit.ac.in/admissions/international\n",
            "\t https://vit.ac.in/stars-support-advancement-rural-students-0\n",
            "\t https://vit.ac.in/cdc-overview\n",
            "\t https://vit.ac.in/cdc-highlights\n",
            "\t https://vit.ac.in/cdc-tracker\n",
            "\t https://vit.ac.in/cdc-office\n",
            "\t https://vit.ac.in/cdc-contact-us\n",
            "\t https://vit.ac.in/InternationalRelations\n",
            "\t https://vit.ac.in/internationalrelations/itp\n",
            "\t https://vit.ac.in/academics-more/Semester Abroad Program (SAP)\n",
            "\t https://vit.ac.in/internationalrelations/partneruniversities\n",
            "\t https://vit.ac.in/admissions/international/overview\n",
            "\t https://vit.ac.in/incoming-exchange-student-program\n",
            "\t https://vit.ac.in/academics-more/Contact us\n",
            "\t https://vit.ac.in/research\n",
            "\t https://vit.ac.in/research/academic\n",
            "\t https://vit.ac.in/research/sponsored-research\n",
            "\t https://vit.ac.in/iprcell\n",
            "\t https://vit.ac.in/research/centers-list\n",
            "\t https://vit.ac.in/campuslife/overview\n",
            "\t https://vit.ac.in/campuslife/fests\n",
            "\t https://vit.ac.in/campuslife/studentswelfare\n",
            "\t https://vit.ac.in/campus-category/Newsletter\n",
            "\t https://vit.ac.in/campus-category/Clubs\n",
            "\t https://vit.ac.in/campus-category/Chapters\n",
            "\t https://vit.ac.in/campus-category/Campus-Events\n",
            "\t https://vit.ac.in/campus-category/Counselling-Division\n",
            "\t https://vit.ac.in/campus-category/grievancecell\n",
            "\t https://vit.ac.in/campus-category/Programme Representatives\n",
            "\t https://vit.ac.in/campus-category/Student-Council\n",
            "\t https://vit.ac.in/service-and-support-differently-abled-learners-sasdal\n",
            "\t https://vit.ac.in/campus/Teams/PROJECTS-LAB\n",
            "\t https://vit.ac.in/campuslife/sports\n",
            "\t https://vit.ac.in/campuslife/hostels\n",
            "\t https://vit.ac.in/campuslife/healthservices\n",
            "\t https://vit.ac.in/campuslife/otheramenities\n",
            "\t https://vit.ac.in/detailview/green-vit\n",
            "\t https://vit.ac.in/policies-core-values\n",
            "\t https://vit.ac.in/innovation-and-startup-policy\n",
            "\t https://vit.ac.in/institutions-innovation-council\n",
            "\t https://vit.ac.in/academics/coe\n",
            "\t https://vit.ac.in/transcripts-alumni\n",
            "\t https://vit.ac.in/coe-email-contacts\n",
            "\t https://vit.ac.in/centers/asc\n",
            "\t https://vit.ac.in/guest-house\n",
            "\t https://vit.ac.in/redressal\n",
            "\t https://vit.ac.in/hotels-in-vellore\n",
            "\t https://vit.ac.in/anti-ragging-committee\n",
            "\t https://vit.ac.in/capability-enhancement-scheme\n",
            "\t https://vit.ac.in/internal-complaints-committee\n",
            "\t https://vit.ac.in/academics/transcripts\n",
            "\t https://vit.ac.in/instruction\n",
            "\t https://vit.ac.in/alumni-events\n",
            "\t https://vit.ac.in/detailview/alumni-photo-gallery\n",
            "\t https://vit.ac.in/alumni-office-contact\n",
            "\t https://vit.ac.in/ranking-and-recognition\n",
            "\t https://vit.ac.in/school-advanced-sciences-sas/hands-training-advanced-r-programming\n",
            "\t https://vit.ac.in/school-mechanical-engineering-smec/advanced-methods-optimization-design-and-manufacturing\n",
            "\t https://vit.ac.in/school-information-technology-engineering-site/two-days-workshop-cyber-security-awareness\n",
            "\t https://vit.ac.in/school-advanced-sciences-sas/international-symposium-mathematical-analysis-fractals-and-dynamical\n",
            "\t https://vit.ac.in/general/electronic-product-development\n",
            "\t https://vit.ac.in/school-electronics-engineering-sense/redundancy-protocols-internetworking\n",
            "\t https://vit.ac.in/school-electrical-engineering-select/one-day-workshop-embedded-systems-architecture-and-arm\n",
            "\t https://vit.ac.in/school-electrical-engineering-select/three-days-hands-workshop-latex-technical-writing-0\n",
            "\t https://vit.ac.in/school-bio-sciences-technology-sbst/recent-trends-food-science-and-technology\n",
            "\t https://vit.ac.in/school-advanced-sciences-sas/one-day-international-workshop-exploring-molecules-graph-theory\n",
            "\t https://vit.ac.in/vit-business-school-vit-bs/two-days-workshop-dashboard-creation-mutivariate-techniques-and-sem-using\n",
            "\t https://vit.ac.in/school-electrical-engineering-select/2-day-workshop-artificial-intelligence-and-machine-learning\n",
            "\t https://vit.ac.in/school-advanced-sciences-sas/five-day-workshop-matlab-science-and-technology\n",
            "\t https://vit.ac.in/school-electrical-engineering-select/one-day-national-workshop-%E2%80%9Crenewable-energy-grid-integration\n",
            "\t https://vit.ac.in/general/advancement-solar-photovoltaic-system-and-modeling-using-pvsyst\n",
            "\t https://vit.ac.in/school-electronics-engineering-sense/one-day-national-workshop-iot-edge-cloud-connect-using-ni-myrio\n",
            "\t https://vit.ac.in/school-electrical-engineering-select/advancement-renewable-energy-and-smart-electric-vehicle-aresev\n",
            "\t https://vit.ac.in/general/labview-beginners\n",
            "\t https://vit.ac.in/school-bio-sciences-technology-sbst/indian-conference-bioinformatics-2023-inbix23-0\n",
            "\t https://vit.ac.in/school-electrical-engineering-select/4th-ieee-international-conference-innovations-power-and\n",
            "\t https://vit.ac.in/school-electronics-engineering-sense/premier-international-conference-based-electronics-next\n",
            "\t https://vit.ac.in/school-chemical-engineering-scheme/technoscape-2023-5th-international-conference-sustainable\n",
            "\t https://vit.ac.in/school-advanced-sciences-sas/international-conference-data-management-analytics-and-innovation-2024\n",
            "\t https://vit.ac.in/school-information-technology-engineering-site/second-ieee-and-acm-collaborative-international\n",
            "\t https://vit.ac.in/events-photos-and-videos\n",
            "\t https://vit.ac.in/schools-centres-list-research-guides-2023/\n",
            "\t https://vit.ac.in/our-ambassadors\n",
            "\t https://vit.ac.in/scholarship\n",
            "\t https://vit.ac.in/ariia-ranking\n",
            "\t https://vit.ac.in/placements/dreamoffers\n",
            "\t https://vit.ac.in/placements/superdreamoffers\n",
            "\t https://vit.ac.in/placements/internship\n",
            "\t https://vit.ac.in/placements/overview\n",
            "\t https://vit.ac.in/vit-university-sets-record-limca-book-records\n",
            "\t https://vit.ac.in/placements/statistics\n",
            "\t https://vit.ac.in/seminar-sustainable-play-technology-0\n",
            "\t https://vit.ac.in/world-yoga-day-2023-0\n",
            "\t https://vit.ac.in/vit-signs-mou-6-european-and-uk-universities-0\n",
            "\t https://vit.ac.in/chancellor-dr-g-viswanathan-and-vice-president-dr-g-v-selvam-met-shri-amitsha-0\n",
            "\t https://vit.ac.in/galleries\n",
            "\t https://vit.ac.in/video\n",
            "\t https://vit.ac.in/campus-hostel/hostels\n",
            "\t https://vit.ac.in/vit-privacy-policy\n",
            "\t https://vit.ac.in/sitemap/\n",
            "\t https://vit.ac.in/academics/iqac\n",
            "\t https://vit.ac.in/contactus\n",
            "\t https://vit.ac.in/guesthouse/\n",
            "\t https://vit.ac.in/committee-sustainability-initiatives\n",
            "\t https://vit.ac.in/committee-ensuring-equality-diversity-and-inclusivity\n",
            "\t https://vit.ac.in/covid-19-initiatives\n",
            "\t https://vit.ac.in/career-development-centre\n",
            "\t https://vit.ac.in/tender-notifications\n"
          ]
        }
      ]
    },
    {
      "cell_type": "markdown",
      "source": [
        "3. Find documents that contain the word “Programme” but not the word “programming” within the URL “Vit.ac.in” using Python. (5 pages)"
      ],
      "metadata": {
        "id": "lMyd9cV4nIX3"
      }
    },
    {
      "cell_type": "code",
      "source": [
        "import requests\n",
        "from bs4 import BeautifulSoup\n",
        "import re\n",
        "root_URL= \"https://www.vit.ac.in\"\n",
        "search_word_1=\"Programme\"\n",
        "search_word_2=\"Programming\"\n",
        "#Use the requests library to retrieve the web page of the root URL\n",
        "response=requests.get(root_URL)\n",
        "print(\"Status of the response: \",response.status_code)"
      ],
      "metadata": {
        "colab": {
          "base_uri": "https://localhost:8080/"
        },
        "id": "4LsuvwQCnAOJ",
        "outputId": "367c7da2-3625-4586-c6e6-4e3bd94077ab"
      },
      "execution_count": 9,
      "outputs": [
        {
          "output_type": "stream",
          "name": "stdout",
          "text": [
            "Status of the response:  200\n"
          ]
        }
      ]
    },
    {
      "cell_type": "code",
      "source": [
        "#use the beautiful soup library to parse the retrieved web page\n",
        "root_page=BeautifulSoup(response.content,'html.parser')"
      ],
      "metadata": {
        "id": "sJvtMeo4nQpQ"
      },
      "execution_count": 10,
      "outputs": []
    },
    {
      "cell_type": "code",
      "source": [
        "#retrieve all the anchor tags to the subpages by retrieving all the <a> tags\n",
        "anchor_tags=root_page.find_all('a')"
      ],
      "metadata": {
        "id": "2oofFLYVnUP-"
      },
      "execution_count": 11,
      "outputs": []
    },
    {
      "cell_type": "code",
      "source": [
        "#accumulate all the unique links from the anchor tags with valid syntax(starts\n",
        "#with http and not just inter page reference)\n",
        "valid_links=[]\n",
        "for anchor_tag in anchor_tags:\n",
        "    link=anchor_tag['href']\n",
        "    if link.startswith(\"http\"):\n",
        "        if link not in valid_links:\n",
        "            valid_links.append(link)"
      ],
      "metadata": {
        "id": "eiujhe84nXVw"
      },
      "execution_count": 12,
      "outputs": []
    },
    {
      "cell_type": "code",
      "source": [
        "print(\"The number of documents/pages linked to the current root page is: \",len(valid_links))"
      ],
      "metadata": {
        "colab": {
          "base_uri": "https://localhost:8080/"
        },
        "id": "eh8PZQY2ngNe",
        "outputId": "f207369e-1886-4aab-c355-d1879cecb3e3"
      },
      "execution_count": 13,
      "outputs": [
        {
          "output_type": "stream",
          "name": "stdout",
          "text": [
            "The number of documents/pages linked to the current root page is:  206\n"
          ]
        }
      ]
    },
    {
      "cell_type": "code",
      "source": [
        "#arrays to store the links\n",
        "result=[]\n",
        "failed=[]"
      ],
      "metadata": {
        "id": "ppDAC_zGnlAA"
      },
      "execution_count": 14,
      "outputs": []
    },
    {
      "cell_type": "code",
      "source": [
        "#check if the word 'programme' is present in each page, and if so then save its url\n",
        "for link in valid_links:\n",
        "    try:\n",
        "        page=requests.get(link).text\n",
        "    except requests.ConnectionError:\n",
        "        try:\n",
        "            page=requests.get(link,verify=False).text\n",
        "        except:\n",
        "            failed.append(link)\n",
        "            continue\n",
        "    if(re.search(search_word_1,page,re.IGNORECASE)) and (not re.search(search_word_2,page,re.IGNORECASE)):\n",
        "        result.append(link)"
      ],
      "metadata": {
        "colab": {
          "base_uri": "https://localhost:8080/"
        },
        "id": "sqPvWr0unpZ4",
        "outputId": "9ac9e484-6234-4762-f875-903e551cd56d"
      },
      "execution_count": 15,
      "outputs": [
        {
          "output_type": "stream",
          "name": "stderr",
          "text": [
            "/usr/local/lib/python3.10/dist-packages/urllib3/connectionpool.py:1095: InsecureRequestWarning: Unverified HTTPS request is being made to host 'chennai.vit.ac.in'. Adding certificate verification is strongly advised. See: https://urllib3.readthedocs.io/en/latest/advanced-usage.html#tls-warnings\n",
            "  warnings.warn(\n"
          ]
        }
      ]
    },
    {
      "cell_type": "code",
      "source": [
        "print(\"The links in the root URL page which contains the word 'programme' and not 'programming' are: \")\n",
        "for url in result:\n",
        "    print(\"\\t\",url)"
      ],
      "metadata": {
        "colab": {
          "base_uri": "https://localhost:8080/"
        },
        "id": "Mg43f-tknsci",
        "outputId": "a81b646e-4747-4323-e99b-b21469b0633d"
      },
      "execution_count": 16,
      "outputs": [
        {
          "output_type": "stream",
          "name": "stdout",
          "text": [
            "The links in the root URL page which contains the word 'programme' and not 'programming' are: \n",
            "\t https://vit.ac.in/btech-induction-schedule-2023\n",
            "\t https://vit.ac.in/pg-induction-programme-schedule-2023\n",
            "\t https://vit.ac.in/applications-open-2023-24\n",
            "\t http://chennai.vit.ac.in/\n",
            "\t https://vitap.ac.in/\n",
            "\t https://vitbhopal.ac.in/\n",
            "\t https://vit.ac.in/about-vit\n",
            "\t https://vit.ac.in/about/vision-mission\n",
            "\t https://vit.ac.in/vit-milestones\n",
            "\t https://vit.ac.in/about/leadership\n",
            "\t https://vit.ac.in/governance\n",
            "\t https://vit.ac.in/about/administrative-offices\n",
            "\t https://vit.ac.in/about/infrastructure\n",
            "\t https://vit.ac.in/about/sustainability\n",
            "\t https://vit.ac.in/true-green\n",
            "\t https://vit.ac.in/about/community-outreach\n",
            "\t https://vit.ac.in/about/communityradio\n",
            "\t https://vit.ac.in/all-news-archieved\n",
            "\t https://vit.ac.in/national-institutional-ranking-framework-nirf\n",
            "\t https://vit.ac.in/mhrdugcaicte\n",
            "\t https://vit.ac.in/about/news-letter\n",
            "\t https://vit.ac.in/academics/home\n",
            "\t https://vit.ac.in/sites/default/files/academic/Academic-Regulations.pdf\n",
            "\t https://vit.ac.in/academic-council-minutes\n",
            "\t https://vit.ac.in/programmes-offered-1\n",
            "\t https://vit.ac.in/programmes-offered-2021-22\n",
            "\t https://vit.ac.in/programmes-offered-2020-21\n",
            "\t https://vit.ac.in/schools\n",
            "\t https://vit.ac.in/academics/ffcs\n",
            "\t https://vit.ac.in/academics/library\n",
            "\t https://vit.ac.in/academics-feedback\n",
            "\t https://vit.ac.in/admissions/overview\n",
            "\t https://vit.ac.in/admissions/programmes-offered\n",
            "\t https://vit.ac.in/all-courses/ug\n",
            "\t https://vit.ac.in/all-courses/pg\n",
            "\t https://vit.ac.in/admissions/research\n",
            "\t https://vit.ac.in/admissions/international\n",
            "\t https://vit.ac.in/stars-support-advancement-rural-students-0\n",
            "\t https://vit.ac.in/cdc-highlights\n",
            "\t https://vit.ac.in/cdc-tracker\n",
            "\t https://vit.ac.in/cdc-office\n",
            "\t https://vit.ac.in/cdc-contact-us\n",
            "\t https://vit.ac.in/InternationalRelations\n",
            "\t https://vit.ac.in/internationalrelations/itp\n",
            "\t https://vit.ac.in/academics-more/Semester Abroad Program (SAP)\n",
            "\t https://vit.ac.in/internationalrelations/partneruniversities\n",
            "\t https://vit.ac.in/admissions/international/overview\n",
            "\t https://vit.ac.in/incoming-exchange-student-program\n",
            "\t https://vit.ac.in/academics-more/Contact us\n",
            "\t https://vit.ac.in/research\n",
            "\t https://vit.ac.in/research/academic\n",
            "\t https://vit.ac.in/research/sponsored-research\n",
            "\t https://vit.ac.in/iprcell\n",
            "\t https://vit.ac.in/research/centers-list\n",
            "\t https://vit.ac.in/campuslife/overview\n",
            "\t https://vit.ac.in/campuslife/fests\n",
            "\t https://vit.ac.in/campuslife/studentswelfare\n",
            "\t https://vit.ac.in/campus-category/Newsletter\n",
            "\t https://vit.ac.in/campus-category/Clubs\n",
            "\t https://vit.ac.in/campus-category/Chapters\n",
            "\t https://vit.ac.in/campus-category/Campus-Events\n",
            "\t https://vit.ac.in/campus-category/Counselling-Division\n",
            "\t https://vit.ac.in/campus-category/grievancecell\n",
            "\t https://vit.ac.in/campus-category/Programme Representatives\n",
            "\t https://vit.ac.in/campus-category/Student-Council\n",
            "\t https://vit.ac.in/service-and-support-differently-abled-learners-sasdal\n",
            "\t https://vit.ac.in/campus/Teams/PROJECTS-LAB\n",
            "\t https://vit.ac.in/campuslife/sports\n",
            "\t https://vit.ac.in/campuslife/hostels\n",
            "\t https://vit.ac.in/campuslife/healthservices\n",
            "\t https://vit.ac.in/campuslife/otheramenities\n",
            "\t https://vit.ac.in/detailview/green-vit\n",
            "\t https://vit.ac.in/policies-core-values\n",
            "\t https://vit.ac.in/innovation-and-startup-policy\n",
            "\t https://vit.ac.in/institutions-innovation-council\n",
            "\t https://vit.ac.in/vitol/\n",
            "\t https://vit.ac.in/academics/coe\n",
            "\t https://vit.ac.in/transcripts-alumni\n",
            "\t https://vit.ac.in/coe-email-contacts\n",
            "\t http://www.vittbi.com/#/\n",
            "\t https://vit.ac.in/guest-house\n",
            "\t https://vit.ac.in/redressal\n",
            "\t https://vit.ac.in/hotels-in-vellore\n",
            "\t https://vit.ac.in/anti-ragging-committee\n",
            "\t https://vit.ac.in/capability-enhancement-scheme\n",
            "\t https://vit.ac.in/sites/default/files/Industrial_Visit_Form.doc\n",
            "\t https://vit.ac.in/internal-complaints-committee\n",
            "\t https://vit.ac.in/academics/transcripts\n",
            "\t https://vit.ac.in/instruction\n",
            "\t https://vit.ac.in/alumni-events\n",
            "\t https://vit.ac.in/detailview/alumni-photo-gallery\n",
            "\t https://vit.ac.in/alumni-office-contact\n",
            "\t https://vit.ac.in/ranking-and-recognition\n",
            "\t https://www.youtube.com/c/VITUniversityVellore\n",
            "\t https://vit.ac.in/events-photos-and-videos\n",
            "\t https://www.youtube.com/watch?v=ui4Ym63B1ik\n",
            "\t https://vit.ac.in/schools-centres-list-research-guides-2023/\n",
            "\t https://vtopcc.vit.ac.in/freshersportal\n",
            "\t https://vit.ac.in/our-ambassadors\n",
            "\t https://vit.ac.in/scholarship\n",
            "\t https://vit.ac.in/ariia-ranking\n",
            "\t https://vit.ac.in/placements/dreamoffers\n",
            "\t https://vit.ac.in/placements/superdreamoffers\n",
            "\t https://vit.ac.in/vit-university-sets-record-limca-book-records\n",
            "\t https://vit.ac.in/placements/statistics\n",
            "\t https://vit.ac.in/seminar-sustainable-play-technology-0\n",
            "\t https://vit.ac.in/world-yoga-day-2023-0\n",
            "\t https://vit.ac.in/vit-signs-mou-6-european-and-uk-universities-0\n",
            "\t https://vit.ac.in/chancellor-dr-g-viswanathan-and-vice-president-dr-g-v-selvam-met-shri-amitsha-0\n",
            "\t https://vit.ac.in/galleries\n",
            "\t https://vit.ac.in/video\n",
            "\t https://vit.ac.in/campus-hostel/hostels\n",
            "\t https://vit.ac.in/vit-privacy-policy\n",
            "\t https://vit.ac.in/sitemap/\n",
            "\t https://vit.ac.in/academics/iqac\n",
            "\t http://www.mhrdnats.gov.in/\n",
            "\t https://vit.ac.in/contactus\n",
            "\t https://vit.ac.in/guesthouse/\n",
            "\t https://vit.ac.in/committee-sustainability-initiatives\n",
            "\t https://vit.ac.in/committee-ensuring-equality-diversity-and-inclusivity\n",
            "\t https://vit.ac.in/covid-19-initiatives\n",
            "\t https://vit.ac.in/tender-notifications\n"
          ]
        }
      ]
    },
    {
      "cell_type": "markdown",
      "source": [
        "4. Write a web crawler program which takes as input a url (Educational website) and a search key word and maximum number of pages (15-20 Pages) to be searched and returns as output all the web pages it searched till it found the search word on a web page or return failure.\n",
        "www.annauniv.edu\n",
        "hostel\n",
        "16"
      ],
      "metadata": {
        "id": "eBaTPCX5nxOR"
      }
    },
    {
      "cell_type": "code",
      "source": [
        "import requests\n",
        "from bs4 import BeautifulSoup\n",
        "import re\n",
        "root_URL= input()\n",
        "search_word=input()"
      ],
      "metadata": {
        "colab": {
          "base_uri": "https://localhost:8080/"
        },
        "id": "_bsO_Ww4nun-",
        "outputId": "257eb080-ab02-4ca4-ecad-5f95f6e50c25"
      },
      "execution_count": 17,
      "outputs": [
        {
          "name": "stdout",
          "output_type": "stream",
          "text": [
            "http://www.annauniv.edu\n",
            "hostel\n"
          ]
        }
      ]
    },
    {
      "cell_type": "code",
      "source": [
        "#Use the requests library to retrieve the web page of the root URL\n",
        "response=requests.get(root_URL)\n",
        "print(\"Status of the response: \",response.status_code)"
      ],
      "metadata": {
        "colab": {
          "base_uri": "https://localhost:8080/"
        },
        "id": "mtQM7xgLn0g2",
        "outputId": "70c89ebe-a012-496a-e315-01b6367c9d69"
      },
      "execution_count": 18,
      "outputs": [
        {
          "output_type": "stream",
          "name": "stdout",
          "text": [
            "Status of the response:  200\n"
          ]
        }
      ]
    },
    {
      "cell_type": "code",
      "source": [
        "#use the beautiful soup library to parse the retrieved web page\n",
        "root_page=BeautifulSoup(response.content,'html.parser')"
      ],
      "metadata": {
        "id": "lBwzDjEbn3NB"
      },
      "execution_count": 19,
      "outputs": []
    },
    {
      "cell_type": "code",
      "source": [
        "#retrieve all the anchor tags to the subpages by retrieving all the <a> tags\n",
        "anchor_tags=root_page.find_all('a')\n",
        "result=[]\n",
        "for anchor_tag in anchor_tags:\n",
        " if re.search(search_word,link,re.IGNORECASE):\n",
        "          result.append(link)\n",
        "          print(\"The links in the root url page which contains the word 'admissions' are:\")\n",
        "for url in result:\n",
        "  print(\"\\t\",url)"
      ],
      "metadata": {
        "id": "IYbczQmmwMmI"
      },
      "execution_count": 67,
      "outputs": []
    },
    {
      "cell_type": "code",
      "source": [
        "#accumulate all the unique links from the anchor tags with valid syntax(starts\n",
        "#with http and not just inter page reference)\n",
        "valid_links=[]\n",
        "for anchor_tag in anchor_tags:\n",
        "    if link.startswith(\"http\"):\n",
        "        if link not in valid_links:\n",
        "            valid_links.append(link)"
      ],
      "metadata": {
        "id": "yHeuLpavn8mX"
      },
      "execution_count": 69,
      "outputs": []
    },
    {
      "cell_type": "code",
      "source": [
        "print(\"The number of documents/pages linked to the current root page is: \",len(valid_links))"
      ],
      "metadata": {
        "colab": {
          "base_uri": "https://localhost:8080/"
        },
        "id": "8z_paHM3n_bR",
        "outputId": "3faa531c-cd3c-4653-abf9-b3a2da291a78"
      },
      "execution_count": 70,
      "outputs": [
        {
          "output_type": "stream",
          "name": "stdout",
          "text": [
            "The number of documents/pages linked to the current root page is:  1\n"
          ]
        }
      ]
    },
    {
      "cell_type": "code",
      "source": [
        "#arrays to store the links\n",
        "result=[]\n",
        "failed=[]"
      ],
      "metadata": {
        "id": "U_-rUrUEoCYW"
      },
      "execution_count": 71,
      "outputs": []
    },
    {
      "cell_type": "code",
      "source": [
        "#check if the word 'admission' is present in each page, and if so then save its url\n",
        "for link in valid_links:\n",
        "    try:\n",
        "        page=requests.get(link).text\n",
        "    except requests.ConnectionError:\n",
        "        try:\n",
        "            page=requests.get(link,verify=False).text\n",
        "        except:\n",
        "            failed.append(link)\n",
        "            continue\n",
        "    if(re.search(search_word,page,re.IGNORECASE)) and (re.search(search_words[1],page,re.IGNORECASE)):\n",
        "        result.append(link)"
      ],
      "metadata": {
        "id": "wA5QcbU6oGvi"
      },
      "execution_count": 72,
      "outputs": []
    },
    {
      "cell_type": "code",
      "source": [
        "print(\"The links in the root URL page which contains the word 'data' and 'analytics' are: \")\n",
        "for url in result:\n",
        "    print(\"\\t\",url)"
      ],
      "metadata": {
        "colab": {
          "base_uri": "https://localhost:8080/"
        },
        "id": "gBjWRbMCoHr0",
        "outputId": "909e3e0a-1649-4c99-9c5d-4647e4cf4d4f"
      },
      "execution_count": 73,
      "outputs": [
        {
          "output_type": "stream",
          "name": "stdout",
          "text": [
            "The links in the root URL page which contains the word 'data' and 'analytics' are: \n",
            "\t https://www.annauniv.edu/events.php\n"
          ]
        }
      ]
    },
    {
      "cell_type": "code",
      "source": [
        "print(\"The links that we failed to open are: \")\n",
        "for url in failed:\n",
        "    print(\"\\t\",url)"
      ],
      "metadata": {
        "colab": {
          "base_uri": "https://localhost:8080/"
        },
        "id": "j49ptXZwoMkp",
        "outputId": "0dd0d228-8929-494b-d78e-2a6be5ca572b"
      },
      "execution_count": 74,
      "outputs": [
        {
          "output_type": "stream",
          "name": "stdout",
          "text": [
            "The links that we failed to open are: \n"
          ]
        }
      ]
    },
    {
      "cell_type": "markdown",
      "source": [
        "5. Write a Python program to read the given website and extract the phone numbers and emails and contact addresses from Chennai, Amaravathi, Bhopal vit website. (5 Marks) (Challenging Task) Store it in a text file"
      ],
      "metadata": {
        "id": "dUtsVczv8pIw"
      }
    },
    {
      "cell_type": "code",
      "source": [
        "import requests\n",
        "from bs4 import BeautifulSoup\n",
        "import re\n",
        "root_URL= \"https://vit.ac.in\"\n",
        "#Use the requests library to retrieve the web page of the root URL\n",
        "response=requests.get(root_URL)\n",
        "print(\"Status of the response: \",response.status_code)"
      ],
      "metadata": {
        "colab": {
          "base_uri": "https://localhost:8080/"
        },
        "id": "5OZq-iJO8fFz",
        "outputId": "2b7b2d52-3ea5-42c9-801f-b3d21f563873"
      },
      "execution_count": 75,
      "outputs": [
        {
          "output_type": "stream",
          "name": "stdout",
          "text": [
            "Status of the response:  200\n"
          ]
        }
      ]
    },
    {
      "cell_type": "code",
      "source": [
        "#use the beautiful soup library to parse the retrieved web page\n",
        "root_page=BeautifulSoup(response.content,'html.parser')"
      ],
      "metadata": {
        "id": "dW7kp8CM8Vm4"
      },
      "execution_count": 76,
      "outputs": []
    },
    {
      "cell_type": "code",
      "source": [
        "#retrieve all the anchor tags to the subpages by retrieving all the <a> tags\n",
        "anchor_tags=root_page.find_all('a')"
      ],
      "metadata": {
        "id": "tSw-UhN88vh7"
      },
      "execution_count": 77,
      "outputs": []
    },
    {
      "cell_type": "code",
      "source": [
        "valid_links=[]\n",
        "for anchor_tag in anchor_tags:\n",
        "    link=anchor_tag['href']\n",
        "    if link.startswith(\"http\"):\n",
        "        if link not in valid_links:\n",
        "            valid_links.append(link)"
      ],
      "metadata": {
        "id": "9yviN2X68xws"
      },
      "execution_count": 78,
      "outputs": []
    },
    {
      "cell_type": "code",
      "source": [
        "print(\"The number of documents/pages linked to the current root page is: \",len(valid_links))"
      ],
      "metadata": {
        "colab": {
          "base_uri": "https://localhost:8080/"
        },
        "id": "z4sYgjn-80Wg",
        "outputId": "987eb222-228f-4591-ee90-50d4ed0ff855"
      },
      "execution_count": 79,
      "outputs": [
        {
          "output_type": "stream",
          "name": "stdout",
          "text": [
            "The number of documents/pages linked to the current root page is:  206\n"
          ]
        }
      ]
    },
    {
      "cell_type": "code",
      "source": [
        "import urllib.request\n",
        "import ssl\n",
        "ssl._create_default_https_context=ssl._create_unverified_context\n",
        "for i in range(len(valid_links)):\n",
        "    try:\n",
        "        url=valid_links[i].replace(\" \",\"%20\")\n",
        "        response=urllib.request.urlopen(url)\n",
        "        html=response.read()\n",
        "        htmlstr=html.decode()\n",
        "        mobile_pattern=\"[+ ][\\d]{2}[-][\\d]{3}[-][\\d]{3}[ ][\\d]{4}\"\n",
        "        email_pattern=\"[a-z0-9.]+@vit.ac.in\"\n",
        "        pattern1=re.findall(mobile_pattern,htmlstr)\n",
        "        pattern2=re.findall(email_pattern,htmlstr)\n",
        "\n",
        "        pattern1=set(pattern1)\n",
        "        pattern2=set(pattern2)\n",
        "\n",
        "        pattern1=list(pattern1)\n",
        "        pattern2=list(pattern2)\n",
        "\n",
        "        #if (len(pattern1)>0 or len(pattern2)>0):\n",
        "        print(\"\\nUrl searched: \",url);\n",
        "        if(len(pattern1)>0):\n",
        "            print(\"Mobile Number: \")\n",
        "            for i in range(len(pattern1)):\n",
        "                print(pattern1[i])\n",
        "\n",
        "        if(len(pattern2)>0):\n",
        "            print(\"Email Address: \")\n",
        "            for i in range(len(pattern2)):\n",
        "                print(pattern2[i])\n",
        "\n",
        "    except urllib.error.HTTPError as e:\n",
        "        print(e.code)\n",
        "        print(e.read())\n",
        "        continue\n",
        "\n",
        "    except UnicodeDecodeError:\n",
        "        print(\"Error:File encountered with non unicode character\")\n",
        "        continue\n",
        "\n",
        "    except urllib.error.URLError:\n",
        "        print(\"Error:Name or service not known\")\n",
        "        continue"
      ],
      "metadata": {
        "colab": {
          "base_uri": "https://localhost:8080/"
        },
        "id": "MFq9CB-R833Z",
        "outputId": "8259738f-4fa8-4821-bbdd-59788de54d52"
      },
      "execution_count": 80,
      "outputs": [
        {
          "output_type": "stream",
          "name": "stdout",
          "text": [
            "\n",
            "Url searched:  https://vit.ac.in/btech-induction-schedule-2023\n",
            "Email Address: \n",
            "sharmila.c@vit.ac.in\n",
            "\n",
            "Url searched:  https://vit.ac.in/pg-induction-programme-schedule-2023\n",
            "Email Address: \n",
            "sharmila.c@vit.ac.in\n",
            "\n",
            "Url searched:  https://vit.ac.in/applications-open-2023-24\n",
            "\n",
            "Url searched:  http://chennai.vit.ac.in/\n",
            "Email Address: \n",
            "cw.cc@vit.ac.in\n",
            "admin.chennai@vit.ac.in\n",
            "transport.cc@vit.ac.in\n",
            "wlh.cc@vit.ac.in\n",
            "\n",
            "Url searched:  https://vitap.ac.in/\n",
            "\n",
            "Url searched:  https://vitbhopal.ac.in/\n",
            "\n",
            "Url searched:  https://vitbangalore.in/\n",
            "\n",
            "Url searched:  https://vit.ac.in\n",
            "\n",
            "Url searched:  https://vit.ac.in/about-vit\n",
            "\n",
            "Url searched:  https://vit.ac.in/about/vision-mission\n",
            "\n",
            "Url searched:  https://vit.ac.in/vit-milestones\n",
            "\n",
            "Url searched:  https://vit.ac.in/about/leadership\n",
            "Email Address: \n",
            "provc.vlr@vit.ac.in\n",
            "registrar@vit.ac.in\n",
            "chancellor@vit.ac.in\n",
            "vc@vit.ac.in\n",
            "gvselvam.vp@vit.ac.in\n",
            "sankar@vit.ac.in\n",
            "sekar.office@vit.ac.in\n",
            "\n",
            "Url searched:  https://vit.ac.in/governance\n",
            "\n",
            "Url searched:  https://vit.ac.in/about/administrative-offices\n",
            "\n",
            "Url searched:  https://vit.ac.in/about/infrastructure\n",
            "\n",
            "Url searched:  https://vit.ac.in/about/sustainability\n",
            "\n",
            "Url searched:  https://vit.ac.in/true-green\n",
            "\n",
            "Url searched:  https://vit.ac.in/about/community-outreach\n",
            "Email Address: \n",
            "projectofficer@vit.ac.in\n",
            "\n",
            "Url searched:  https://vit.ac.in/about/communityradio\n",
            "\n",
            "Url searched:  https://vit.ac.in/all-news-archieved\n",
            "Email Address: \n",
            "adc@vit.ac.in\n",
            "\n",
            "Url searched:  https://vit.ac.in/all-events\n",
            "\n",
            "Url searched:  https://vit.ac.in/national-institutional-ranking-framework-nirf\n",
            "\n",
            "Url searched:  https://vit.ac.in/mhrdugcaicte\n",
            "\n",
            "Url searched:  http://careers.vit.ac.in/\n",
            "\n",
            "Url searched:  https://vit.ac.in/about/news-letter\n",
            "\n",
            "Url searched:  https://vit.ac.in/academics/home\n",
            "Error:File encountered with non unicode character\n",
            "\n",
            "Url searched:  https://vit.ac.in/academic-council-minutes\n",
            "Email Address: \n",
            "sharmila.c@vit.ac.in\n",
            "\n",
            "Url searched:  https://vit.ac.in/programmes-offered-1\n",
            "\n",
            "Url searched:  https://vit.ac.in/programmes-offered-2021-22\n",
            "\n",
            "Url searched:  https://vit.ac.in/programmes-offered-2020-21\n",
            "\n",
            "Url searched:  https://vit.ac.in/schools\n",
            "\n",
            "Url searched:  https://vit.ac.in/academics/ffcs\n",
            "\n",
            "Url searched:  https://vit.ac.in/academics/library\n",
            "\n",
            "Url searched:  https://vit.ac.in/academics-feedback\n",
            "\n",
            "Url searched:  https://vit.ac.in/admissions/overview\n",
            "Mobile Number: \n",
            "+91-416-224 5544\n",
            "+91-416-220 2188\n",
            "Email Address: \n",
            "pgadmission@vit.ac.in\n",
            "aadilnaki.pathan@vit.ac.in\n",
            "ugadmission@vit.ac.in\n",
            "\n",
            "Url searched:  https://vit.ac.in/admissions/programmes-offered\n",
            "Mobile Number: \n",
            "+91-416-224 5544\n",
            "+91-416-220 2188\n",
            "Email Address: \n",
            "pgadmission@vit.ac.in\n",
            "ugadmission@vit.ac.in\n",
            "\n",
            "Url searched:  https://vit.ac.in/all-courses/ug\n",
            "Mobile Number: \n",
            "+91-416-224 5544\n",
            "+91-416-220 2188\n",
            "Email Address: \n",
            "pgadmission@vit.ac.in\n",
            "admissions.chennai@vit.ac.in\n",
            "ugadmission@vit.ac.in\n",
            "\n",
            "Url searched:  https://vit.ac.in/all-courses/pg\n",
            "Mobile Number: \n",
            "+91-416-220 2188\n",
            "+91-416-220 2050\n",
            "Email Address: \n",
            "pgadmission@vit.ac.in\n",
            "vitbsadmission@vit.ac.in\n",
            "\n",
            "Url searched:  https://vit.ac.in/admissions/research\n",
            "Mobile Number: \n",
            "+91-416-220 2188\n",
            "Email Address: \n",
            "researchadmission@vit.ac.in\n",
            "\n",
            "Url searched:  https://vit.ac.in/admissions/international\n",
            "Mobile Number: \n",
            "+91-416-220 2070\n",
            "Email Address: \n",
            "international@vit.ac.in\n",
            "\n",
            "Url searched:  https://vit.ac.in/stars-support-advancement-rural-students-0\n",
            "Email Address: \n",
            "stars.coordinator@vit.ac.in\n",
            "\n",
            "Url searched:  https://vit.ac.in/cdc-overview\n",
            "Email Address: \n",
            "vramya@vit.ac.in\n",
            "\n",
            "Url searched:  https://vit.ac.in/cdc-highlights\n",
            "Email Address: \n",
            "placement@vit.ac.in\n",
            "sharmila.c@vit.ac.in\n",
            "\n",
            "Url searched:  https://vit.ac.in/cdc-tracker\n",
            "Email Address: \n",
            "sharmila.c@vit.ac.in\n",
            "\n",
            "Url searched:  https://vit.ac.in/cdc-office\n",
            "Email Address: \n",
            "sharmila.c@vit.ac.in\n",
            "\n",
            "Url searched:  https://vit.ac.in/cdc-contact-us\n",
            "Email Address: \n",
            "sharmila.c@vit.ac.in\n",
            "\n",
            "Url searched:  https://vit.ac.in/InternationalRelations\n",
            "Email Address: \n",
            "international@vit.ac.in\n",
            "\n",
            "Url searched:  https://vit.ac.in/internationalrelations/itp\n",
            "Email Address: \n",
            "international@vit.ac.in\n",
            "\n",
            "Url searched:  https://vit.ac.in/academics-more/Semester%20Abroad%20Program%20(SAP)\n",
            "Email Address: \n",
            "international@vit.ac.in\n",
            "\n",
            "Url searched:  https://vit.ac.in/internationalrelations/partneruniversities\n",
            "Email Address: \n",
            "international@vit.ac.in\n",
            "\n",
            "Url searched:  https://vit.ac.in/admissions/international/overview\n",
            "Mobile Number: \n",
            "+91-416-220 2070\n",
            "Email Address: \n",
            "international@vit.ac.in\n",
            "\n",
            "Url searched:  https://vit.ac.in/incoming-exchange-student-program\n",
            "Email Address: \n",
            "inboundexchange@vit.ac.in\n",
            "vramya@vit.ac.in\n",
            "\n",
            "Url searched:  https://vit.ac.in/academics-more/Contact%20us\n",
            "Email Address: \n",
            "ir3@vit.ac.in\n",
            "ir7@vit.ac.in\n",
            "international@vit.ac.in\n",
            "jamesdevaraj.a@vit.ac.in\n",
            "ir1@vit.ac.in\n",
            "director.ir@vit.ac.in\n",
            "ganesanb@vit.ac.in\n",
            "raghuram.j@vit.ac.in\n",
            "manojkumar.k@vit.ac.in\n",
            "rseenivasan@vit.ac.in\n",
            "\n",
            "Url searched:  https://vit.ac.in/research\n",
            "\n",
            "Url searched:  https://vit.ac.in/research/academic\n",
            "Email Address: \n",
            "dean.ar@vit.ac.in\n",
            "\n",
            "Url searched:  https://vit.ac.in/research/sponsored-research\n",
            "\n",
            "Url searched:  https://vit.ac.in/iprcell\n",
            "Email Address: \n",
            "iprvit@vit.ac.in\n",
            "\n",
            "Url searched:  https://vit.ac.in/research/centers-list\n",
            "\n",
            "Url searched:  https://vit.ac.in/campuslife/overview\n",
            "\n",
            "Url searched:  https://vit.ac.in/campuslife/fests\n",
            "\n",
            "Url searched:  https://vit.ac.in/campuslife/studentswelfare\n",
            "\n",
            "Url searched:  https://vit.ac.in/campus-category/Newsletter\n",
            "\n",
            "Url searched:  https://vit.ac.in/campus-category/Clubs\n",
            "Email Address: \n",
            "events.sw@vit.ac.in\n",
            "\n",
            "Url searched:  https://vit.ac.in/campus-category/Chapters\n",
            "Email Address: \n",
            "events.sw@vit.ac.in\n",
            "\n",
            "Url searched:  https://vit.ac.in/campus-category/Campus-Events\n",
            "Email Address: \n",
            "director.sw@vit.ac.in\n",
            "\n",
            "Url searched:  https://vit.ac.in/campus-category/Counselling-Division\n",
            "Email Address: \n",
            "muralitharan.r@vit.ac.in\n",
            "rita.rani@vit.ac.in\n",
            "parthiban.d@vit.ac.in\n",
            "felix.emmanuel@vit.ac.in\n",
            "beulah.valarmathi@vit.ac.in\n",
            "blessing.calvin@vit.ac.in\n",
            "hariharan.c@vit.ac.in\n",
            "dhanalakshmi.n@vit.ac.in\n",
            "gospel.js@vit.ac.in\n",
            "lakshmi.a@vit.ac.in\n",
            "director.sw@vit.ac.in\n",
            "reshma.kp@vit.ac.in\n",
            "clintonjoseph.a@vit.ac.in\n",
            "\n",
            "Url searched:  https://vit.ac.in/campus-category/grievancecell\n",
            "Email Address: \n",
            "ganilkumar@vit.ac.in\n",
            "ar@vit.ac.in\n",
            "\n",
            "Url searched:  https://vit.ac.in/campus-category/Programme%20Representatives\n",
            "Email Address: \n",
            "director.sw@vit.ac.in\n",
            "\n",
            "Url searched:  https://vit.ac.in/campus-category/Student-Council\n",
            "Email Address: \n",
            "director.sw@vit.ac.in\n",
            "\n",
            "Url searched:  https://vit.ac.in/service-and-support-differently-abled-learners-sasdal\n",
            "Email Address: \n",
            "sharmila.c@vit.ac.in\n",
            "r.sujatha@vit.ac.in\n",
            "\n",
            "Url searched:  https://vit.ac.in/campus/Teams/PROJECTS-LAB\n",
            "\n",
            "Url searched:  https://vit.ac.in/campuslife/sports\n",
            "Email Address: \n",
            "director.sports@vit.ac.in\n",
            "\n",
            "Url searched:  https://vit.ac.in/campuslife/hostels\n",
            "Email Address: \n",
            "padma.r@vit.ac.in\n",
            "mh@vit.ac.in\n",
            "manager.mh@vit.ac.in\n",
            "warden.attendance@vit.ac.in\n",
            "lh.am@vit.ac.in\n",
            "manager.lh@vit.ac.in\n",
            "cw.lh@vit.ac.in\n",
            "varadharajan.d@vit.ac.in\n",
            "lhwarden.events@vit.ac.in\n",
            "director.mh@vit.ac.in\n",
            "lh@vit.ac.in\n",
            "director.lh@vit.ac.in\n",
            "acw.mh@vit.ac.in\n",
            "cw.mh@vit.ac.in\n",
            "dydirector.lh@vit.ac.in\n",
            "warden.events@vit.ac.in\n",
            "warden.discipline@vit.ac.in\n",
            "acw1.mh@vit.ac.in\n",
            "lh.am1@vit.ac.in\n",
            "acw.lh@vit.ac.in\n",
            "ao.hostel@vit.ac.in\n",
            "warden.food@vit.ac.in\n",
            "\n",
            "Url searched:  https://vit.ac.in/campuslife/healthservices\n",
            "\n",
            "Url searched:  https://vit.ac.in/campuslife/otheramenities\n",
            "\n",
            "Url searched:  https://vit.ac.in/detailview/green-vit\n",
            "\n",
            "Url searched:  https://vit.ac.in/policies-core-values\n",
            "Email Address: \n",
            "vramya@vit.ac.in\n",
            "\n",
            "Url searched:  https://vit.ac.in/innovation-and-startup-policy\n",
            "Email Address: \n",
            "sharmila.n@vit.ac.in\n",
            "rmageshvaran@vit.ac.in\n",
            "\n",
            "Url searched:  https://vit.ac.in/institutions-innovation-council\n",
            "\n",
            "Url searched:  https://blogs.vit.ac.in/\n",
            "\n",
            "Url searched:  https://vit.ac.in/vitol/\n",
            "\n",
            "Url searched:  https://vit.ac.in/academics/coe\n",
            "Email Address: \n",
            "helpdesk.coe@vit.ac.in\n",
            "\n",
            "Url searched:  https://vit.ac.in/transcripts-alumni\n",
            "Email Address: \n",
            "alumni@vit.ac.in\n",
            "helpdesk.coe@vit.ac.in\n",
            "\n",
            "Url searched:  https://vit.applydirect.org/student/#/app/request\n",
            "403\n",
            "b'error code: 1010'\n",
            "403\n",
            "b'error code: 1010'\n",
            "Error:File encountered with non unicode character\n",
            "403\n",
            "b'<html><body><h1>403 Forbidden</h1>\\nRequest forbidden by administrative rules.\\n</body></html>\\n\\n'\n",
            "\n",
            "Url searched:  https://vit.ac.in/coe-email-contacts\n",
            "Email Address: \n",
            "helpdesk.acad@vit.ac.in\n",
            "elpdesk.finance@vit.ac.in\n",
            "ara@vit.ac.in\n",
            "elpdesk.sdc@vit.ac.in\n",
            "elpdesk.coe@vit.ac.in\n",
            "\n",
            "Url searched:  https://vit.ac.in/centers/asc\n",
            "Mobile Number: \n",
            "+91-416-220 2481\n",
            "Email Address: \n",
            "director.asc@vit.ac.in\n",
            "\n",
            "Url searched:  http://www.vittbi.com/#/\n",
            "Email Address: \n",
            "vittbi@vit.ac.in\n",
            "403\n",
            "b'<html><body><h1>403 Forbidden</h1>\\nRequest forbidden by administrative rules.\\n</body></html>\\n\\n'\n",
            "\n",
            "Url searched:  https://vit.ac.in/guest-house\n",
            "Email Address: \n",
            "guesthouse@vit.ac.in\n",
            "\n",
            "Url searched:  https://vit.ac.in/redressal\n",
            "Email Address: \n",
            "ganilkumar@vit.ac.in\n",
            "ar@vit.ac.in\n",
            "\n",
            "Url searched:  https://vit.ac.in/hotels-in-vellore\n",
            "\n",
            "Url searched:  https://mail.google.com/\n",
            "Error:Name or service not known\n",
            "Error:File encountered with non unicode character\n",
            "\n",
            "Url searched:  https://vit.ac.in/anti-ragging-committee\n",
            "Email Address: \n",
            "dashok@vit.ac.in\n",
            "anburaj.g@vit.ac.in\n",
            "ramani.s@vit.ac.in\n",
            "crajasekaran@vit.ac.in\n",
            "msjagadeesh@vit.ac.in\n",
            "rrajasingh@vit.ac.in\n",
            "jesufrederick.t@vit.ac.in\n",
            "yogesh.kumar@vit.ac.in\n",
            "amsaleh@vit.ac.in\n",
            "padmanathan.p@vit.ac.in\n",
            "dkbarik@vit.ac.in\n",
            "dsw@vit.ac.in\n",
            "kiran.g@vit.ac.in\n",
            "iyapparaja.m@vit.ac.in\n",
            "svelu@vit.ac.in\n",
            "hareesh.haridasan@vit.ac.in\n",
            "\n",
            "Url searched:  https://vit.ac.in/capability-enhancement-scheme\n",
            "Email Address: \n",
            "placement@vit.ac.in\n",
            "kkumar@vit.ac.in\n",
            "asstdean.acad1@vit.ac.in\n",
            "anu.baisel@vit.ac.in\n",
            "director.iiip@vit.ac.in\n",
            "Error:File encountered with non unicode character\n",
            "\n",
            "Url searched:  https://vit.ac.in/internal-complaints-committee\n",
            "Email Address: \n",
            "banumathi.s@vit.ac.in\n",
            "icc@vit.ac.in\n",
            "rajasekaran.v@vit.ac.in\n",
            "women.gcell@vit.ac.in\n",
            "reenamonica@vit.ac.in\n",
            "maryjoseph@vit.ac.in\n",
            "\n",
            "Url searched:  https://vit.ac.in/academics/transcripts\n",
            "Email Address: \n",
            "helpdesk.coe@vit.ac.in\n",
            "\n",
            "Url searched:  https://vit.ac.in/instruction\n",
            "Email Address: \n",
            "ara@vit.ac.in\n",
            "Error:Name or service not known\n",
            "403\n",
            "b'<html><body><h1>403 Forbidden</h1>\\nRequest forbidden by administrative rules.\\n</body></html>\\n\\n'\n",
            "\n",
            "Url searched:  https://vit.ac.in/alumni-events\n",
            "\n",
            "Url searched:  https://www.vitaa.org/page/Distinguished-Alumni-Award-Winners.dz\n",
            "\n",
            "Url searched:  https://vit.ac.in/sites/default/files/vitaa/e-Tracks-2020/index.html\n",
            "\n",
            "Url searched:  https://vit.ac.in/detailview/alumni-photo-gallery\n",
            "\n",
            "Url searched:  http://www.vitaa.org/\n",
            "\n",
            "Url searched:  https://vit.ac.in/alumni-office-contact\n",
            "Email Address: \n",
            "director.aa@vit.ac.in\n",
            "alumni@vit.ac.in\n",
            "asstdirector.aa@vit.ac.in\n",
            "\n",
            "Url searched:  https://campustour.vit.ac.in/\n",
            "\n",
            "Url searched:  https://vit.ac.in/vit-rank/\n",
            "403\n",
            "b'<html><body><h1>403 Forbidden</h1>\\nRequest forbidden by administrative rules.\\n</body></html>\\n\\n'\n",
            "403\n",
            "b'<html><body><h1>403 Forbidden</h1>\\nRequest forbidden by administrative rules.\\n</body></html>\\n\\n'\n",
            "\n",
            "Url searched:  https://vit.ac.in/ranking-and-recognition\n",
            "\n",
            "Url searched:  https://www.facebook.com/VITuniversity/\n",
            "302\n",
            "b'Found. Redirecting to /vit_univ'\n",
            "999\n",
            "b'<html><head>\\n<script type=\"text/javascript\">\\nwindow.onload = function() {\\n  // Parse the tracking code from cookies.\\n  var trk = \"bf\";\\n  var trkInfo = \"bf\";\\n  var cookies = document.cookie.split(\"; \");\\n  for (var i = 0; i < cookies.length; ++i) {\\n    if ((cookies[i].indexOf(\"trkCode=\") == 0) && (cookies[i].length > 8)) {\\n      trk = cookies[i].substring(8);\\n    }\\n    else if ((cookies[i].indexOf(\"trkInfo=\") == 0) && (cookies[i].length > 8)) {\\n      trkInfo = cookies[i].substring(8);\\n    }\\n  }\\n\\n  if (window.location.protocol == \"http:\") {\\n    // If \"sl\" cookie is set, redirect to https.\\n    for (var i = 0; i < cookies.length; ++i) {\\n      if ((cookies[i].indexOf(\"sl=\") == 0) && (cookies[i].length > 3)) {\\n        window.location.href = \"https:\" + window.location.href.substring(window.location.protocol.length);\\n        return;\\n      }\\n    }\\n  }\\n\\n  // Get the new domain. For international domains such as\\n  // fr.linkedin.com, we convert it to www.linkedin.com\\n  // treat .cn similar to .com here\\n  var domain = location.host;\\n  if (domain != \"www.linkedin.com\" && domain != \"www.linkedin.cn\") {\\n    var subdomainIndex = location.host.indexOf(\".linkedin\");\\n    if (subdomainIndex != -1) {\\n      domain = \"www\" + location.host.substring(subdomainIndex);\\n    }\\n  }\\n\\n  window.location.href = \"https://\" + domain + \"/authwall?trk=\" + trk + \"&trkInfo=\" + trkInfo +\\n      \"&original_referer=\" + document.referrer.substr(0, 200) +\\n      \"&sessionRedirect=\" + encodeURIComponent(window.location.href);\\n}\\n</script>\\n</head></html>\\n'\n",
            "\n",
            "Url searched:  https://www.instagram.com/vellore_vit/\n",
            "\n",
            "Url searched:  https://www.youtube.com/c/VITUniversityVellore\n",
            "\n",
            "Url searched:  https://www.threads.net/@vellore_vit\n",
            "\n",
            "Url searched:  https://vit.ac.in/school-advanced-sciences-sas/hands-training-advanced-r-programming\n",
            "Email Address: \n",
            "sharmila.c@vit.ac.in\n",
            "\n",
            "Url searched:  https://vit.ac.in/school-mechanical-engineering-smec/advanced-methods-optimization-design-and-manufacturing\n",
            "Email Address: \n",
            "sharmila.c@vit.ac.in\n",
            "\n",
            "Url searched:  https://vit.ac.in/school-information-technology-engineering-site/two-days-workshop-cyber-security-awareness\n",
            "Email Address: \n",
            "vramya@vit.ac.in\n",
            "\n",
            "Url searched:  https://vit.ac.in/school-advanced-sciences-sas/international-symposium-mathematical-analysis-fractals-and-dynamical\n",
            "Email Address: \n",
            "vramya@vit.ac.in\n",
            "\n",
            "Url searched:  https://vit.ac.in/general/electronic-product-development\n",
            "Email Address: \n",
            "sriramvignesh.av@vit.ac.in\n",
            "\n",
            "Url searched:  https://vit.ac.in/school-electronics-engineering-sense/redundancy-protocols-internetworking\n",
            "Email Address: \n",
            "sharmila.c@vit.ac.in\n",
            "\n",
            "Url searched:  https://vit.ac.in/school-electrical-engineering-select/one-day-workshop-embedded-systems-architecture-and-arm\n",
            "Email Address: \n",
            "vramya@vit.ac.in\n",
            "\n",
            "Url searched:  https://vit.ac.in/school-electrical-engineering-select/three-days-hands-workshop-latex-technical-writing-0\n",
            "Email Address: \n",
            "vramya@vit.ac.in\n",
            "\n",
            "Url searched:  https://vit.ac.in/school-bio-sciences-technology-sbst/recent-trends-food-science-and-technology\n",
            "Email Address: \n",
            "sharmila.c@vit.ac.in\n",
            "\n",
            "Url searched:  https://vit.ac.in/school-advanced-sciences-sas/one-day-international-workshop-exploring-molecules-graph-theory\n",
            "Email Address: \n",
            "sharmila.c@vit.ac.in\n",
            "\n",
            "Url searched:  https://vit.ac.in/vit-business-school-vit-bs/two-days-workshop-dashboard-creation-mutivariate-techniques-and-sem-using\n",
            "Email Address: \n",
            "vramya@vit.ac.in\n",
            "\n",
            "Url searched:  https://vit.ac.in/school-electrical-engineering-select/2-day-workshop-artificial-intelligence-and-machine-learning\n",
            "Email Address: \n",
            "vramya@vit.ac.in\n",
            "\n",
            "Url searched:  https://vit.ac.in/school-advanced-sciences-sas/five-day-workshop-matlab-science-and-technology\n",
            "Email Address: \n",
            "sharmila.c@vit.ac.in\n",
            "\n",
            "Url searched:  https://vit.ac.in/school-electrical-engineering-select/one-day-national-workshop-%E2%80%9Crenewable-energy-grid-integration\n",
            "Email Address: \n",
            "g.archana@vit.ac.in\n",
            "\n",
            "Url searched:  https://vit.ac.in/general/advancement-solar-photovoltaic-system-and-modeling-using-pvsyst\n",
            "Email Address: \n",
            "sharmila.c@vit.ac.in\n",
            "\n",
            "Url searched:  https://vit.ac.in/school-electronics-engineering-sense/one-day-national-workshop-iot-edge-cloud-connect-using-ni-myrio\n",
            "Email Address: \n",
            "vramya@vit.ac.in\n",
            "\n",
            "Url searched:  https://vit.ac.in/school-electrical-engineering-select/advancement-renewable-energy-and-smart-electric-vehicle-aresev\n",
            "Email Address: \n",
            "sharmila.c@vit.ac.in\n",
            "\n",
            "Url searched:  https://vit.ac.in/general/labview-beginners\n",
            "Email Address: \n",
            "sharmila.c@vit.ac.in\n",
            "\n",
            "Url searched:  https://vit.ac.in/school-bio-sciences-technology-sbst/indian-conference-bioinformatics-2023-inbix23-0\n",
            "Email Address: \n",
            "vramya@vit.ac.in\n",
            "\n",
            "Url searched:  https://vit.ac.in/school-electrical-engineering-select/4th-ieee-international-conference-innovations-power-and\n",
            "Email Address: \n",
            "vramya@vit.ac.in\n",
            "\n",
            "Url searched:  https://vit.ac.in/school-electronics-engineering-sense/premier-international-conference-based-electronics-next\n",
            "Email Address: \n",
            "sharmila.c@vit.ac.in\n",
            "\n",
            "Url searched:  https://vit.ac.in/school-chemical-engineering-scheme/technoscape-2023-5th-international-conference-sustainable\n",
            "Email Address: \n",
            "vramya@vit.ac.in\n",
            "\n",
            "Url searched:  https://vit.ac.in/school-advanced-sciences-sas/international-conference-data-management-analytics-and-innovation-2024\n",
            "Email Address: \n",
            "vramya@vit.ac.in\n",
            "\n",
            "Url searched:  https://vit.ac.in/school-information-technology-engineering-site/second-ieee-and-acm-collaborative-international\n",
            "Email Address: \n",
            "vramya@vit.ac.in\n",
            "\n",
            "Url searched:  https://vit.ac.in/events-photos-and-videos\n",
            "403\n",
            "b'<html><body><h1>403 Forbidden</h1>\\nRequest forbidden by administrative rules.\\n</body></html>\\n\\n'\n",
            "\n",
            "Url searched:  https://vit.ac.in/convocation/\n",
            "\n",
            "Url searched:  https://www.youtube.com/watch?v=ui4Ym63B1ik\n",
            "403\n",
            "b'<html><body><h1>403 Forbidden</h1>\\nRequest forbidden by administrative rules.\\n</body></html>\\n\\n'\n",
            "403\n",
            "b'<html><body><h1>403 Forbidden</h1>\\nRequest forbidden by administrative rules.\\n</body></html>\\n\\n'\n",
            "403\n",
            "b'<html><body><h1>403 Forbidden</h1>\\nRequest forbidden by administrative rules.\\n</body></html>\\n\\n'\n",
            "403\n",
            "b'<html><body><h1>403 Forbidden</h1>\\nRequest forbidden by administrative rules.\\n</body></html>\\n\\n'\n",
            "\n",
            "Url searched:  https://results.vit.ac.in/PHDJUL2023\n",
            "403\n",
            "b'<html><body><h1>403 Forbidden</h1>\\nRequest forbidden by administrative rules.\\n</body></html>\\n\\n'\n",
            "403\n",
            "b'<html><body><h1>403 Forbidden</h1>\\nRequest forbidden by administrative rules.\\n</body></html>\\n\\n'\n",
            "\n",
            "Url searched:  https://vit.ac.in/schools-centres-list-research-guides-2023/\n",
            "\n",
            "Url searched:  https://vtopcc.vit.ac.in/freshersportal\n",
            "Email Address: \n",
            "ugadmissions@vit.ac.in\n",
            "admissions.chennai@vit.ac.in\n",
            "chennai.fees@vit.ac.in\n",
            "\n",
            "Url searched:  https://vtop.vitbhopal.ac.in/vtop/freshers\n",
            "\n",
            "Url searched:  https://results.vit.ac.in/MBAJUN2023/\n",
            "403\n",
            "b'<html><body><h1>403 Forbidden</h1>\\nRequest forbidden by administrative rules.\\n</body></html>\\n\\n'\n",
            "403\n",
            "b'<html><body><h1>403 Forbidden</h1>\\nRequest forbidden by administrative rules.\\n</body></html>\\n\\n'\n",
            "403\n",
            "b'<html><body><h1>403 Forbidden</h1>\\nRequest forbidden by administrative rules.\\n</body></html>\\n\\n'\n",
            "403\n",
            "b'<html><body><h1>403 Forbidden</h1>\\nRequest forbidden by administrative rules.\\n</body></html>\\n\\n'\n",
            "\n",
            "Url searched:  https://vit.ac.in/our-ambassadors\n",
            "\n",
            "Url searched:  https://vit.ac.in/files/ebooks/Ariia-2021/\n",
            "\n",
            "Url searched:  https://vit.ac.in/scholarship\n",
            "\n",
            "Url searched:  https://www.vidyalakshmi.co.in/Students/\n",
            "\n",
            "Url searched:  https://vit.ac.in/vit-rank\n",
            "\n",
            "Url searched:  https://vit.ac.in/ariia-ranking\n",
            "\n",
            "Url searched:  https://vit.ac.in/placements/dreamoffers\n",
            "Email Address: \n",
            "placement@vit.ac.in\n",
            "sharmila.c@vit.ac.in\n",
            "\n",
            "Url searched:  https://vit.ac.in/placements/superdreamoffers\n",
            "Email Address: \n",
            "placement@vit.ac.in\n",
            "sharmila.c@vit.ac.in\n",
            "\n",
            "Url searched:  https://vit.ac.in/placements/internship\n",
            "Email Address: \n",
            "vramya@vit.ac.in\n",
            "\n",
            "Url searched:  https://vit.ac.in/placements/overview\n",
            "Email Address: \n",
            "vramya@vit.ac.in\n",
            "\n",
            "Url searched:  https://vit.ac.in/vit-university-sets-record-limca-book-records\n",
            "\n",
            "Url searched:  https://vit.ac.in/placements/statistics\n",
            "Email Address: \n",
            "sharmila.c@vit.ac.in\n",
            "\n",
            "Url searched:  https://vit.ac.in/seminar-sustainable-play-technology-0\n",
            "Email Address: \n",
            "sriramvignesh.av@vit.ac.in\n",
            "\n",
            "Url searched:  https://vit.ac.in/world-yoga-day-2023-0\n",
            "Email Address: \n",
            "sriramvignesh.av@vit.ac.in\n",
            "\n",
            "Url searched:  https://vit.ac.in/vit-signs-mou-6-european-and-uk-universities-0\n",
            "Email Address: \n",
            "sharmila.c@vit.ac.in\n",
            "\n",
            "Url searched:  https://vit.ac.in/chancellor-dr-g-viswanathan-and-vice-president-dr-g-v-selvam-met-shri-amitsha-0\n",
            "Email Address: \n",
            "sharmila.c@vit.ac.in\n",
            "\n",
            "Url searched:  https://vit.ac.in/galleries\n",
            "\n",
            "Url searched:  http://campustour.vit.ac.in/\n",
            "\n",
            "Url searched:  https://vit.ac.in/video\n",
            "\n",
            "Url searched:  https://vit.ac.in/campus-hostel/hostels\n",
            "Email Address: \n",
            "padma.r@vit.ac.in\n",
            "mh@vit.ac.in\n",
            "manager.mh@vit.ac.in\n",
            "warden.attendance@vit.ac.in\n",
            "lh.am@vit.ac.in\n",
            "manager.lh@vit.ac.in\n",
            "cw.lh@vit.ac.in\n",
            "varadharajan.d@vit.ac.in\n",
            "lhwarden.events@vit.ac.in\n",
            "director.mh@vit.ac.in\n",
            "lh@vit.ac.in\n",
            "director.lh@vit.ac.in\n",
            "acw.mh@vit.ac.in\n",
            "cw.mh@vit.ac.in\n",
            "dydirector.lh@vit.ac.in\n",
            "warden.events@vit.ac.in\n",
            "warden.discipline@vit.ac.in\n",
            "acw1.mh@vit.ac.in\n",
            "lh.am1@vit.ac.in\n",
            "acw.lh@vit.ac.in\n",
            "ao.hostel@vit.ac.in\n",
            "warden.food@vit.ac.in\n",
            "\n",
            "Url searched:  http://info.vit.ac.in/guesthouse/\n",
            "\n",
            "Url searched:  https://vit.ac.in/vit-privacy-policy\n",
            "Email Address: \n",
            "systems@vit.ac.in\n",
            "\n",
            "Url searched:  https://vit.ac.in/sitemap/\n",
            "\n",
            "Url searched:  https://vit.ac.in/academics/iqac\n",
            "\n",
            "Url searched:  http://www.mhrdnats.gov.in/\n",
            "Error:File encountered with non unicode character\n",
            "Error:Name or service not known\n",
            "403\n",
            "b'<html><body><h1>403 Forbidden</h1>\\nRequest forbidden by administrative rules.\\n</body></html>\\n\\n'\n",
            "\n",
            "Url searched:  https://peopleorbit.vit.ac.in//\n",
            "Email Address: \n",
            "helpdesk.hr@vit.ac.in\n",
            "\n",
            "Url searched:  https://webmail.vit.ac.in/\n",
            "\n",
            "Url searched:  https://careers.vit.ac.in/\n",
            "\n",
            "Url searched:  https://www.vitaa.org/\n",
            "\n",
            "Url searched:  https://vit.ac.in/contactus\n",
            "Mobile Number: \n",
            "+91-416-224 5544\n",
            " 91-416-220 2188\n",
            " 91-416-224 3118\n",
            " 91-416-224 0411\n",
            "Email Address: \n",
            "asstdean.acad2@vit.ac.in\n",
            "sharmila.n@vit.ac.in\n",
            "director.asc@vit.ac.in\n",
            "director.ir@vit.ac.in\n",
            "assodean.sas@vit.ac.in\n",
            "cw.lh@vit.ac.in\n",
            "coe@vit.ac.in\n",
            "projectofficer@vit.ac.in\n",
            "director.mh@vit.ac.in\n",
            "vc@vit.ac.in\n",
            "director.vitol@vit.ac.in\n",
            "dean.sce@vit.ac.in\n",
            "dean.site@vit.ac.in\n",
            "ad3.sdc@vit.ac.in\n",
            "dean.select@vit.ac.in\n",
            "dean.scheme@vit.ac.in\n",
            "parthiban.d@vit.ac.in\n",
            "dean.vaial@vit.ac.in\n",
            "director.dqaa@vit.ac.in\n",
            "abalachandran@vit.ac.in\n",
            "anu.baisel@vit.ac.in\n",
            "vitcr@vit.ac.in\n",
            "director.cfm@vit.ac.in\n",
            "dean.ssl@vit.ac.in\n",
            "director.pga@vit.ac.in\n",
            "asstdean.acad3@vit.ac.in\n",
            "ar@vit.ac.in\n",
            "director.sw@vit.ac.in\n",
            "director.sports@vit.ac.in\n",
            "dydirector.tifac@vit.ac.in\n",
            "dydirector.hr@vit.ac.in\n",
            "dean.acad@vit.ac.in\n",
            "dean.sas@vit.ac.in\n",
            "svivekanandan@vit.ac.in\n",
            "placement@vit.ac.in\n",
            "assodean.select@vit.ac.in\n",
            "asstdir.vitol@vit.ac.in\n",
            "provc.vlr@vit.ac.in\n",
            "acw.mh@vit.ac.in\n",
            "sekar.office@vit.ac.in\n",
            "psmallick@vit.ac.in\n",
            "dean.sense@vit.ac.in\n",
            "asstdirector.sw@vit.ac.in\n",
            "cfo.vlr@vit.ac.in\n",
            "manikandan.n@vit.ac.in\n",
            "registrar@vit.ac.in\n",
            "director.aa@vit.ac.in\n",
            "director.cnbt@vit.ac.in\n",
            "dean.scope@vit.ac.in\n",
            "dean.smec@vit.ac.in\n",
            "director.cdmm@vit.ac.in\n",
            "assodean.site@vit.ac.in\n",
            "gvselvam.vp@vit.ac.in\n",
            "dd.systems@vit.ac.in\n",
            "asstdir.sw1@vit.ac.in\n",
            "asstdir2.vitol@vit.ac.in\n",
            "director.cimr@vit.ac.in\n",
            "ad.ugadmission@vit.ac.in\n",
            "sankar@vit.ac.in\n",
            "rseenivasan@vit.ac.in\n",
            "director.pat@vit.ac.in\n",
            "assodean.ssl@vit.ac.in\n",
            "vittbi@vit.ac.in\n",
            "ugadmission@vit.ac.in\n",
            "ad4.sdc@vit.ac.in\n",
            "director.arc@vit.ac.in\n",
            "assodean.smec@vit.ac.in\n",
            "fo@vit.ac.in\n",
            "director.library@vit.ac.in\n",
            "director.sr@vit.ac.in\n",
            "acw.lh@vit.ac.in\n",
            "director.cbcmt@vit.ac.in\n",
            "director.vsparc@vit.ac.in\n",
            "director.em@vit.ac.in\n",
            "deputycoe@vit.ac.in\n",
            "dean.ar@vit.ac.in\n",
            "director.fsw@vit.ac.in\n",
            "director.cmct@vit.ac.in\n",
            "ad2.sdc@vit.ac.in\n",
            "pgadmission@vit.ac.in\n",
            "assodean.scope@vit.ac.in\n",
            "adc@vit.ac.in\n",
            "asstdirector.aa@vit.ac.in\n",
            "dean.sbst@vit.ac.in\n",
            "assodean.sense@vit.ac.in\n",
            "director.co2@vit.ac.in\n",
            "sm.purchase@vit.ac.in\n",
            "chancellor@vit.ac.in\n",
            "assodean.vitbs@vit.ac.in\n",
            "asstdirecor.hr@vit.ac.in\n",
            "director.lh@vit.ac.in\n",
            "v.mohan@vit.ac.in\n",
            "director.uga@vit.ac.in\n",
            "cw.mh@vit.ac.in\n",
            "dean.vitbs@vit.ac.in\n",
            "admin.chennai@vit.ac.in\n",
            "director.sdc@vit.ac.in\n",
            "dydirector.electrical@vit.ac.in\n",
            "ara@vit.ac.in\n",
            "director.raac@vit.ac.in\n",
            "asstdean.hot@vit.ac.in\n",
            "director.cnr@vit.ac.in\n",
            "dydirector.cdc@vit.ac.in\n",
            "sathish.as@vit.ac.in\n",
            "assodean.sbst@vit.ac.in\n",
            "\n",
            "Url searched:  https://vit.ac.in/guesthouse/\n",
            "Email Address: \n",
            "guesthouse@vit.ac.in\n",
            "\n",
            "Url searched:  https://vit.ac.in/committee-sustainability-initiatives\n",
            "Email Address: \n",
            "vramya@vit.ac.in\n",
            "\n",
            "Url searched:  https://vit.ac.in/committee-ensuring-equality-diversity-and-inclusivity\n",
            "Email Address: \n",
            "vramya@vit.ac.in\n",
            "\n",
            "Url searched:  https://vit.ac.in/covid-19-initiatives\n",
            "\n",
            "Url searched:  https://vit.ac.in/career-development-centre\n",
            "Email Address: \n",
            "vramya@vit.ac.in\n",
            "\n",
            "Url searched:  https://vit.ac.in/tender-notifications\n"
          ]
        }
      ]
    },
    {
      "cell_type": "code",
      "source": [
        "#import image module\n",
        "from IPython.display import Image"
      ],
      "metadata": {
        "id": "ifU0nvoG84-K"
      },
      "execution_count": 81,
      "outputs": []
    },
    {
      "cell_type": "code",
      "source": [
        "#get the image\n",
        "Image(url=\"program_photo.png\",width=900)"
      ],
      "metadata": {
        "colab": {
          "resources": {
            "http://localhost:8080/program_photo.png": {
              "data": "CjwhRE9DVFlQRSBodG1sPgo8aHRtbCBsYW5nPWVuPgogIDxtZXRhIGNoYXJzZXQ9dXRmLTg+CiAgPG1ldGEgbmFtZT12aWV3cG9ydCBjb250ZW50PSJpbml0aWFsLXNjYWxlPTEsIG1pbmltdW0tc2NhbGU9MSwgd2lkdGg9ZGV2aWNlLXdpZHRoIj4KICA8dGl0bGU+RXJyb3IgNDA0IChOb3QgRm91bmQpISExPC90aXRsZT4KICA8c3R5bGU+CiAgICAqe21hcmdpbjowO3BhZGRpbmc6MH1odG1sLGNvZGV7Zm9udDoxNXB4LzIycHggYXJpYWwsc2Fucy1zZXJpZn1odG1se2JhY2tncm91bmQ6I2ZmZjtjb2xvcjojMjIyO3BhZGRpbmc6MTVweH1ib2R5e21hcmdpbjo3JSBhdXRvIDA7bWF4LXdpZHRoOjM5MHB4O21pbi1oZWlnaHQ6MTgwcHg7cGFkZGluZzozMHB4IDAgMTVweH0qID4gYm9keXtiYWNrZ3JvdW5kOnVybCgvL3d3dy5nb29nbGUuY29tL2ltYWdlcy9lcnJvcnMvcm9ib3QucG5nKSAxMDAlIDVweCBuby1yZXBlYXQ7cGFkZGluZy1yaWdodDoyMDVweH1we21hcmdpbjoxMXB4IDAgMjJweDtvdmVyZmxvdzpoaWRkZW59aW5ze2NvbG9yOiM3Nzc7dGV4dC1kZWNvcmF0aW9uOm5vbmV9YSBpbWd7Ym9yZGVyOjB9QG1lZGlhIHNjcmVlbiBhbmQgKG1heC13aWR0aDo3NzJweCl7Ym9keXtiYWNrZ3JvdW5kOm5vbmU7bWFyZ2luLXRvcDowO21heC13aWR0aDpub25lO3BhZGRpbmctcmlnaHQ6MH19I2xvZ297YmFja2dyb3VuZDp1cmwoLy93d3cuZ29vZ2xlLmNvbS9pbWFnZXMvbG9nb3MvZXJyb3JwYWdlL2Vycm9yX2xvZ28tMTUweDU0LnBuZykgbm8tcmVwZWF0O21hcmdpbi1sZWZ0Oi01cHh9QG1lZGlhIG9ubHkgc2NyZWVuIGFuZCAobWluLXJlc29sdXRpb246MTkyZHBpKXsjbG9nb3tiYWNrZ3JvdW5kOnVybCgvL3d3dy5nb29nbGUuY29tL2ltYWdlcy9sb2dvcy9lcnJvcnBhZ2UvZXJyb3JfbG9nby0xNTB4NTQtMngucG5nKSBuby1yZXBlYXQgMCUgMCUvMTAwJSAxMDAlOy1tb3otYm9yZGVyLWltYWdlOnVybCgvL3d3dy5nb29nbGUuY29tL2ltYWdlcy9sb2dvcy9lcnJvcnBhZ2UvZXJyb3JfbG9nby0xNTB4NTQtMngucG5nKSAwfX1AbWVkaWEgb25seSBzY3JlZW4gYW5kICgtd2Via2l0LW1pbi1kZXZpY2UtcGl4ZWwtcmF0aW86Mil7I2xvZ297YmFja2dyb3VuZDp1cmwoLy93d3cuZ29vZ2xlLmNvbS9pbWFnZXMvbG9nb3MvZXJyb3JwYWdlL2Vycm9yX2xvZ28tMTUweDU0LTJ4LnBuZykgbm8tcmVwZWF0Oy13ZWJraXQtYmFja2dyb3VuZC1zaXplOjEwMCUgMTAwJX19I2xvZ297ZGlzcGxheTppbmxpbmUtYmxvY2s7aGVpZ2h0OjU0cHg7d2lkdGg6MTUwcHh9CiAgPC9zdHlsZT4KICA8YSBocmVmPS8vd3d3Lmdvb2dsZS5jb20vPjxzcGFuIGlkPWxvZ28gYXJpYS1sYWJlbD1Hb29nbGU+PC9zcGFuPjwvYT4KICA8cD48Yj40MDQuPC9iPiA8aW5zPlRoYXTigJlzIGFuIGVycm9yLjwvaW5zPgogIDxwPiAgPGlucz5UaGF04oCZcyBhbGwgd2Uga25vdy48L2lucz4K",
              "ok": false,
              "headers": [
                [
                  "content-length",
                  "1449"
                ],
                [
                  "content-type",
                  "text/html; charset=utf-8"
                ]
              ],
              "status": 404,
              "status_text": ""
            }
          },
          "base_uri": "https://localhost:8080/",
          "height": 37
        },
        "id": "O2t1zRO5860O",
        "outputId": "eb270557-a26f-487b-99a7-3af875607a89"
      },
      "execution_count": 82,
      "outputs": [
        {
          "output_type": "execute_result",
          "data": {
            "text/html": [
              "<img src=\"program_photo.png\" width=\"900\"/>"
            ],
            "text/plain": [
              "<IPython.core.display.Image object>"
            ]
          },
          "metadata": {},
          "execution_count": 82
        }
      ]
    },
    {
      "cell_type": "code",
      "source": [
        "#get the image\n",
        "Image(url=\"email_photo.png\",width=900)"
      ],
      "metadata": {
        "colab": {
          "resources": {
            "http://localhost:8080/email_photo.png": {
              "data": "CjwhRE9DVFlQRSBodG1sPgo8aHRtbCBsYW5nPWVuPgogIDxtZXRhIGNoYXJzZXQ9dXRmLTg+CiAgPG1ldGEgbmFtZT12aWV3cG9ydCBjb250ZW50PSJpbml0aWFsLXNjYWxlPTEsIG1pbmltdW0tc2NhbGU9MSwgd2lkdGg9ZGV2aWNlLXdpZHRoIj4KICA8dGl0bGU+RXJyb3IgNDA0IChOb3QgRm91bmQpISExPC90aXRsZT4KICA8c3R5bGU+CiAgICAqe21hcmdpbjowO3BhZGRpbmc6MH1odG1sLGNvZGV7Zm9udDoxNXB4LzIycHggYXJpYWwsc2Fucy1zZXJpZn1odG1se2JhY2tncm91bmQ6I2ZmZjtjb2xvcjojMjIyO3BhZGRpbmc6MTVweH1ib2R5e21hcmdpbjo3JSBhdXRvIDA7bWF4LXdpZHRoOjM5MHB4O21pbi1oZWlnaHQ6MTgwcHg7cGFkZGluZzozMHB4IDAgMTVweH0qID4gYm9keXtiYWNrZ3JvdW5kOnVybCgvL3d3dy5nb29nbGUuY29tL2ltYWdlcy9lcnJvcnMvcm9ib3QucG5nKSAxMDAlIDVweCBuby1yZXBlYXQ7cGFkZGluZy1yaWdodDoyMDVweH1we21hcmdpbjoxMXB4IDAgMjJweDtvdmVyZmxvdzpoaWRkZW59aW5ze2NvbG9yOiM3Nzc7dGV4dC1kZWNvcmF0aW9uOm5vbmV9YSBpbWd7Ym9yZGVyOjB9QG1lZGlhIHNjcmVlbiBhbmQgKG1heC13aWR0aDo3NzJweCl7Ym9keXtiYWNrZ3JvdW5kOm5vbmU7bWFyZ2luLXRvcDowO21heC13aWR0aDpub25lO3BhZGRpbmctcmlnaHQ6MH19I2xvZ297YmFja2dyb3VuZDp1cmwoLy93d3cuZ29vZ2xlLmNvbS9pbWFnZXMvbG9nb3MvZXJyb3JwYWdlL2Vycm9yX2xvZ28tMTUweDU0LnBuZykgbm8tcmVwZWF0O21hcmdpbi1sZWZ0Oi01cHh9QG1lZGlhIG9ubHkgc2NyZWVuIGFuZCAobWluLXJlc29sdXRpb246MTkyZHBpKXsjbG9nb3tiYWNrZ3JvdW5kOnVybCgvL3d3dy5nb29nbGUuY29tL2ltYWdlcy9sb2dvcy9lcnJvcnBhZ2UvZXJyb3JfbG9nby0xNTB4NTQtMngucG5nKSBuby1yZXBlYXQgMCUgMCUvMTAwJSAxMDAlOy1tb3otYm9yZGVyLWltYWdlOnVybCgvL3d3dy5nb29nbGUuY29tL2ltYWdlcy9sb2dvcy9lcnJvcnBhZ2UvZXJyb3JfbG9nby0xNTB4NTQtMngucG5nKSAwfX1AbWVkaWEgb25seSBzY3JlZW4gYW5kICgtd2Via2l0LW1pbi1kZXZpY2UtcGl4ZWwtcmF0aW86Mil7I2xvZ297YmFja2dyb3VuZDp1cmwoLy93d3cuZ29vZ2xlLmNvbS9pbWFnZXMvbG9nb3MvZXJyb3JwYWdlL2Vycm9yX2xvZ28tMTUweDU0LTJ4LnBuZykgbm8tcmVwZWF0Oy13ZWJraXQtYmFja2dyb3VuZC1zaXplOjEwMCUgMTAwJX19I2xvZ297ZGlzcGxheTppbmxpbmUtYmxvY2s7aGVpZ2h0OjU0cHg7d2lkdGg6MTUwcHh9CiAgPC9zdHlsZT4KICA8YSBocmVmPS8vd3d3Lmdvb2dsZS5jb20vPjxzcGFuIGlkPWxvZ28gYXJpYS1sYWJlbD1Hb29nbGU+PC9zcGFuPjwvYT4KICA8cD48Yj40MDQuPC9iPiA8aW5zPlRoYXTigJlzIGFuIGVycm9yLjwvaW5zPgogIDxwPiAgPGlucz5UaGF04oCZcyBhbGwgd2Uga25vdy48L2lucz4K",
              "ok": false,
              "headers": [
                [
                  "content-length",
                  "1449"
                ],
                [
                  "content-type",
                  "text/html; charset=utf-8"
                ]
              ],
              "status": 404,
              "status_text": ""
            }
          },
          "base_uri": "https://localhost:8080/",
          "height": 37
        },
        "id": "I0WQBYnB8-Rx",
        "outputId": "ffac1573-1fc0-4e81-eeb0-c1ffd70afd55"
      },
      "execution_count": 83,
      "outputs": [
        {
          "output_type": "execute_result",
          "data": {
            "text/html": [
              "<img src=\"email_photo.png\" width=\"900\"/>"
            ],
            "text/plain": [
              "<IPython.core.display.Image object>"
            ]
          },
          "metadata": {},
          "execution_count": 83
        }
      ]
    }
  ]
}