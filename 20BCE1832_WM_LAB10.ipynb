{
  "nbformat": 4,
  "nbformat_minor": 0,
  "metadata": {
    "colab": {
      "provenance": []
    },
    "kernelspec": {
      "name": "python3",
      "display_name": "Python 3"
    },
    "language_info": {
      "name": "python"
    }
  },
  "cells": [
    {
      "cell_type": "markdown",
      "source": [
        "NAME: **HARINI S     2OBCE1832**\n",
        "\n",
        "*WEB MINING LAB*\n",
        "\n",
        "*WEEK 10*"
      ],
      "metadata": {
        "id": "JeUaNTLtD2pu"
      }
    },
    {
      "cell_type": "markdown",
      "source": [
        "Task 1: Identify the frequency of most popular 50 items"
      ],
      "metadata": {
        "id": "xjruP8QSD2HA"
      }
    },
    {
      "cell_type": "code",
      "source": [
        "import pandas as pd\n",
        "\n",
        "# Read the dataset without specifying column names\n",
        "data = pd.read_csv('dataset.csv', header=None)\n",
        "\n",
        "# Count the frequency of each item\n",
        "item_frequencies = data.apply(pd.Series.value_counts).sum(axis=1)\n",
        "\n",
        "# Reset the index and give columns proper names\n",
        "item_frequencies = item_frequencies.reset_index()\n",
        "item_frequencies.columns = ['Item', 'Frequency']\n",
        "\n",
        "# Sort items by frequency in descending order\n",
        "item_frequencies = item_frequencies.sort_values(by='Frequency', ascending=False)\n",
        "\n",
        "# Display the items and their frequencies\n",
        "print(item_frequencies)\n"
      ],
      "metadata": {
        "colab": {
          "base_uri": "https://localhost:8080/"
        },
        "id": "bAIptWCxI355",
        "outputId": "214c4200-58a2-422c-ba51-c8baccfbb9e5"
      },
      "execution_count": 32,
      "outputs": [
        {
          "output_type": "stream",
          "name": "stdout",
          "text": [
            "                Item  Frequency\n",
            "35        vegetables     1617.0\n",
            "25           poultry      607.0\n",
            "30              soda      573.0\n",
            "5            cereals      558.0\n",
            "29              soap      556.0\n",
            "..               ...        ...\n",
            "53  individual meals       20.0\n",
            "70             sugar       20.0\n",
            "67              soap       18.0\n",
            "45        coffee/tea       18.0\n",
            "59             mixes       18.0\n",
            "\n",
            "[76 rows x 2 columns]\n"
          ]
        },
        {
          "output_type": "stream",
          "name": "stderr",
          "text": [
            "/usr/local/lib/python3.10/dist-packages/ipykernel/ipkernel.py:283: DeprecationWarning: `should_run_async` will not call `transform_cell` automatically in the future. Please pass the result to `transformed_cell` argument and any exception that happen during thetransform in `preprocessing_exc_tuple` in IPython 7.17 and above.\n",
            "  and should_run_async(code)\n"
          ]
        }
      ]
    },
    {
      "cell_type": "markdown",
      "source": [
        "Task 2: Run aprior algorithm using Python for the following support and confidence\n",
        "\n"
      ],
      "metadata": {
        "id": "0nWgXtWREHns"
      }
    },
    {
      "cell_type": "code",
      "source": [
        "from mlxtend.preprocessing import TransactionEncoder\n",
        "from mlxtend.frequent_patterns import apriori, association_rules\n",
        "\n",
        "# Read the dataset\n",
        "data = pd.read_csv('dataset.csv', header=None)\n",
        "transactions = data.values.tolist()\n",
        "\n",
        "# Remove NaN values from the list of lists\n",
        "transactions_clean = [ [str(item) for item in transaction if pd.notna(item)] for transaction in transactions]\n",
        "\n",
        "# One-hot encode the transactions\n",
        "te = TransactionEncoder()\n",
        "data_onehot = te.fit_transform(transactions_clean)\n",
        "data_onehot_df = pd.DataFrame(data_onehot, columns=te.columns_)\n",
        ""
      ],
      "metadata": {
        "colab": {
          "base_uri": "https://localhost:8080/"
        },
        "id": "9NSHxYk1RRTv",
        "outputId": "03f13822-bcbb-4e71-ad8a-0452970a2659"
      },
      "execution_count": 33,
      "outputs": [
        {
          "output_type": "stream",
          "name": "stderr",
          "text": [
            "/usr/local/lib/python3.10/dist-packages/ipykernel/ipkernel.py:283: DeprecationWarning: `should_run_async` will not call `transform_cell` automatically in the future. Please pass the result to `transformed_cell` argument and any exception that happen during thetransform in `preprocessing_exc_tuple` in IPython 7.17 and above.\n",
            "  and should_run_async(code)\n"
          ]
        }
      ]
    },
    {
      "cell_type": "markdown",
      "source": [
        "Case 1 (minimum support=0.15 and minimum confidence=0.6 (60%)) Identify the Itemset and derive association rules."
      ],
      "metadata": {
        "id": "pwjW7ymIRWCn"
      }
    },
    {
      "cell_type": "code",
      "source": [
        "\n",
        "# Apply Apriori algorithm to get frequent itemsets\n",
        "frequent_itemsets = apriori(data_onehot_df, min_support=0.15, use_colnames=True)\n",
        "\n",
        "# Generate association rules\n",
        "rules = association_rules(frequent_itemsets, metric=\"confidence\", min_threshold=0.6)\n",
        "\n",
        "# Display frequent itemsets and association rules\n",
        "print(\"Frequent Itemsets:\")\n",
        "print(frequent_itemsets)\n",
        "print(\"\\nAssociation Rules:\")\n",
        "print(rules[['antecedents', 'consequents', 'support', 'confidence']])\n"
      ],
      "metadata": {
        "colab": {
          "base_uri": "https://localhost:8080/"
        },
        "id": "yKq95VChFN_2",
        "outputId": "bf9ae876-72e8-4984-9f27-b68c1c103110"
      },
      "execution_count": 34,
      "outputs": [
        {
          "output_type": "stream",
          "name": "stdout",
          "text": [
            "Frequent Itemsets:\n",
            "      support                                itemsets\n",
            "0    0.360843                         ( all- purpose)\n",
            "1    0.366111                        ( aluminum foil)\n",
            "2    0.366989                               ( bagels)\n",
            "3    0.362599                                 ( beef)\n",
            "4    0.352941                               ( butter)\n",
            "..        ...                                     ...\n",
            "268  0.261633               ( vegetables,  tortillas)\n",
            "269  0.299385                 ( vegetables,  waffles)\n",
            "270  0.300263                  ( vegetables,  yogurt)\n",
            "271  0.160667                     ( waffles,  yogurt)\n",
            "272  0.151888  ( poultry,  vegetables,  dinner rolls)\n",
            "\n",
            "[273 rows x 2 columns]\n",
            "\n",
            "Association Rules:\n",
            "                        antecedents    consequents   support  confidence\n",
            "0                   ( all- purpose)  ( vegetables)  0.273047    0.756691\n",
            "1                  ( aluminum foil)  ( vegetables)  0.290606    0.793765\n",
            "2                         ( bagels)  ( vegetables)  0.280948    0.765550\n",
            "3                           ( beef)  ( vegetables)  0.275680    0.760291\n",
            "4                         ( butter)  ( vegetables)  0.268657    0.761194\n",
            "5                        ( cereals)  ( vegetables)  0.289728    0.762125\n",
            "6                        ( cheeses)  ( vegetables)  0.291484    0.784870\n",
            "7                     ( coffee/tea)  ( vegetables)  0.276558    0.746445\n",
            "8                   ( dinner rolls)  ( vegetables)  0.291484    0.783019\n",
            "9   ( dishwashing liquid/detergent)  ( vegetables)  0.285338    0.773810\n",
            "10                          ( eggs)  ( vegetables)  0.307287    0.825472\n",
            "11                         ( flour)  ( vegetables)  0.266901    0.791667\n",
            "12                        ( fruits)  ( vegetables)  0.268657    0.759305\n",
            "13                     ( hand soap)  ( vegetables)  0.257243    0.773087\n",
            "14                     ( ice cream)  ( vegetables)  0.283582    0.752914\n",
            "15              ( individual meals)  ( vegetables)  0.272169    0.745192\n",
            "16                         ( juice)  ( vegetables)  0.278314    0.773171\n",
            "17                       ( ketchup)  ( vegetables)  0.275680    0.767726\n",
            "18             ( laundry detergent)  ( vegetables)  0.289728    0.800971\n",
            "19                    ( lunch meat)  ( vegetables)  0.294996    0.786885\n",
            "20                          ( milk)  ( vegetables)  0.275680    0.771499\n",
            "21                         ( mixes)  ( vegetables)  0.280948    0.761905\n",
            "22                  ( paper towels)  ( vegetables)  0.274802    0.788413\n",
            "23                         ( pasta)  ( vegetables)  0.266023    0.763224\n",
            "24                          ( pork)  ( vegetables)  0.256365    0.752577\n",
            "25                       ( poultry)  ( vegetables)  0.314311    0.785088\n",
            "26                 ( sandwich bags)  ( vegetables)  0.272169    0.782828\n",
            "27               ( sandwich loaves)  ( vegetables)  0.266901    0.791667\n",
            "28                       ( shampoo)  ( vegetables)  0.273924    0.774194\n",
            "29                          ( soap)  ( vegetables)  0.285338    0.770142\n",
            "30                          ( soda)  ( vegetables)  0.289728    0.771028\n",
            "31               ( spaghetti sauce)  ( vegetables)  0.276558    0.775862\n",
            "32                         ( sugar)  ( vegetables)  0.284460    0.814070\n",
            "33                  ( toilet paper)  ( vegetables)  0.268657    0.744526\n",
            "34                     ( tortillas)  ( vegetables)  0.261633    0.760204\n",
            "35                       ( waffles)  ( vegetables)  0.299385    0.793023\n",
            "36                        ( yogurt)  ( vegetables)  0.300263    0.818182\n",
            "37        ( poultry,  dinner rolls)  ( vegetables)  0.151888    0.839806\n"
          ]
        },
        {
          "output_type": "stream",
          "name": "stderr",
          "text": [
            "/usr/local/lib/python3.10/dist-packages/ipykernel/ipkernel.py:283: DeprecationWarning: `should_run_async` will not call `transform_cell` automatically in the future. Please pass the result to `transformed_cell` argument and any exception that happen during thetransform in `preprocessing_exc_tuple` in IPython 7.17 and above.\n",
            "  and should_run_async(code)\n"
          ]
        }
      ]
    },
    {
      "cell_type": "markdown",
      "source": [
        "Case 2 (minimum support=0.3 and minimum confidence=0.7).\n",
        "\n",
        "Identify the Itemset and derive association rules.\n",
        "Expected Output:\n",
        "As per our rules with Min. Confidence of 70%"
      ],
      "metadata": {
        "id": "4pq2UJwAEWum"
      }
    },
    {
      "cell_type": "code",
      "source": [
        "# Apply Apriori algorithm to get frequent itemsets with a support of 0.3\n",
        "frequent_itemsets = apriori(data_onehot_df, min_support=0.3, use_colnames=True)\n",
        "\n",
        "# Generate association rules with a confidence of 0.7\n",
        "rules = association_rules(frequent_itemsets, metric=\"confidence\", min_threshold=0.7)\n",
        "\n",
        "# Display frequent itemsets and association rules\n",
        "print(\"Frequent Itemsets:\")\n",
        "print(frequent_itemsets)\n",
        "print(\"\\nAssociation Rules:\")\n",
        "print(rules[['antecedents', 'consequents', 'support', 'confidence']])\n"
      ],
      "metadata": {
        "colab": {
          "base_uri": "https://localhost:8080/"
        },
        "id": "RN9mkamMFUXm",
        "outputId": "93277734-dc1e-4116-9fb5-aa075e86b344"
      },
      "execution_count": 35,
      "outputs": [
        {
          "output_type": "stream",
          "name": "stdout",
          "text": [
            "Frequent Itemsets:\n",
            "     support                         itemsets\n",
            "0   0.360843                  ( all- purpose)\n",
            "1   0.366111                 ( aluminum foil)\n",
            "2   0.366989                        ( bagels)\n",
            "3   0.362599                          ( beef)\n",
            "4   0.352941                        ( butter)\n",
            "5   0.380158                       ( cereals)\n",
            "6   0.371378                       ( cheeses)\n",
            "7   0.370500                    ( coffee/tea)\n",
            "8   0.372256                  ( dinner rolls)\n",
            "9   0.368745  ( dishwashing liquid/detergent)\n",
            "10  0.372256                          ( eggs)\n",
            "11  0.337138                         ( flour)\n",
            "12  0.353819                        ( fruits)\n",
            "13  0.332748                     ( hand soap)\n",
            "14  0.376646                     ( ice cream)\n",
            "15  0.365233              ( individual meals)\n",
            "16  0.359965                         ( juice)\n",
            "17  0.359087                       ( ketchup)\n",
            "18  0.361721             ( laundry detergent)\n",
            "19  0.374890                    ( lunch meat)\n",
            "20  0.357331                          ( milk)\n",
            "21  0.368745                         ( mixes)\n",
            "22  0.348551                  ( paper towels)\n",
            "23  0.348551                         ( pasta)\n",
            "24  0.340650                          ( pork)\n",
            "25  0.400351                       ( poultry)\n",
            "26  0.347673                 ( sandwich bags)\n",
            "27  0.337138               ( sandwich loaves)\n",
            "28  0.353819                       ( shampoo)\n",
            "29  0.370500                          ( soap)\n",
            "30  0.375768                          ( soda)\n",
            "31  0.356453               ( spaghetti sauce)\n",
            "32  0.349429                         ( sugar)\n",
            "33  0.360843                  ( toilet paper)\n",
            "34  0.344162                     ( tortillas)\n",
            "35  0.715540                    ( vegetables)\n",
            "36  0.377524                       ( waffles)\n",
            "37  0.366989                        ( yogurt)\n",
            "38  0.307287             ( vegetables,  eggs)\n",
            "39  0.314311          ( poultry,  vegetables)\n",
            "40  0.300263           ( vegetables,  yogurt)\n",
            "\n",
            "Association Rules:\n",
            "  antecedents    consequents   support  confidence\n",
            "0     ( eggs)  ( vegetables)  0.307287    0.825472\n",
            "1  ( poultry)  ( vegetables)  0.314311    0.785088\n",
            "2   ( yogurt)  ( vegetables)  0.300263    0.818182\n"
          ]
        },
        {
          "output_type": "stream",
          "name": "stderr",
          "text": [
            "/usr/local/lib/python3.10/dist-packages/ipykernel/ipkernel.py:283: DeprecationWarning: `should_run_async` will not call `transform_cell` automatically in the future. Please pass the result to `transformed_cell` argument and any exception that happen during thetransform in `preprocessing_exc_tuple` in IPython 7.17 and above.\n",
            "  and should_run_async(code)\n"
          ]
        }
      ]
    },
    {
      "cell_type": "markdown",
      "source": [
        "Case 3 (minimum support=0.4 and minimum confidence=0.85)\n",
        "\n",
        "Identify the Itemset and derive association rules."
      ],
      "metadata": {
        "id": "RhOs0jgxEo9W"
      }
    },
    {
      "cell_type": "code",
      "source": [
        "# Apply Apriori algorithm to get frequent itemsets with a support of 0.4\n",
        "frequent_itemsets = apriori(data_onehot_df, min_support=0.4, use_colnames=True)\n",
        "\n",
        "# Generate association rules with a confidence of 0.85\n",
        "rules = association_rules(frequent_itemsets, metric=\"confidence\", min_threshold=0.85)\n",
        "\n",
        "# Display frequent itemsets and association rules\n",
        "print(\"Frequent Itemsets:\")\n",
        "print(frequent_itemsets)\n",
        "print(\"\\nAssociation Rules:\")\n",
        "print(rules[['antecedents', 'consequents', 'support', 'confidence']])\n"
      ],
      "metadata": {
        "colab": {
          "base_uri": "https://localhost:8080/"
        },
        "id": "6G19hjxRFVom",
        "outputId": "e643dfc1-7213-44a7-95f6-590dff7c2e7c"
      },
      "execution_count": 36,
      "outputs": [
        {
          "output_type": "stream",
          "name": "stdout",
          "text": [
            "Frequent Itemsets:\n",
            "    support       itemsets\n",
            "0  0.400351     ( poultry)\n",
            "1  0.715540  ( vegetables)\n",
            "\n",
            "Association Rules:\n",
            "Empty DataFrame\n",
            "Columns: [antecedents, consequents, support, confidence]\n",
            "Index: []\n"
          ]
        },
        {
          "output_type": "stream",
          "name": "stderr",
          "text": [
            "/usr/local/lib/python3.10/dist-packages/ipykernel/ipkernel.py:283: DeprecationWarning: `should_run_async` will not call `transform_cell` automatically in the future. Please pass the result to `transformed_cell` argument and any exception that happen during thetransform in `preprocessing_exc_tuple` in IPython 7.17 and above.\n",
            "  and should_run_async(code)\n"
          ]
        }
      ]
    }
  ]
}