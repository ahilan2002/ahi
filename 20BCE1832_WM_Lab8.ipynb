{
  "nbformat": 4,
  "nbformat_minor": 0,
  "metadata": {
    "colab": {
      "provenance": []
    },
    "kernelspec": {
      "name": "python3",
      "display_name": "Python 3"
    },
    "language_info": {
      "name": "python"
    }
  },
  "cells": [
    {
      "cell_type": "markdown",
      "source": [
        "**Harini S**\n",
        "**20BCE1832**\n",
        "WEB MINING LAB 8"
      ],
      "metadata": {
        "id": "1gNfTjIhkOze"
      }
    },
    {
      "cell_type": "markdown",
      "source": [
        "Question 1: Implement ID3 Decision Classifier in python without using any direct ML package for the play golf dataset"
      ],
      "metadata": {
        "id": "w6153rXwkOgw"
      }
    },
    {
      "cell_type": "code",
      "execution_count": 8,
      "metadata": {
        "id": "2smaFSuxgTNU"
      },
      "outputs": [],
      "source": [
        "#necessary packages\n",
        "import pandas as pd\n",
        "import numpy as np\n",
        "import math\n",
        "from graphviz import Digraph"
      ]
    },
    {
      "cell_type": "code",
      "source": [
        "#We first enter the given data into a pandas data frame and save it as a CSV file for easier access.\n",
        "data = [\n",
        "    ['Sunny', 'Hot', 'High', 'FALSE', 'No'],\n",
        "    ['Sunny', 'Hot', 'High', 'TRUE', 'No'],\n",
        "    ['Overcast', 'Hot', 'High', 'FALSE', 'Yes'],\n",
        "    ['Rain', 'Mild', 'High', 'FALSE', 'Yes'],\n",
        "    ['Rain', 'Cool', 'Normal', 'FALSE', 'Yes'],\n",
        "    ['Rain', 'Cool', 'Normal', 'TRUE', 'No'],\n",
        "    ['Overcast', 'Cool', 'Normal', 'TRUE', 'Yes'],\n",
        "    ['Sunny', 'Mild', 'High', 'FALSE', 'No'],\n",
        "    ['Sunny', 'Cool', 'Normal', 'FALSE', 'Yes'],\n",
        "    ['Rain', 'Mild', 'Normal', 'FALSE', 'Yes'],\n",
        "    ['Sunny', 'Mild', 'Normal', 'TRUE', 'Yes'],\n",
        "    ['Overcast', 'Mild', 'High', 'TRUE', 'Yes'],\n",
        "    ['Overcast', 'Hot', 'Normal', 'FALSE', 'Yes'],\n",
        "    ['Rain', 'Mild', 'High', 'TRUE', 'No']\n",
        "]\n",
        "\n",
        "columns = ['Outlook', 'Temperature', 'Humidity', 'Windy', 'Play']\n",
        "\n",
        "df = pd.DataFrame(data, columns=columns)\n",
        "df.to_csv('golf_data.csv', index=False)"
      ],
      "metadata": {
        "id": "SkMhM_BUgiR2"
      },
      "execution_count": 9,
      "outputs": []
    },
    {
      "cell_type": "code",
      "source": [
        "# Step 2: Load data from the CSV file\n",
        "def load_data():\n",
        "    data = pd.read_csv('golf_data.csv')\n",
        "    labels = data['Play'].unique()\n",
        "    attributes = data.columns[:-1].tolist()\n",
        "    total_samples = len(data)\n",
        "    return data, labels, attributes, total_samples\n",
        "\n",
        "# Call the function and print the results\n",
        "data, labels, attributes, total_samples = load_data()\n",
        "print(\"Data:\\n\", data)\n",
        "print(\"Labels:\", labels)\n",
        "print(\"Attributes:\", attributes)\n",
        "print(\"Total Samples:\", total_samples)"
      ],
      "metadata": {
        "colab": {
          "base_uri": "https://localhost:8080/"
        },
        "id": "NkjmjraogqrK",
        "outputId": "b46416e9-c0bc-4618-801b-ec408d591f45"
      },
      "execution_count": 10,
      "outputs": [
        {
          "output_type": "stream",
          "name": "stdout",
          "text": [
            "Data:\n",
            "      Outlook Temperature Humidity  Windy Play\n",
            "0      Sunny         Hot     High  False   No\n",
            "1      Sunny         Hot     High   True   No\n",
            "2   Overcast         Hot     High  False  Yes\n",
            "3       Rain        Mild     High  False  Yes\n",
            "4       Rain        Cool   Normal  False  Yes\n",
            "5       Rain        Cool   Normal   True   No\n",
            "6   Overcast        Cool   Normal   True  Yes\n",
            "7      Sunny        Mild     High  False   No\n",
            "8      Sunny        Cool   Normal  False  Yes\n",
            "9       Rain        Mild   Normal  False  Yes\n",
            "10     Sunny        Mild   Normal   True  Yes\n",
            "11  Overcast        Mild     High   True  Yes\n",
            "12  Overcast         Hot   Normal  False  Yes\n",
            "13      Rain        Mild     High   True   No\n",
            "Labels: ['No' 'Yes']\n",
            "Attributes: ['Outlook', 'Temperature', 'Humidity', 'Windy']\n",
            "Total Samples: 14\n"
          ]
        }
      ]
    },
    {
      "cell_type": "code",
      "source": [
        "#Step3: Calculate entropy\n",
        "def calculate_entropy(data):\n",
        "    unique_labels, label_counts = np.unique(data, return_counts=True)\n",
        "    proportions = label_counts / len(data)\n",
        "    entropy = -np.sum(proportions * np.log2(proportions))\n",
        "    return entropy\n",
        "\n",
        "# Example dataset (replace this with your actual dataset)\n",
        "data = [['Sunny', 'Hot', 'High', 'FALSE', 'No'],\n",
        "    ['Sunny', 'Hot', 'High', 'TRUE', 'No'],\n",
        "    ['Overcast', 'Hot', 'High', 'FALSE', 'Yes'],\n",
        "    ['Rain', 'Mild', 'High', 'FALSE', 'Yes'],\n",
        "    ['Rain', 'Cool', 'Normal', 'FALSE', 'Yes'],\n",
        "    ['Rain', 'Cool', 'Normal', 'TRUE', 'No'],\n",
        "    ['Overcast', 'Cool', 'Normal', 'TRUE', 'Yes'],\n",
        "    ['Sunny', 'Mild', 'High', 'FALSE', 'No'],\n",
        "    ['Sunny', 'Cool', 'Normal', 'FALSE', 'Yes'],\n",
        "    ['Rain', 'Mild', 'Normal', 'FALSE', 'Yes'],\n",
        "    ['Sunny', 'Mild', 'Normal', 'TRUE', 'Yes'],\n",
        "    ['Overcast', 'Mild', 'High', 'TRUE', 'Yes'],\n",
        "    ['Overcast', 'Hot', 'Normal', 'FALSE', 'Yes'],\n",
        "    ['Rain', 'Mild', 'High', 'TRUE', 'No']]\n",
        "\n",
        "# Calculate entropy\n",
        "entropy = calculate_entropy(data)\n",
        "\n",
        "# Print the result\n",
        "print(\"Entropy:\", entropy)"
      ],
      "metadata": {
        "colab": {
          "base_uri": "https://localhost:8080/"
        },
        "id": "c4miAgMdgtne",
        "outputId": "ecdd5b3c-a818-4f53-8064-eeefeb8d5a79"
      },
      "execution_count": 11,
      "outputs": [
        {
          "output_type": "stream",
          "name": "stdout",
          "text": [
            "Entropy: 6.0595770850200505\n"
          ]
        }
      ]
    },
    {
      "cell_type": "code",
      "source": [
        "#Step4: Calculate information gain function\n",
        "def calculate_information_gain(data, attribute):\n",
        "    # Calculate the entropy of the entire dataset\n",
        "    entropy_s = calculate_entropy(data['Play'])\n",
        "\n",
        "    # Calculate unique values of the chosen attribute\n",
        "    attribute_values = data[attribute].unique()\n",
        "\n",
        "    # Calculate the weighted entropy of the subsets after splitting by the attribute\n",
        "    for value in attribute_values:\n",
        "        subset = data[data[attribute] == value]['Play']\n",
        "        entropy_subset = calculate_entropy(subset)\n",
        "        weight = len(subset) / len(data)\n",
        "        entropy_s -= weight * entropy_subset\n",
        "\n",
        "    return entropy_s"
      ],
      "metadata": {
        "id": "Qhyf-SOeg2d_"
      },
      "execution_count": 12,
      "outputs": []
    },
    {
      "cell_type": "code",
      "source": [
        "data = pd.read_csv('golf_data.csv')"
      ],
      "metadata": {
        "id": "O7YY_Lgcg5c6"
      },
      "execution_count": 13,
      "outputs": []
    },
    {
      "cell_type": "code",
      "source": [
        "# Specify the attribute for which you want to calculate information gain\n",
        "attribute_to_check = 'Outlook'\n",
        "information_gain = calculate_information_gain(data, attribute_to_check)\n",
        "\n",
        "print(f\"Information Gain for attribute '{attribute_to_check}': {information_gain}\")"
      ],
      "metadata": {
        "colab": {
          "base_uri": "https://localhost:8080/"
        },
        "id": "6Im_kIqgg8QZ",
        "outputId": "7bc53679-c4a1-47f6-b84b-c4c4105215c7"
      },
      "execution_count": 14,
      "outputs": [
        {
          "output_type": "stream",
          "name": "stdout",
          "text": [
            "Information Gain for attribute 'Outlook': 0.24674981977443933\n"
          ]
        }
      ]
    },
    {
      "cell_type": "code",
      "source": [
        "# Specify the attribute for which you want to calculate information gain\n",
        "attribute_to_check = 'Temperature'\n",
        "information_gain = calculate_information_gain(data, attribute_to_check)\n",
        "\n",
        "print(f\"Information Gain for attribute '{attribute_to_check}': {information_gain}\")"
      ],
      "metadata": {
        "colab": {
          "base_uri": "https://localhost:8080/"
        },
        "id": "GkYOb_CEg_4-",
        "outputId": "b80e5e8b-9b33-40af-d844-5835e5899a5a"
      },
      "execution_count": 15,
      "outputs": [
        {
          "output_type": "stream",
          "name": "stdout",
          "text": [
            "Information Gain for attribute 'Temperature': 0.02922256565895487\n"
          ]
        }
      ]
    },
    {
      "cell_type": "code",
      "source": [
        "# Specify the attribute for which you want to calculate information gain\n",
        "attribute_to_check = 'Humidity'\n",
        "information_gain = calculate_information_gain(data, attribute_to_check)\n",
        "\n",
        "print(f\"Information Gain for attribute '{attribute_to_check}': {information_gain}\")"
      ],
      "metadata": {
        "colab": {
          "base_uri": "https://localhost:8080/"
        },
        "id": "6mWnd9MnhD6x",
        "outputId": "a754708d-6462-4f9c-df94-34f26d43b92b"
      },
      "execution_count": 16,
      "outputs": [
        {
          "output_type": "stream",
          "name": "stdout",
          "text": [
            "Information Gain for attribute 'Humidity': 0.15183550136234164\n"
          ]
        }
      ]
    },
    {
      "cell_type": "code",
      "source": [
        "# Specify the attribute for which you want to calculate information gain\n",
        "attribute_to_check = 'Windy'\n",
        "information_gain = calculate_information_gain(data, attribute_to_check)\n",
        "\n",
        "print(f\"Information Gain for attribute '{attribute_to_check}': {information_gain}\")"
      ],
      "metadata": {
        "colab": {
          "base_uri": "https://localhost:8080/"
        },
        "id": "xSL4XbWUhIH6",
        "outputId": "57118c88-9504-4739-df97-293c77c028df"
      },
      "execution_count": 18,
      "outputs": [
        {
          "output_type": "stream",
          "name": "stdout",
          "text": [
            "Information Gain for attribute 'Windy': 0.048127030408269544\n"
          ]
        }
      ]
    },
    {
      "cell_type": "code",
      "source": [
        "# Specify the attribute for which you want to calculate information gain\n",
        "attribute_to_check = 'Play'\n",
        "information_gain = calculate_information_gain(data, attribute_to_check)\n",
        "\n",
        "print(f\"Information Gain for attribute '{attribute_to_check}': {information_gain}\")"
      ],
      "metadata": {
        "colab": {
          "base_uri": "https://localhost:8080/"
        },
        "id": "H1rd4n4ChLYz",
        "outputId": "aa5489ed-c0a2-4150-f7e5-d1853591594d"
      },
      "execution_count": 19,
      "outputs": [
        {
          "output_type": "stream",
          "name": "stdout",
          "text": [
            "Information Gain for attribute 'Play': 0.9402859586706311\n"
          ]
        }
      ]
    },
    {
      "cell_type": "code",
      "source": [
        "#Step5:Select the best attribute function\n",
        "def select_best_attribute(data):\n",
        "    attributes = data.columns[:-1]\n",
        "    best_attribute = None\n",
        "    best_information_gain = -1\n",
        "\n",
        "    for attribute in attributes:\n",
        "        information_gain = calculate_information_gain(data, attribute)\n",
        "        if information_gain > best_information_gain:\n",
        "            best_information_gain = information_gain\n",
        "            best_attribute = attribute\n",
        "\n",
        "    return best_attribute\n",
        "best_split_attribute = select_best_attribute(data)\n",
        "print(f\"The best attribute for splitting is '{best_split_attribute}'\")"
      ],
      "metadata": {
        "colab": {
          "base_uri": "https://localhost:8080/"
        },
        "id": "lk_DnSeHhOg1",
        "outputId": "4984c3bf-81a7-45da-91c6-6e8ce78aa16f"
      },
      "execution_count": 20,
      "outputs": [
        {
          "output_type": "stream",
          "name": "stdout",
          "text": [
            "The best attribute for splitting is 'Outlook'\n"
          ]
        }
      ]
    },
    {
      "cell_type": "code",
      "source": [
        "#Step6:Data structure definition\n",
        "class TreeNode:\n",
        "    def __init__(self, attribute=None, label=None):\n",
        "        self.attribute = attribute  # The attribute to split on (for decision nodes)\n",
        "        self.label = label          # The class label (for leaf nodes)\n",
        "        self.children = {}          # Dictionary to store child nodes\n",
        "\n",
        "    def add_child(self, value, child_node):\n",
        "        self.children[value] = child_node"
      ],
      "metadata": {
        "id": "SvoHon8jhRWa"
      },
      "execution_count": 21,
      "outputs": []
    },
    {
      "cell_type": "code",
      "source": [
        "# Create decision node\n",
        "decision_node = TreeNode(attribute='Outlook')\n",
        "\n",
        "# Add child nodes\n",
        "sunny_child = TreeNode(label='No')\n",
        "overcast_child = TreeNode(label='Yes')\n",
        "\n",
        "decision_node.add_child('Sunny', sunny_child)\n",
        "decision_node.add_child('Overcast', overcast_child)\n",
        "\n",
        "# Create a leaf node\n",
        "leaf_node = TreeNode(label='Yes')"
      ],
      "metadata": {
        "id": "BIOQh9yxhUnE"
      },
      "execution_count": 22,
      "outputs": []
    },
    {
      "cell_type": "code",
      "source": [
        "# Step7: Recursive ID3 algorithm to build the decision tree\n",
        "def id3(data, depth=0, max_depth=None, min_samples_leaf=1):\n",
        "    # Check stopping criteria: If all samples have the same class or we reach the max depth\n",
        "    unique_labels = data['Play'].unique()\n",
        "    if len(unique_labels) == 1 or (max_depth is not None and depth >= max_depth) or len(data) < min_samples_leaf:\n",
        "        most_common_label = data['Play'].mode().iloc[0]\n",
        "        return TreeNode(label=most_common_label)\n",
        "\n",
        "    # Select the best attribute to split the data\n",
        "    best_attribute = select_best_attribute(data)\n",
        "\n",
        "    # Create a decision node for the best attribute\n",
        "    decision_node = TreeNode(attribute=best_attribute)\n",
        "\n",
        "    # Split the data based on the best attribute\n",
        "    attribute_values = data[best_attribute].unique()\n",
        "    for value in attribute_values:\n",
        "        subset = data[data[best_attribute] == value]\n",
        "        child_node = id3(subset, depth=depth + 1, max_depth=max_depth, min_samples_leaf=min_samples_leaf)\n",
        "        decision_node.add_child(value, child_node)\n",
        "\n",
        "    return decision_node\n",
        "\n",
        "# Build the decision tree with a maximum depth of 3 and a minimum of 2 samples per leaf\n",
        "tree = id3(data, max_depth=3, min_samples_leaf=2)"
      ],
      "metadata": {
        "id": "jb4x-iZPhXlo"
      },
      "execution_count": 23,
      "outputs": []
    },
    {
      "cell_type": "code",
      "source": [
        "# Step8: Function to make predictions using the decision tree\n",
        "def predict(tree, sample):\n",
        "    # Traverse the tree until a leaf node is reached\n",
        "    while tree.label is None:\n",
        "        attribute = tree.attribute\n",
        "        attribute_value = sample[attribute]\n",
        "\n",
        "        # Check if the attribute value exists in the children\n",
        "        if attribute_value not in tree.children:\n",
        "            # If not, return a default prediction (e.g., most common class label)\n",
        "            return tree.label\n",
        "\n",
        "        # Move to the child node based on the attribute value\n",
        "        tree = tree.children[attribute_value]\n",
        "\n",
        "    # Return the predicted class label (the label stored in the leaf node)\n",
        "    return tree.label\n",
        "\n",
        "# Example usage\n",
        "sample = {'Outlook': 'Sunny', 'Temperature': 'Hot', 'Humidity': 'High', 'Windy': 'FALSE'}\n",
        "predicted_label = predict(tree, sample)\n",
        "print(\"Predicted Label:\", predicted_label)"
      ],
      "metadata": {
        "colab": {
          "base_uri": "https://localhost:8080/"
        },
        "id": "sakymTAvhanc",
        "outputId": "cc016793-feea-4bae-bb6e-781c92856c55"
      },
      "execution_count": 24,
      "outputs": [
        {
          "output_type": "stream",
          "name": "stdout",
          "text": [
            "Predicted Label: No\n"
          ]
        }
      ]
    },
    {
      "cell_type": "code",
      "source": [
        "# Example usage\n",
        "sample = {'Outlook': 'Overcast', 'Temperature': 'Mild', 'Humidity': 'High', 'Windy': 'TRUE'}\n",
        "predicted_label = predict(tree, sample)\n",
        "print(\"Predicted Label:\", predicted_label)"
      ],
      "metadata": {
        "colab": {
          "base_uri": "https://localhost:8080/"
        },
        "id": "Th_91PcvheBF",
        "outputId": "cab8f4ba-54d9-4edf-8137-2c101c0d68b6"
      },
      "execution_count": 25,
      "outputs": [
        {
          "output_type": "stream",
          "name": "stdout",
          "text": [
            "Predicted Label: Yes\n"
          ]
        }
      ]
    },
    {
      "cell_type": "code",
      "source": [
        "from sklearn.metrics import accuracy_score\n",
        "# Step9: Function to evaluate the decision tree's accuracy\n",
        "def evaluate_tree(tree, dataset):\n",
        "    # Initialize lists to store actual and predicted labels\n",
        "    actual_labels = []\n",
        "    predicted_labels = []\n",
        "\n",
        "    # Iterate through the dataset\n",
        "    for index, row in dataset.iterrows():\n",
        "        sample = row.to_dict()  # Convert the row to a dictionary\n",
        "        actual_label = sample['Play']\n",
        "        predicted_label = predict(tree, sample)\n",
        "\n",
        "        actual_labels.append(actual_label)\n",
        "        predicted_labels.append(predicted_label)\n",
        "\n",
        "    # Calculate accuracy using scikit-learn's accuracy_score function\n",
        "    accuracy = accuracy_score(actual_labels, predicted_labels)\n",
        "    return accuracy\n",
        "# Build the decision tree (as previously defined)\n",
        "tree = id3(data, max_depth=3, min_samples_leaf=2)\n",
        "\n",
        "# Evaluate the decision tree on the same dataset for demonstration purposes\n",
        "accuracy = evaluate_tree(tree, data)\n",
        "print(\"Accuracy:\", accuracy)"
      ],
      "metadata": {
        "colab": {
          "base_uri": "https://localhost:8080/"
        },
        "id": "dBYf9olQhhO2",
        "outputId": "8765a5e2-5217-44f5-a743-d9b50b87bc5b"
      },
      "execution_count": 26,
      "outputs": [
        {
          "output_type": "stream",
          "name": "stdout",
          "text": [
            "Accuracy: 1.0\n"
          ]
        }
      ]
    },
    {
      "cell_type": "code",
      "source": [
        "# Step 10: Visualization\n",
        "def visualize_tree(node, dot=None):\n",
        "    if dot is None:\n",
        "        dot = Digraph(comment='Decision Tree', format='png', engine='dot', graph_attr={\"rankdir\": \"TB\"})\n",
        "        dot.attr(dpi=\"400\")  # Adjust DPI as needed\n",
        "\n",
        "    if node is None:\n",
        "        return\n",
        "\n",
        "    if node.label is not None:\n",
        "        dot.node(str(node.label), shape='ellipse')\n",
        "    else:\n",
        "        dot.node(str(node.attribute), shape='box')\n",
        "        for value, child in node.children.items():\n",
        "            if node.attribute is not None and child.attribute is not None:\n",
        "                dot.edge(str(node.attribute), str(child.attribute), label=str(value))\n",
        "            visualize_tree(child, dot)\n",
        "\n",
        "dot = Digraph(comment='Decision Tree')\n",
        "visualize_tree(tree, dot)\n",
        "dot.render('decision_tree', view=True)  # This will open the PNG image using the default viewer\n"
      ],
      "metadata": {
        "colab": {
          "base_uri": "https://localhost:8080/",
          "height": 35
        },
        "id": "sC7D0slAhk3o",
        "outputId": "dbb749a1-af24-4aed-9bed-810035d7883c"
      },
      "execution_count": 27,
      "outputs": [
        {
          "output_type": "execute_result",
          "data": {
            "text/plain": [
              "'decision_tree.pdf'"
            ],
            "application/vnd.google.colaboratory.intrinsic+json": {
              "type": "string"
            }
          },
          "metadata": {},
          "execution_count": 27
        }
      ]
    },
    {
      "cell_type": "markdown",
      "source": [
        "Question 2: Implement the Decision Tree Classifier using Sklearn library on Titanic Dataset."
      ],
      "metadata": {
        "id": "g0cNiC_0iPpU"
      }
    },
    {
      "cell_type": "markdown",
      "source": [
        "*Step 1:Load the Titanic Dataset and Save it as a CSV File:*"
      ],
      "metadata": {
        "id": "d5xJefrdmhm2"
      }
    },
    {
      "cell_type": "code",
      "source": [
        "import pandas as pd\n",
        "\n",
        "# Load the Titanic dataset into a pandas DataFrame\n",
        "df = pd.read_csv(\"titanic.csv\")\n",
        "\n",
        "# Save the DataFrame to a CSV file for easier access\n",
        "df.to_csv(\"titanic_data.csv\", index=False)\n"
      ],
      "metadata": {
        "id": "jXBBYs88iPSN"
      },
      "execution_count": 50,
      "outputs": []
    },
    {
      "cell_type": "code",
      "source": [
        "from google.colab import drive\n",
        "drive.mount('/content/drive')"
      ],
      "metadata": {
        "colab": {
          "base_uri": "https://localhost:8080/"
        },
        "id": "ZJHrq2lUiskg",
        "outputId": "e79513fe-145e-44f4-a04c-76ef224b5d78"
      },
      "execution_count": 29,
      "outputs": [
        {
          "output_type": "stream",
          "name": "stdout",
          "text": [
            "Drive already mounted at /content/drive; to attempt to forcibly remount, call drive.mount(\"/content/drive\", force_remount=True).\n"
          ]
        }
      ]
    },
    {
      "cell_type": "markdown",
      "source": [
        "*Step 2:Load the Data from the CSV File:*"
      ],
      "metadata": {
        "id": "wWU9yaXMmtI3"
      }
    },
    {
      "cell_type": "code",
      "source": [
        "df = pd.read_csv(\"titanic_data.csv\")"
      ],
      "metadata": {
        "id": "q7vsDL3UjX6Y"
      },
      "execution_count": 51,
      "outputs": []
    },
    {
      "cell_type": "markdown",
      "source": [
        "*Step 3:Preprocess the Data:*"
      ],
      "metadata": {
        "id": "TkTYs4Lrmu79"
      }
    },
    {
      "cell_type": "code",
      "source": [
        "# Check for null values\n",
        "df.isnull().sum()\n",
        "\n",
        "# Handle missing values (e.g., filling with mean/median or dropping columns)\n",
        "df['Age'].fillna(df['Age'].median(), inplace=True)\n",
        "df['Embarked'].fillna(df['Embarked'].mode()[0], inplace=True)\n",
        "\n",
        "# Label encoding for categorical columns (e.g., 'Sex', 'Embarked')\n",
        "from sklearn.preprocessing import LabelEncoder\n",
        "\n",
        "label_encoder = LabelEncoder()\n",
        "df['Sex'] = label_encoder.fit_transform(df['Sex'])\n",
        "df['Embarked'] = label_encoder.fit_transform(df['Embarked'])"
      ],
      "metadata": {
        "id": "L9pi9MDZjbF8"
      },
      "execution_count": 52,
      "outputs": []
    },
    {
      "cell_type": "markdown",
      "source": [
        "*Step 4:Feature Engineering*"
      ],
      "metadata": {
        "id": "V5vcNWYpjnyr"
      }
    },
    {
      "cell_type": "code",
      "source": [
        "#Family Size\n",
        "df['FamilySize'] = df['SibSp'] + df['Parch']"
      ],
      "metadata": {
        "id": "SWpRVRMWjh7H"
      },
      "execution_count": 32,
      "outputs": []
    },
    {
      "cell_type": "code",
      "source": [
        "#Title Extraction\n",
        "df['Title'] = df['Name'].str.extract(' ([A-Za-z]+)\\.', expand=False)"
      ],
      "metadata": {
        "id": "gpWbYeCWjqxz"
      },
      "execution_count": 33,
      "outputs": []
    },
    {
      "cell_type": "code",
      "source": [
        "#Age Binning\n",
        "bins = [0, 18, 35, 50, 100]\n",
        "labels = ['Child', 'Young Adult', 'Middle-Aged', 'Senior']\n",
        "df['AgeGroup'] = pd.cut(df['Age'], bins=bins, labels=labels)"
      ],
      "metadata": {
        "id": "eSakTAZFjy0p"
      },
      "execution_count": 34,
      "outputs": []
    },
    {
      "cell_type": "code",
      "source": [
        "#Fare Binning\n",
        "bins = [0, 25, 50, 100, 1000]\n",
        "labels = ['Low', 'Medium', 'High', 'Very High']\n",
        "df['FareGroup'] = pd.cut(df['Fare'], bins=bins, labels=labels)"
      ],
      "metadata": {
        "id": "x513VTWEj2bz"
      },
      "execution_count": 35,
      "outputs": []
    },
    {
      "cell_type": "code",
      "source": [
        "#Cabin letter\n",
        "df['CabinLetter'] = df['Cabin'].str[:1]"
      ],
      "metadata": {
        "id": "k5GnL3cmj56D"
      },
      "execution_count": 36,
      "outputs": []
    },
    {
      "cell_type": "code",
      "source": [
        "#Ticket Prefix\n",
        "df['TicketPrefix'] = df['Ticket'].apply(lambda x: x.split()[0] if len(x.split()) > 1 else 'NoPrefix')"
      ],
      "metadata": {
        "id": "Cr4abD4Sj9eV"
      },
      "execution_count": 37,
      "outputs": []
    },
    {
      "cell_type": "code",
      "source": [
        "#drop unnecessary columns\n",
        "df = df.drop(['Name', 'SibSp', 'Parch', 'Age', 'Fare', 'Cabin', 'Ticket'], axis=1)"
      ],
      "metadata": {
        "id": "13zQ8u2skBmn"
      },
      "execution_count": 38,
      "outputs": []
    },
    {
      "cell_type": "code",
      "source": [
        "# Encode categorical features with one-hot encoding\n",
        "df_encoded = pd.get_dummies(df, columns=['Sex', 'Embarked', 'Title', 'AgeGroup', 'FareGroup', 'CabinLetter', 'TicketPrefix'])"
      ],
      "metadata": {
        "id": "X-boFVYplwD9"
      },
      "execution_count": 41,
      "outputs": []
    },
    {
      "cell_type": "markdown",
      "source": [
        "*Step 5:Split the Dataset:*"
      ],
      "metadata": {
        "id": "UhLILHsOnIAU"
      }
    },
    {
      "cell_type": "code",
      "source": [
        "# Split the dataset\n",
        "X = df_encoded.drop('Survived', axis=1)\n",
        "y = df_encoded['Survived']\n",
        "X_train, X_test, y_train, y_test = train_test_split(X, y, test_size=0.2, random_state=42)"
      ],
      "metadata": {
        "id": "lbT1oprOlXz8"
      },
      "execution_count": 44,
      "outputs": []
    },
    {
      "cell_type": "code",
      "source": [
        "# Create and train a Decision Tree Classifier\n",
        "clf = DecisionTreeClassifier(random_state=42)\n",
        "clf.fit(X_train, y_train)"
      ],
      "metadata": {
        "colab": {
          "base_uri": "https://localhost:8080/",
          "height": 74
        },
        "id": "j0CCGm_glbKd",
        "outputId": "748bbc88-659d-4c46-a48f-1286e8c04b36"
      },
      "execution_count": 45,
      "outputs": [
        {
          "output_type": "execute_result",
          "data": {
            "text/plain": [
              "DecisionTreeClassifier(random_state=42)"
            ],
            "text/html": [
              "<style>#sk-container-id-1 {color: black;background-color: white;}#sk-container-id-1 pre{padding: 0;}#sk-container-id-1 div.sk-toggleable {background-color: white;}#sk-container-id-1 label.sk-toggleable__label {cursor: pointer;display: block;width: 100%;margin-bottom: 0;padding: 0.3em;box-sizing: border-box;text-align: center;}#sk-container-id-1 label.sk-toggleable__label-arrow:before {content: \"▸\";float: left;margin-right: 0.25em;color: #696969;}#sk-container-id-1 label.sk-toggleable__label-arrow:hover:before {color: black;}#sk-container-id-1 div.sk-estimator:hover label.sk-toggleable__label-arrow:before {color: black;}#sk-container-id-1 div.sk-toggleable__content {max-height: 0;max-width: 0;overflow: hidden;text-align: left;background-color: #f0f8ff;}#sk-container-id-1 div.sk-toggleable__content pre {margin: 0.2em;color: black;border-radius: 0.25em;background-color: #f0f8ff;}#sk-container-id-1 input.sk-toggleable__control:checked~div.sk-toggleable__content {max-height: 200px;max-width: 100%;overflow: auto;}#sk-container-id-1 input.sk-toggleable__control:checked~label.sk-toggleable__label-arrow:before {content: \"▾\";}#sk-container-id-1 div.sk-estimator input.sk-toggleable__control:checked~label.sk-toggleable__label {background-color: #d4ebff;}#sk-container-id-1 div.sk-label input.sk-toggleable__control:checked~label.sk-toggleable__label {background-color: #d4ebff;}#sk-container-id-1 input.sk-hidden--visually {border: 0;clip: rect(1px 1px 1px 1px);clip: rect(1px, 1px, 1px, 1px);height: 1px;margin: -1px;overflow: hidden;padding: 0;position: absolute;width: 1px;}#sk-container-id-1 div.sk-estimator {font-family: monospace;background-color: #f0f8ff;border: 1px dotted black;border-radius: 0.25em;box-sizing: border-box;margin-bottom: 0.5em;}#sk-container-id-1 div.sk-estimator:hover {background-color: #d4ebff;}#sk-container-id-1 div.sk-parallel-item::after {content: \"\";width: 100%;border-bottom: 1px solid gray;flex-grow: 1;}#sk-container-id-1 div.sk-label:hover label.sk-toggleable__label {background-color: #d4ebff;}#sk-container-id-1 div.sk-serial::before {content: \"\";position: absolute;border-left: 1px solid gray;box-sizing: border-box;top: 0;bottom: 0;left: 50%;z-index: 0;}#sk-container-id-1 div.sk-serial {display: flex;flex-direction: column;align-items: center;background-color: white;padding-right: 0.2em;padding-left: 0.2em;position: relative;}#sk-container-id-1 div.sk-item {position: relative;z-index: 1;}#sk-container-id-1 div.sk-parallel {display: flex;align-items: stretch;justify-content: center;background-color: white;position: relative;}#sk-container-id-1 div.sk-item::before, #sk-container-id-1 div.sk-parallel-item::before {content: \"\";position: absolute;border-left: 1px solid gray;box-sizing: border-box;top: 0;bottom: 0;left: 50%;z-index: -1;}#sk-container-id-1 div.sk-parallel-item {display: flex;flex-direction: column;z-index: 1;position: relative;background-color: white;}#sk-container-id-1 div.sk-parallel-item:first-child::after {align-self: flex-end;width: 50%;}#sk-container-id-1 div.sk-parallel-item:last-child::after {align-self: flex-start;width: 50%;}#sk-container-id-1 div.sk-parallel-item:only-child::after {width: 0;}#sk-container-id-1 div.sk-dashed-wrapped {border: 1px dashed gray;margin: 0 0.4em 0.5em 0.4em;box-sizing: border-box;padding-bottom: 0.4em;background-color: white;}#sk-container-id-1 div.sk-label label {font-family: monospace;font-weight: bold;display: inline-block;line-height: 1.2em;}#sk-container-id-1 div.sk-label-container {text-align: center;}#sk-container-id-1 div.sk-container {/* jupyter's `normalize.less` sets `[hidden] { display: none; }` but bootstrap.min.css set `[hidden] { display: none !important; }` so we also need the `!important` here to be able to override the default hidden behavior on the sphinx rendered scikit-learn.org. See: https://github.com/scikit-learn/scikit-learn/issues/21755 */display: inline-block !important;position: relative;}#sk-container-id-1 div.sk-text-repr-fallback {display: none;}</style><div id=\"sk-container-id-1\" class=\"sk-top-container\"><div class=\"sk-text-repr-fallback\"><pre>DecisionTreeClassifier(random_state=42)</pre><b>In a Jupyter environment, please rerun this cell to show the HTML representation or trust the notebook. <br />On GitHub, the HTML representation is unable to render, please try loading this page with nbviewer.org.</b></div><div class=\"sk-container\" hidden><div class=\"sk-item\"><div class=\"sk-estimator sk-toggleable\"><input class=\"sk-toggleable__control sk-hidden--visually\" id=\"sk-estimator-id-1\" type=\"checkbox\" checked><label for=\"sk-estimator-id-1\" class=\"sk-toggleable__label sk-toggleable__label-arrow\">DecisionTreeClassifier</label><div class=\"sk-toggleable__content\"><pre>DecisionTreeClassifier(random_state=42)</pre></div></div></div></div></div>"
            ]
          },
          "metadata": {},
          "execution_count": 45
        }
      ]
    },
    {
      "cell_type": "markdown",
      "source": [
        "*Step 6:Apply the Decision Tree Classifier:*"
      ],
      "metadata": {
        "id": "lIK1rdjVnPs3"
      }
    },
    {
      "cell_type": "code",
      "source": [
        "from sklearn.tree import DecisionTreeClassifier\n",
        "\n",
        "clf = DecisionTreeClassifier(random_state=42)\n",
        "clf.fit(X_train, y_train)"
      ],
      "metadata": {
        "colab": {
          "base_uri": "https://localhost:8080/",
          "height": 74
        },
        "id": "qP4yfjHjmT9D",
        "outputId": "a647380d-a0bf-4dd4-a88b-3d97d51b4231"
      },
      "execution_count": 46,
      "outputs": [
        {
          "output_type": "execute_result",
          "data": {
            "text/plain": [
              "DecisionTreeClassifier(random_state=42)"
            ],
            "text/html": [
              "<style>#sk-container-id-2 {color: black;background-color: white;}#sk-container-id-2 pre{padding: 0;}#sk-container-id-2 div.sk-toggleable {background-color: white;}#sk-container-id-2 label.sk-toggleable__label {cursor: pointer;display: block;width: 100%;margin-bottom: 0;padding: 0.3em;box-sizing: border-box;text-align: center;}#sk-container-id-2 label.sk-toggleable__label-arrow:before {content: \"▸\";float: left;margin-right: 0.25em;color: #696969;}#sk-container-id-2 label.sk-toggleable__label-arrow:hover:before {color: black;}#sk-container-id-2 div.sk-estimator:hover label.sk-toggleable__label-arrow:before {color: black;}#sk-container-id-2 div.sk-toggleable__content {max-height: 0;max-width: 0;overflow: hidden;text-align: left;background-color: #f0f8ff;}#sk-container-id-2 div.sk-toggleable__content pre {margin: 0.2em;color: black;border-radius: 0.25em;background-color: #f0f8ff;}#sk-container-id-2 input.sk-toggleable__control:checked~div.sk-toggleable__content {max-height: 200px;max-width: 100%;overflow: auto;}#sk-container-id-2 input.sk-toggleable__control:checked~label.sk-toggleable__label-arrow:before {content: \"▾\";}#sk-container-id-2 div.sk-estimator input.sk-toggleable__control:checked~label.sk-toggleable__label {background-color: #d4ebff;}#sk-container-id-2 div.sk-label input.sk-toggleable__control:checked~label.sk-toggleable__label {background-color: #d4ebff;}#sk-container-id-2 input.sk-hidden--visually {border: 0;clip: rect(1px 1px 1px 1px);clip: rect(1px, 1px, 1px, 1px);height: 1px;margin: -1px;overflow: hidden;padding: 0;position: absolute;width: 1px;}#sk-container-id-2 div.sk-estimator {font-family: monospace;background-color: #f0f8ff;border: 1px dotted black;border-radius: 0.25em;box-sizing: border-box;margin-bottom: 0.5em;}#sk-container-id-2 div.sk-estimator:hover {background-color: #d4ebff;}#sk-container-id-2 div.sk-parallel-item::after {content: \"\";width: 100%;border-bottom: 1px solid gray;flex-grow: 1;}#sk-container-id-2 div.sk-label:hover label.sk-toggleable__label {background-color: #d4ebff;}#sk-container-id-2 div.sk-serial::before {content: \"\";position: absolute;border-left: 1px solid gray;box-sizing: border-box;top: 0;bottom: 0;left: 50%;z-index: 0;}#sk-container-id-2 div.sk-serial {display: flex;flex-direction: column;align-items: center;background-color: white;padding-right: 0.2em;padding-left: 0.2em;position: relative;}#sk-container-id-2 div.sk-item {position: relative;z-index: 1;}#sk-container-id-2 div.sk-parallel {display: flex;align-items: stretch;justify-content: center;background-color: white;position: relative;}#sk-container-id-2 div.sk-item::before, #sk-container-id-2 div.sk-parallel-item::before {content: \"\";position: absolute;border-left: 1px solid gray;box-sizing: border-box;top: 0;bottom: 0;left: 50%;z-index: -1;}#sk-container-id-2 div.sk-parallel-item {display: flex;flex-direction: column;z-index: 1;position: relative;background-color: white;}#sk-container-id-2 div.sk-parallel-item:first-child::after {align-self: flex-end;width: 50%;}#sk-container-id-2 div.sk-parallel-item:last-child::after {align-self: flex-start;width: 50%;}#sk-container-id-2 div.sk-parallel-item:only-child::after {width: 0;}#sk-container-id-2 div.sk-dashed-wrapped {border: 1px dashed gray;margin: 0 0.4em 0.5em 0.4em;box-sizing: border-box;padding-bottom: 0.4em;background-color: white;}#sk-container-id-2 div.sk-label label {font-family: monospace;font-weight: bold;display: inline-block;line-height: 1.2em;}#sk-container-id-2 div.sk-label-container {text-align: center;}#sk-container-id-2 div.sk-container {/* jupyter's `normalize.less` sets `[hidden] { display: none; }` but bootstrap.min.css set `[hidden] { display: none !important; }` so we also need the `!important` here to be able to override the default hidden behavior on the sphinx rendered scikit-learn.org. See: https://github.com/scikit-learn/scikit-learn/issues/21755 */display: inline-block !important;position: relative;}#sk-container-id-2 div.sk-text-repr-fallback {display: none;}</style><div id=\"sk-container-id-2\" class=\"sk-top-container\"><div class=\"sk-text-repr-fallback\"><pre>DecisionTreeClassifier(random_state=42)</pre><b>In a Jupyter environment, please rerun this cell to show the HTML representation or trust the notebook. <br />On GitHub, the HTML representation is unable to render, please try loading this page with nbviewer.org.</b></div><div class=\"sk-container\" hidden><div class=\"sk-item\"><div class=\"sk-estimator sk-toggleable\"><input class=\"sk-toggleable__control sk-hidden--visually\" id=\"sk-estimator-id-2\" type=\"checkbox\" checked><label for=\"sk-estimator-id-2\" class=\"sk-toggleable__label sk-toggleable__label-arrow\">DecisionTreeClassifier</label><div class=\"sk-toggleable__content\"><pre>DecisionTreeClassifier(random_state=42)</pre></div></div></div></div></div>"
            ]
          },
          "metadata": {},
          "execution_count": 46
        }
      ]
    },
    {
      "cell_type": "markdown",
      "source": [
        "*Step 7:Hyperparameter Optimization:*"
      ],
      "metadata": {
        "id": "x9YueMFanU4r"
      }
    },
    {
      "cell_type": "code",
      "source": [
        "from sklearn.model_selection import GridSearchCV\n",
        "\n",
        "param_grid = {\n",
        "    'criterion': ['gini', 'entropy'],\n",
        "    'max_depth': [None, 10, 20, 30],\n",
        "    'min_samples_split': [2, 5, 10],\n",
        "    'min_samples_leaf': [1, 2, 4]\n",
        "}\n",
        "\n",
        "grid_search = GridSearchCV(clf, param_grid, cv=5, scoring='accuracy')\n",
        "grid_search.fit(X_train, y_train)\n",
        "\n",
        "best_params = grid_search.best_params_\n",
        "best_clf = grid_search.best_estimator_"
      ],
      "metadata": {
        "id": "xrLQNWZ8mXl0"
      },
      "execution_count": 47,
      "outputs": []
    },
    {
      "cell_type": "markdown",
      "source": [
        "*Step 8:Evaluation:*"
      ],
      "metadata": {
        "id": "mxZxdZFznXZ6"
      }
    },
    {
      "cell_type": "code",
      "source": [
        "from sklearn.metrics import accuracy_score, precision_score, recall_score, f1_score\n",
        "\n",
        "y_pred = best_clf.predict(X_test)\n",
        "\n",
        "accuracy = accuracy_score(y_test, y_pred)\n",
        "precision = precision_score(y_test, y_pred)\n",
        "recall = recall_score(y_test, y_pred)\n",
        "f1 = f1_score(y_test, y_pred)\n",
        "\n",
        "print(f\"Accuracy: {accuracy:.2f}\")\n",
        "print(f\"Precision: {precision:.2f}\")\n",
        "print(f\"Recall: {recall:.2f}\")\n",
        "print(f\"F1-Score: {f1:.2f}\")"
      ],
      "metadata": {
        "colab": {
          "base_uri": "https://localhost:8080/"
        },
        "id": "MEDQZszEmbJZ",
        "outputId": "29f40ed2-51e6-44ca-feb9-18f1e4f91e9a"
      },
      "execution_count": 48,
      "outputs": [
        {
          "output_type": "stream",
          "name": "stdout",
          "text": [
            "Accuracy: 1.00\n",
            "Precision: 1.00\n",
            "Recall: 1.00\n",
            "F1-Score: 1.00\n"
          ]
        }
      ]
    }
  ]
}